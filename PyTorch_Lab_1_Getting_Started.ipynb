{
  "nbformat": 4,
  "nbformat_minor": 0,
  "metadata": {
    "colab": {
      "name": "Copy of PyTorch Lab 1 - Getting Started.ipynb",
      "version": "0.3.2",
      "provenance": [],
      "collapsed_sections": [],
      "include_colab_link": true
    },
    "kernelspec": {
      "display_name": "Python 3",
      "language": "python",
      "name": "python3"
    }
  },
  "cells": [
    {
      "cell_type": "markdown",
      "metadata": {
        "id": "view-in-github",
        "colab_type": "text"
      },
      "source": [
        "<a href=\"https://colab.research.google.com/github/sabaiprimo/NECTEC-machine-learning/blob/master/PyTorch_Lab_1_Getting_Started.ipynb\" target=\"_parent\"><img src=\"https://colab.research.google.com/assets/colab-badge.svg\" alt=\"Open In Colab\"/></a>"
      ]
    },
    {
      "cell_type": "markdown",
      "metadata": {
        "id": "t_vi7CrJ1zRF",
        "colab_type": "text"
      },
      "source": [
        "# PyTorch Lab 1\n",
        "\n",
        "Written by Prachya Boonkwan (Arm)"
      ]
    },
    {
      "cell_type": "code",
      "metadata": {
        "id": "ZCjNTuFB2IG_",
        "colab_type": "code",
        "outputId": "9a706cb9-641b-438e-a3ff-aadf48357655",
        "colab": {
          "base_uri": "https://localhost:8080/",
          "height": 34
        }
      },
      "source": [
        "!pip install -q http://download.pytorch.org/whl/cpu/torch-1.1.0-cp36-cp36m-linux_x86_64.whl torchvision"
      ],
      "execution_count": 0,
      "outputs": [
        {
          "output_type": "stream",
          "text": [
            "\u001b[K     |████████████████████████████████| 101.2MB 78.7MB/s \n",
            "\u001b[?25h"
          ],
          "name": "stdout"
        }
      ]
    },
    {
      "cell_type": "markdown",
      "metadata": {
        "id": "o5f2HU-a1zRJ",
        "colab_type": "text"
      },
      "source": [
        "## Getting Started"
      ]
    },
    {
      "cell_type": "markdown",
      "metadata": {
        "id": "ZAkhU3R_1zRN",
        "colab_type": "text"
      },
      "source": [
        "Let's give it a try on PyTorch. We are going to do simple vector/matrix computation."
      ]
    },
    {
      "cell_type": "markdown",
      "metadata": {
        "id": "uhR4rM4i1zRT",
        "colab_type": "text"
      },
      "source": [
        "## Header"
      ]
    },
    {
      "cell_type": "markdown",
      "metadata": {
        "id": "0WTnpSgY1zRX",
        "colab_type": "text"
      },
      "source": [
        "This part is the header of the code. My favorite import aliases for PyTorch are as follows. This will be very useful for speed coding."
      ]
    },
    {
      "cell_type": "code",
      "metadata": {
        "id": "rV6R84KC1zRa",
        "colab_type": "code",
        "colab": {}
      },
      "source": [
        "#!/usr/bin/env python3\n",
        "#-*- coding: utf-8 -*-\n",
        "\n",
        "import torch as T\n",
        "import torch.nn as N\n",
        "import torch.optim as O"
      ],
      "execution_count": 0,
      "outputs": []
    },
    {
      "cell_type": "markdown",
      "metadata": {
        "id": "BkdDcDBX1zRn",
        "colab_type": "text"
      },
      "source": [
        "*TRICK:* You can partially type in a command and press `[TAB]` to complete it. In the following line, remove the comment sign `#`, then type in `T.FloatT` after the equal sign. Press `[TAB]` to see a dropdown list of available commands."
      ]
    },
    {
      "cell_type": "code",
      "metadata": {
        "id": "0Attks1-1zRq",
        "colab_type": "code",
        "colab": {}
      },
      "source": [
        "my_matrix = T.FloatTensor "
      ],
      "execution_count": 0,
      "outputs": []
    },
    {
      "cell_type": "markdown",
      "metadata": {
        "id": "SsyEVXLg1zRy",
        "colab_type": "text"
      },
      "source": [
        "------"
      ]
    },
    {
      "cell_type": "markdown",
      "metadata": {
        "id": "83INF2Rd1zR1",
        "colab_type": "text"
      },
      "source": [
        "## Vectors"
      ]
    },
    {
      "cell_type": "markdown",
      "metadata": {
        "id": "Tj_idqF_1zR3",
        "colab_type": "text"
      },
      "source": [
        "**0-Vector:** This is how we declare a vector. Let's begin with a 0-vector using the command `T.zeros`. For example, `T.zeros(3)` will create the vector $\\left[ \n",
        "\\begin{array}{ccc}\n",
        "    0 & 0 & 0\n",
        "\\end{array} \\right]$."
      ]
    },
    {
      "cell_type": "code",
      "metadata": {
        "id": "wIdD5_sS1zR5",
        "colab_type": "code",
        "outputId": "fba8a694-44a8-415a-bf6b-d5eea9ef4e67",
        "colab": {
          "base_uri": "https://localhost:8080/",
          "height": 34
        }
      },
      "source": [
        "vec1 = T.zeros(3)     # Change the number of elements for more fun.\n",
        "print(vec1)"
      ],
      "execution_count": 0,
      "outputs": [
        {
          "output_type": "stream",
          "text": [
            "tensor([0., 0., 0.])\n"
          ],
          "name": "stdout"
        }
      ]
    },
    {
      "cell_type": "markdown",
      "metadata": {
        "id": "EX4o0F-h1zSK",
        "colab_type": "text"
      },
      "source": [
        "**1-Vector:** This is how we declare a 1-vector with the command `T.ones`. For example, `T.ones(3)` will create the vector $\\left[ \n",
        "\\begin{array}{ccc}\n",
        "    1 & 1 & 1\n",
        "\\end{array} \\right]$."
      ]
    },
    {
      "cell_type": "code",
      "metadata": {
        "id": "bA5pwiRn1zSL",
        "colab_type": "code",
        "outputId": "47deb012-2e9b-47a1-8e6a-f0b59acf7c75",
        "colab": {
          "base_uri": "https://localhost:8080/",
          "height": 34
        }
      },
      "source": [
        "vec2 = T.ones(3)      # Change the number of elements for more fun.\n",
        "print(vec2)"
      ],
      "execution_count": 0,
      "outputs": [
        {
          "output_type": "stream",
          "text": [
            "tensor([1., 1., 1.])\n"
          ],
          "name": "stdout"
        }
      ]
    },
    {
      "cell_type": "markdown",
      "metadata": {
        "id": "NAcrYDpY1zST",
        "colab_type": "text"
      },
      "source": [
        "**Custom Vector:** We declare a custom vector with `T.FloatTensor`. Here is how we define the vector $\n",
        "\\left[ \\begin{array}{ccc}\n",
        "    1, 2, 3\n",
        "\\end{array} \\right]\n",
        "$."
      ]
    },
    {
      "cell_type": "code",
      "metadata": {
        "id": "oyzu9ryQ1zSU",
        "colab_type": "code",
        "outputId": "76e59646-3b48-422a-8892-23520ad1fd71",
        "colab": {
          "base_uri": "https://localhost:8080/",
          "height": 34
        }
      },
      "source": [
        "vec3 = T.FloatTensor([1.0, 2.0, 3.0])    # Add more elements for more fun.\n",
        "print(vec3)"
      ],
      "execution_count": 0,
      "outputs": [
        {
          "output_type": "stream",
          "text": [
            "tensor([1., 2., 3.])\n"
          ],
          "name": "stdout"
        }
      ]
    },
    {
      "cell_type": "markdown",
      "metadata": {
        "id": "g8f67D8mly3p",
        "colab_type": "text"
      },
      "source": [
        "**Size:** We can find the size of a vector with the method `size()`."
      ]
    },
    {
      "cell_type": "code",
      "metadata": {
        "id": "ERSbLaP_l44V",
        "colab_type": "code",
        "outputId": "c0aa6e00-0db8-4232-9eda-98bb7349a52f",
        "colab": {
          "base_uri": "https://localhost:8080/",
          "height": 34
        }
      },
      "source": [
        "print(vec3.size())"
      ],
      "execution_count": 0,
      "outputs": [
        {
          "output_type": "stream",
          "text": [
            "torch.Size([3])\n"
          ],
          "name": "stdout"
        }
      ]
    },
    {
      "cell_type": "markdown",
      "metadata": {
        "id": "avOiLSaT1zSc",
        "colab_type": "text"
      },
      "source": [
        "**Randomized Vector:** Randomized vectors can be defined with `T.randn`."
      ]
    },
    {
      "cell_type": "code",
      "metadata": {
        "id": "mK3HlP031zSd",
        "colab_type": "code",
        "outputId": "e6750ece-2e95-489b-d096-8410e7036a8c",
        "colab": {
          "base_uri": "https://localhost:8080/",
          "height": 34
        }
      },
      "source": [
        "vec4 = T.randn(3)\n",
        "print(vec4)"
      ],
      "execution_count": 0,
      "outputs": [
        {
          "output_type": "stream",
          "text": [
            "tensor([-0.6235, -2.0175,  1.1311])\n"
          ],
          "name": "stdout"
        }
      ]
    },
    {
      "cell_type": "markdown",
      "metadata": {
        "id": "CZeQXJUI1zSj",
        "colab_type": "text"
      },
      "source": [
        "**Indexing:** We can refer to an element in a vector by indexing `[]`. Note that the index starts with 0."
      ]
    },
    {
      "cell_type": "code",
      "metadata": {
        "id": "guT8m__81zSj",
        "colab_type": "code",
        "outputId": "08741ca3-9aed-4f0f-f5d0-e2b7a3ceffec",
        "colab": {
          "base_uri": "https://localhost:8080/",
          "height": 34
        }
      },
      "source": [
        "print(vec3[1])           # the second element"
      ],
      "execution_count": 0,
      "outputs": [
        {
          "output_type": "stream",
          "text": [
            "tensor(2.)\n"
          ],
          "name": "stdout"
        }
      ]
    },
    {
      "cell_type": "code",
      "metadata": {
        "id": "wkV4C1HM1zSo",
        "colab_type": "code",
        "outputId": "22e928a6-9a62-48c0-c377-82d4b1671693",
        "colab": {
          "base_uri": "https://localhost:8080/",
          "height": 34
        }
      },
      "source": [
        "print(vec3[2])           # the third element"
      ],
      "execution_count": 0,
      "outputs": [
        {
          "output_type": "stream",
          "text": [
            "tensor(3.)\n"
          ],
          "name": "stdout"
        }
      ]
    },
    {
      "cell_type": "code",
      "metadata": {
        "id": "ny7CZCgR1zSt",
        "colab_type": "code",
        "outputId": "043dcb93-e0ee-4ca8-9d10-9c17553cf120",
        "colab": {
          "base_uri": "https://localhost:8080/",
          "height": 164
        }
      },
      "source": [
        " print(vec3[20])          # This will cause an error message due to out-of-bounds indexing"
      ],
      "execution_count": 0,
      "outputs": [
        {
          "output_type": "error",
          "ename": "IndexError",
          "evalue": "ignored",
          "traceback": [
            "\u001b[0;31m---------------------------------------------------------------------------\u001b[0m",
            "\u001b[0;31mIndexError\u001b[0m                                Traceback (most recent call last)",
            "\u001b[0;32m<ipython-input-14-8f5e7d5c5a1e>\u001b[0m in \u001b[0;36m<module>\u001b[0;34m()\u001b[0m\n\u001b[0;32m----> 1\u001b[0;31m \u001b[0mprint\u001b[0m\u001b[0;34m(\u001b[0m\u001b[0mvec3\u001b[0m\u001b[0;34m[\u001b[0m\u001b[0;36m20\u001b[0m\u001b[0;34m]\u001b[0m\u001b[0;34m)\u001b[0m          \u001b[0;31m# This will cause an error message due to out-of-bounds indexing\u001b[0m\u001b[0;34m\u001b[0m\u001b[0;34m\u001b[0m\u001b[0m\n\u001b[0m",
            "\u001b[0;31mIndexError\u001b[0m: index 20 is out of bounds for dimension 0 with size 3"
          ]
        }
      ]
    },
    {
      "cell_type": "markdown",
      "metadata": {
        "id": "ttUGiKb91zSy",
        "colab_type": "text"
      },
      "source": [
        "**Element Setting:** We can also set the value of a vector's element by indexing `[]`. For example, let's set the second element of `vec3` to be 100."
      ]
    },
    {
      "cell_type": "code",
      "metadata": {
        "id": "PBDirCi31zSz",
        "colab_type": "code",
        "outputId": "a18a2ff9-2ecd-434c-c911-cd8ca28208d1",
        "colab": {
          "base_uri": "https://localhost:8080/",
          "height": 51
        }
      },
      "source": [
        "vec5 = T.FloatTensor([1.0, 2.0, 3.0])\n",
        "\n",
        "print('Before: vec5 = {}'.format(vec5))\n",
        "vec5[1] = 100            # Set the second element to be 100.\n",
        "print('After : vec5 = {}'.format(vec5))"
      ],
      "execution_count": 0,
      "outputs": [
        {
          "output_type": "stream",
          "text": [
            "Before: vec5 = tensor([1., 2., 3.])\n",
            "After : vec5 = tensor([  1., 100.,   3.])\n"
          ],
          "name": "stdout"
        }
      ]
    },
    {
      "cell_type": "markdown",
      "metadata": {
        "id": "QkdF2VMR1zS4",
        "colab_type": "text"
      },
      "source": [
        "-----"
      ]
    },
    {
      "cell_type": "markdown",
      "metadata": {
        "id": "Mok7z2CP1zS5",
        "colab_type": "text"
      },
      "source": [
        "## Matrices"
      ]
    },
    {
      "cell_type": "markdown",
      "metadata": {
        "id": "dJoD-qPO1zS6",
        "colab_type": "text"
      },
      "source": [
        "**0-Vector:** This is how we declare a matrix. A 0-matrix can again be defined with `T.zeros`, but this time we identify the size of each dimension, too. For example, `T.zeros(3, 4)` will create the matrix\n",
        "\n",
        "$$\\left[ \n",
        "\\begin{array}{cccc}\n",
        "    0 & 0 & 0 & 0 \\\\\n",
        "    0 & 0 & 0 & 0 \\\\\n",
        "    0 & 0 & 0 & 0\n",
        "\\end{array} \\right]_{3 \\times 4}\n",
        "$$"
      ]
    },
    {
      "cell_type": "code",
      "metadata": {
        "id": "-VHXMFHi1zS7",
        "colab_type": "code",
        "outputId": "3b3ca07e-e302-4c5e-fcdb-14614c525980",
        "colab": {
          "base_uri": "https://localhost:8080/",
          "height": 68
        }
      },
      "source": [
        "mat1 = T.zeros(3, 4)     # Change the number of elements on any dimension.\n",
        "print(mat1)"
      ],
      "execution_count": 0,
      "outputs": [
        {
          "output_type": "stream",
          "text": [
            "tensor([[0., 0., 0., 0.],\n",
            "        [0., 0., 0., 0.],\n",
            "        [0., 0., 0., 0.]])\n"
          ],
          "name": "stdout"
        }
      ]
    },
    {
      "cell_type": "markdown",
      "metadata": {
        "id": "i4h4lg6V1zS_",
        "colab_type": "text"
      },
      "source": [
        "**1-Vector:** We define a 1-matrix with `T.ones` in the same fashion. For example, `T.ones(3, 4)` will create the matrix\n",
        "\n",
        "$$\\left[ \n",
        "\\begin{array}{cccc}\n",
        "    1 & 1 & 1 & 1 \\\\\n",
        "    1 & 1 & 1 & 1 \\\\\n",
        "    1 & 1 & 1 & 1\n",
        "\\end{array} \\right]_{3 \\times 4}\n",
        "$$"
      ]
    },
    {
      "cell_type": "code",
      "metadata": {
        "id": "kp53VWKT1zTA",
        "colab_type": "code",
        "outputId": "6961d505-207f-40ec-c5e3-6ea078658300",
        "colab": {
          "base_uri": "https://localhost:8080/",
          "height": 68
        }
      },
      "source": [
        "mat2 = T.ones(3, 4)      # Change the number of elements on any dimension.\n",
        "print(mat2)"
      ],
      "execution_count": 0,
      "outputs": [
        {
          "output_type": "stream",
          "text": [
            "tensor([[1., 1., 1., 1.],\n",
            "        [1., 1., 1., 1.],\n",
            "        [1., 1., 1., 1.]])\n"
          ],
          "name": "stdout"
        }
      ]
    },
    {
      "cell_type": "markdown",
      "metadata": {
        "id": "4862JUUu1zTE",
        "colab_type": "text"
      },
      "source": [
        "**Identity Matrix:** This is how you define an identity matrix with `T.eye`. For example, `T.eye(3)` will create the 3-dimensional identity matrix\n",
        "\n",
        "$$\\left[ \n",
        "\\begin{array}{ccc}\n",
        "    1 & 0 & 0 \\\\\n",
        "    0 & 1 & 0 \\\\\n",
        "    0 & 0 & 1\n",
        "\\end{array} \\right]_{3 \\times 3}\n",
        "$$"
      ]
    },
    {
      "cell_type": "code",
      "metadata": {
        "id": "E7R0wg1b1zTF",
        "colab_type": "code",
        "outputId": "a13e755e-a5b2-4875-92b3-b29f65fe92f3",
        "colab": {
          "base_uri": "https://localhost:8080/",
          "height": 68
        }
      },
      "source": [
        "mat3 = T.eye(3, 4)       # Change the number of elements on any dimension.\n",
        "print(mat3)"
      ],
      "execution_count": 0,
      "outputs": [
        {
          "output_type": "stream",
          "text": [
            "tensor([[1., 0., 0., 0.],\n",
            "        [0., 1., 0., 0.],\n",
            "        [0., 0., 1., 0.]])\n"
          ],
          "name": "stdout"
        }
      ]
    },
    {
      "cell_type": "markdown",
      "metadata": {
        "id": "Or_M7AFG1zTR",
        "colab_type": "text"
      },
      "source": [
        "**Randomized Matrix:** We define a randomized matrix with `T.randn`."
      ]
    },
    {
      "cell_type": "code",
      "metadata": {
        "id": "WcBkP-F71zTS",
        "colab_type": "code",
        "outputId": "ddca223a-ed67-4cb7-9cf1-2cef5b6d0b2d",
        "colab": {
          "base_uri": "https://localhost:8080/",
          "height": 68
        }
      },
      "source": [
        "mat_rand = T.randn(3, 4)        # Change the number of elements on any dimension.\n",
        "print(mat_rand)"
      ],
      "execution_count": 0,
      "outputs": [
        {
          "output_type": "stream",
          "text": [
            "tensor([[-0.2905, -0.1894, -1.5575,  0.5872],\n",
            "        [ 0.1855,  1.1796,  0.2640, -0.8521],\n",
            "        [ 0.7251, -1.9191,  0.1345,  0.0563]])\n"
          ],
          "name": "stdout"
        }
      ]
    },
    {
      "cell_type": "markdown",
      "metadata": {
        "id": "kKxCIwcf1zTL",
        "colab_type": "text"
      },
      "source": [
        "**Custom Matrix:** A custom matrix can be defined with `T.FloatTensor`. Notice that a 2-dimensional matrix is just a list of lists. Here we define the matrix\n",
        "\n",
        "$$\n",
        "\\left[ \\begin{array}{ccc}\n",
        "    1 & 2 & 3 \\\\\n",
        "    4 & 5 & 6\n",
        "\\end{array} \\right]_{2 \\times 3}\n",
        "$$\n",
        "\n",
        "Each row becomes a list. For example, the first row becomes `[1, 2, 3]`, and the second row, `[4, 5, 6]`."
      ]
    },
    {
      "cell_type": "code",
      "metadata": {
        "id": "oU_l56By1zTM",
        "colab_type": "code",
        "outputId": "ba00b692-6762-431a-cfe7-ef20acecf6cc",
        "colab": {
          "base_uri": "https://localhost:8080/",
          "height": 51
        }
      },
      "source": [
        "# Play with the elements, rows, or columns for more fun.\n",
        "mat4 = T.FloatTensor( [ [1, 2, 3],\n",
        "                        [4, 5, 6] ] )\n",
        "print(mat4)"
      ],
      "execution_count": 0,
      "outputs": [
        {
          "output_type": "stream",
          "text": [
            "tensor([[1., 2., 3.],\n",
            "        [4., 5., 6.]])\n"
          ],
          "name": "stdout"
        }
      ]
    },
    {
      "cell_type": "markdown",
      "metadata": {
        "id": "vqLWacfmmAGb",
        "colab_type": "text"
      },
      "source": [
        "**Size:** We can also find the size of a matrix with the method `size()`."
      ]
    },
    {
      "cell_type": "code",
      "metadata": {
        "id": "Ptrvcsc3mIR2",
        "colab_type": "code",
        "outputId": "8cf11906-23b8-40dd-dbfb-40029802c576",
        "colab": {
          "base_uri": "https://localhost:8080/",
          "height": 34
        }
      },
      "source": [
        "print(mat4.size())"
      ],
      "execution_count": 0,
      "outputs": [
        {
          "output_type": "stream",
          "text": [
            "torch.Size([2, 3])\n"
          ],
          "name": "stdout"
        }
      ]
    },
    {
      "cell_type": "markdown",
      "metadata": {
        "id": "aEEq17wP1zTX",
        "colab_type": "text"
      },
      "source": [
        "**Cell Indexing and Setting:** We can refer to a particular cell of a matrix by indexing `[]`."
      ]
    },
    {
      "cell_type": "code",
      "metadata": {
        "id": "ZFCPyz311zTY",
        "colab_type": "code",
        "outputId": "ec80ef90-4a59-43fb-ee53-f2f8c59c9d43",
        "colab": {
          "base_uri": "https://localhost:8080/",
          "height": 34
        }
      },
      "source": [
        "print(mat4[0,1])            # cell (1,2)"
      ],
      "execution_count": 0,
      "outputs": [
        {
          "output_type": "stream",
          "text": [
            "tensor(2.)\n"
          ],
          "name": "stdout"
        }
      ]
    },
    {
      "cell_type": "code",
      "metadata": {
        "id": "BYEO2joc1zTc",
        "colab_type": "code",
        "outputId": "4cb97a99-4f99-48d6-bc60-6c2059069d58",
        "colab": {
          "base_uri": "https://localhost:8080/",
          "height": 34
        }
      },
      "source": [
        "print(mat4[1,2])            # cell (2,3)"
      ],
      "execution_count": 0,
      "outputs": [
        {
          "output_type": "stream",
          "text": [
            "tensor(6.)\n"
          ],
          "name": "stdout"
        }
      ]
    },
    {
      "cell_type": "code",
      "metadata": {
        "id": "uSs9cF4c1zTg",
        "colab_type": "code",
        "outputId": "29ba1da1-2256-4381-e1cd-44939106db09",
        "colab": {
          "base_uri": "https://localhost:8080/",
          "height": 119
        }
      },
      "source": [
        "mat4 = T.FloatTensor( [ [1, 2, 3],\n",
        "                        [4, 5, 6] ] )\n",
        "\n",
        "print('Before: mat4 =\\n{}'.format(mat4))\n",
        "mat4[1,2] = 100             # Set the value of cell (2,3) to be 100.\n",
        "print('After : mat4 =\\n{}'.format(mat4))"
      ],
      "execution_count": 0,
      "outputs": [
        {
          "output_type": "stream",
          "text": [
            "Before: mat4 =\n",
            "tensor([[1., 2., 3.],\n",
            "        [4., 5., 6.]])\n",
            "After : mat4 =\n",
            "tensor([[  1.,   2.,   3.],\n",
            "        [  4.,   5., 100.]])\n"
          ],
          "name": "stdout"
        }
      ]
    },
    {
      "cell_type": "markdown",
      "metadata": {
        "id": "9o_PV9Xh1zTk",
        "colab_type": "text"
      },
      "source": [
        "**Row Indexing:** We can index a row of a matrix by `[]`, too."
      ]
    },
    {
      "cell_type": "code",
      "metadata": {
        "id": "au8uAGgJ1zTl",
        "colab_type": "code",
        "outputId": "39d148cb-0f79-4294-b826-cc3420fec4db",
        "colab": {
          "base_uri": "https://localhost:8080/",
          "height": 51
        }
      },
      "source": [
        "mat5 = T.FloatTensor( [ [1, 2, 3],\n",
        "                        [4, 5, 6] ] )\n",
        "\n",
        "print('row 1 of mat5 = {}'.format(mat5[0]))\n",
        "print('row 2 of mat5 = {}'.format(mat5[1]))"
      ],
      "execution_count": 0,
      "outputs": [
        {
          "output_type": "stream",
          "text": [
            "row 1 of mat5 = tensor([1., 2., 3.])\n",
            "row 2 of mat5 = tensor([4., 5., 6.])\n"
          ],
          "name": "stdout"
        }
      ]
    },
    {
      "cell_type": "markdown",
      "metadata": {
        "id": "WEPz1E1u1zTp",
        "colab_type": "text"
      },
      "source": [
        "**Row Setting:** Setting a row is as simple. For example, we can replace the first row of `mat5` by setting `mat5[0]` to be another vector."
      ]
    },
    {
      "cell_type": "code",
      "metadata": {
        "id": "QKjboPlV1zTq",
        "colab_type": "code",
        "outputId": "0aa718e3-ef71-4a64-e210-7ff46da825ae",
        "colab": {
          "base_uri": "https://localhost:8080/",
          "height": 119
        }
      },
      "source": [
        "mat5 = T.FloatTensor( [ [1, 2, 3],\n",
        "                        [4, 5, 6] ] )\n",
        "\n",
        "print('Before: mat5 =\\n{}'.format(mat5))\n",
        "mat5[0] = T.FloatTensor([7, 8, 9])\n",
        "print('After : mat5 =\\n{}'.format(mat5))"
      ],
      "execution_count": 0,
      "outputs": [
        {
          "output_type": "stream",
          "text": [
            "Before: mat5 =\n",
            "tensor([[1., 2., 3.],\n",
            "        [4., 5., 6.]])\n",
            "After : mat5 =\n",
            "tensor([[7., 8., 9.],\n",
            "        [4., 5., 6.]])\n"
          ],
          "name": "stdout"
        }
      ]
    },
    {
      "cell_type": "markdown",
      "metadata": {
        "id": "SOE_cmxV1zTt",
        "colab_type": "text"
      },
      "source": [
        "**Column Indexing:** We can also get access to a column of a matrix by replacing the row index with `:`."
      ]
    },
    {
      "cell_type": "code",
      "metadata": {
        "id": "pNMpb1ji1zTu",
        "colab_type": "code",
        "outputId": "064e755d-a684-4680-8776-30cdd75795e7",
        "colab": {
          "base_uri": "https://localhost:8080/",
          "height": 68
        }
      },
      "source": [
        "mat6 = T.FloatTensor( [ [1, 2, 3],\n",
        "                        [4, 5, 6] ] )\n",
        "\n",
        "print('column 1 of mat6 = {}'.format(mat6[:, 0]))\n",
        "print('column 2 of mat6 = {}'.format(mat6[:, 1]))\n",
        "print('column 3 of mat6 = {}'.format(mat6[:, 2]))"
      ],
      "execution_count": 0,
      "outputs": [
        {
          "output_type": "stream",
          "text": [
            "column 1 of mat6 = tensor([1., 4.])\n",
            "column 2 of mat6 = tensor([2., 5.])\n",
            "column 3 of mat6 = tensor([3., 6.])\n"
          ],
          "name": "stdout"
        }
      ]
    },
    {
      "cell_type": "markdown",
      "metadata": {
        "id": "rgr4ls1Y1zTx",
        "colab_type": "text"
      },
      "source": [
        "**Column Setting:** Setting a column can be as simple. For example, we can replace the first column of `mat6` by setting `mat6[:, 0]` to be another vector."
      ]
    },
    {
      "cell_type": "code",
      "metadata": {
        "id": "vTNLyBuj1zTx",
        "colab_type": "code",
        "outputId": "a317aead-a231-4223-b991-2aa70f17097b",
        "colab": {
          "base_uri": "https://localhost:8080/",
          "height": 119
        }
      },
      "source": [
        "mat6 = T.FloatTensor( [ [1, 2, 3],\n",
        "                        [4, 5, 6] ] )\n",
        "\n",
        "print('Before: mat6 =\\n{}'.format(mat6))\n",
        "mat6[:, 0] = T.FloatTensor([7, 8])\n",
        "print('After : mat6 =\\n{}'.format(mat6))"
      ],
      "execution_count": 0,
      "outputs": [
        {
          "output_type": "stream",
          "text": [
            "Before: mat6 =\n",
            "tensor([[1., 2., 3.],\n",
            "        [4., 5., 6.]])\n",
            "After : mat6 =\n",
            "tensor([[7., 2., 3.],\n",
            "        [8., 5., 6.]])\n"
          ],
          "name": "stdout"
        }
      ]
    },
    {
      "cell_type": "markdown",
      "metadata": {
        "id": "1wFXdfl-1zTz",
        "colab_type": "text"
      },
      "source": [
        "-----"
      ]
    },
    {
      "cell_type": "markdown",
      "metadata": {
        "id": "WNqZdH4b1zTz",
        "colab_type": "text"
      },
      "source": [
        "## Matrix Computation"
      ]
    },
    {
      "cell_type": "markdown",
      "metadata": {
        "id": "TvEtLIWZ1zT0",
        "colab_type": "text"
      },
      "source": [
        "In PyTorch, vectors and matrices are treated similarly. Therefore, we can apply mathematical operations such as addition and multiplication on vectors and matrices, given that they have identical sizes.\n",
        "\n",
        "Let me define two matrices for our short demonstration."
      ]
    },
    {
      "cell_type": "code",
      "metadata": {
        "id": "q7Fpitld1zT0",
        "colab_type": "code",
        "outputId": "5a6e98f2-ff13-4646-ab58-53cbe9516f57",
        "colab": {
          "base_uri": "https://localhost:8080/",
          "height": 119
        }
      },
      "source": [
        "m1 = T.FloatTensor( [ [1, 2, 3],\n",
        "                      [4, 5, 6] ] )\n",
        "m2 = T.FloatTensor( [ [ 7,  8,  9],\n",
        "                      [10, 11, 12] ] )\n",
        "print('m1 =\\n{}'.format(m1))\n",
        "print('m2 =\\n{}'.format(m2))"
      ],
      "execution_count": 0,
      "outputs": [
        {
          "output_type": "stream",
          "text": [
            "m1 =\n",
            "tensor([[1., 2., 3.],\n",
            "        [4., 5., 6.]])\n",
            "m2 =\n",
            "tensor([[ 7.,  8.,  9.],\n",
            "        [10., 11., 12.]])\n"
          ],
          "name": "stdout"
        }
      ]
    },
    {
      "cell_type": "markdown",
      "metadata": {
        "id": "X_TWw4Tj1zT2",
        "colab_type": "text"
      },
      "source": [
        "**Addition and Subtraction:** We use `+` and `-`, respectively."
      ]
    },
    {
      "cell_type": "markdown",
      "metadata": {
        "id": "TRc0Ek7s1zT3",
        "colab_type": "text"
      },
      "source": [
        "$$\n",
        "\\begin{eqnarray}\n",
        "\\left[ \\begin{array}{ccc}\n",
        "    1 & 2 & 3 \\\\\n",
        "    4 & 5 & 6\n",
        "\\end{array} \\right] + \\left[ \\begin{array}{ccc}\n",
        "    7 & 8 & 9 \\\\\n",
        "    10 & 11 & 12\n",
        "\\end{array} \\right] & = & \\left[ \\begin{array}{ccc}\n",
        "    8 & 10 & 12 \\\\\n",
        "    14 & 16 & 18\n",
        "\\end{array} \\right]\n",
        "\\end{eqnarray}\n",
        "$$"
      ]
    },
    {
      "cell_type": "code",
      "metadata": {
        "id": "I8vgbSOQ1zT3",
        "colab_type": "code",
        "outputId": "b6a3bec5-65f6-4020-ed06-f86ab1f6c6a1",
        "colab": {
          "base_uri": "https://localhost:8080/",
          "height": 68
        }
      },
      "source": [
        "m_add = m1 + m2\n",
        "print('m1 + m2\\n{}'.format(m_add))"
      ],
      "execution_count": 0,
      "outputs": [
        {
          "output_type": "stream",
          "text": [
            "m1 + m2\n",
            "tensor([[ 8., 10., 12.],\n",
            "        [14., 16., 18.]])\n"
          ],
          "name": "stdout"
        }
      ]
    },
    {
      "cell_type": "markdown",
      "metadata": {
        "id": "1JRPJXUz1zT6",
        "colab_type": "text"
      },
      "source": [
        "$$\n",
        "\\begin{eqnarray}\n",
        "\\left[ \\begin{array}{ccc}\n",
        "    7 & 8 & 9 \\\\\n",
        "    10 & 11 & 12\n",
        "\\end{array} \\right] - \\left[ \\begin{array}{ccc}\n",
        "    1 & 2 & 3 \\\\\n",
        "    4 & 5 & 6\n",
        "\\end{array} \\right] & = & \\left[ \\begin{array}{ccc}\n",
        "    6 & 6 & 6 \\\\\n",
        "    6 & 6 & 6\n",
        "\\end{array} \\right]\n",
        "\\end{eqnarray}\n",
        "$$"
      ]
    },
    {
      "cell_type": "code",
      "metadata": {
        "id": "yg8OReqZ1zT6",
        "colab_type": "code",
        "outputId": "76268183-1e2a-4255-9739-73710f7cbe07",
        "colab": {
          "base_uri": "https://localhost:8080/",
          "height": 68
        }
      },
      "source": [
        "m_sub = m2 - m1\n",
        "print('m2 - m1\\n{}'.format(m_sub))"
      ],
      "execution_count": 0,
      "outputs": [
        {
          "output_type": "stream",
          "text": [
            "m2 - m1\n",
            "tensor([[6., 6., 6.],\n",
            "        [6., 6., 6.]])\n"
          ],
          "name": "stdout"
        }
      ]
    },
    {
      "cell_type": "markdown",
      "metadata": {
        "id": "vKMlF0OX1zT8",
        "colab_type": "text"
      },
      "source": [
        "**Transpose**: We use the method `t()` to transpose a matrix.\n",
        "\n",
        "$$\n",
        "\\begin{eqnarray}\n",
        "\\left[ \\begin{array}{ccc}\n",
        "    1 & 2 & 3 \\\\\n",
        "    4 & 5 & 6\n",
        "\\end{array} \\right]^\\top & = & \\left[ \\begin{array}{cc}\n",
        "    1 & 4 \\\\\n",
        "    2 & 5 \\\\\n",
        "    3 & 6\n",
        "\\end{array} \\right]\n",
        "\\end{eqnarray}\n",
        "$$"
      ]
    },
    {
      "cell_type": "code",
      "metadata": {
        "id": "-os4G_O21zT8",
        "colab_type": "code",
        "outputId": "bdd3e7d7-fe0e-479c-ee8c-ef2e8f974385",
        "colab": {
          "base_uri": "https://localhost:8080/",
          "height": 85
        }
      },
      "source": [
        "m_trans = m1.t()\n",
        "print('transpose(m1)\\n{}'.format(m_trans))"
      ],
      "execution_count": 0,
      "outputs": [
        {
          "output_type": "stream",
          "text": [
            "transpose(m1)\n",
            "tensor([[1., 4.],\n",
            "        [2., 5.],\n",
            "        [3., 6.]])\n"
          ],
          "name": "stdout"
        }
      ]
    },
    {
      "cell_type": "markdown",
      "metadata": {
        "id": "WaIqm1e-1zT9",
        "colab_type": "text"
      },
      "source": [
        "**Scalar Multiplication:** We simply use the operator `*`."
      ]
    },
    {
      "cell_type": "markdown",
      "metadata": {
        "id": "hMEC2wrU1zT-",
        "colab_type": "text"
      },
      "source": [
        "$$\n",
        "\\begin{eqnarray}\n",
        "4 \\times \\left[ \\begin{array}{ccc}\n",
        "    1 & 2 & 3 \\\\\n",
        "    4 & 5 & 6\n",
        "\\end{array} \\right] & = & \\left[ \\begin{array}{ccc}\n",
        "    4 & 8 & 12 \\\\\n",
        "    16 & 20 & 24\n",
        "\\end{array} \\right]\n",
        "\\end{eqnarray}\n",
        "$$"
      ]
    },
    {
      "cell_type": "code",
      "metadata": {
        "id": "SVV9hBrG1zT_",
        "colab_type": "code",
        "outputId": "6a92803c-d9c8-4914-eb80-36f7409b9c2f",
        "colab": {
          "base_uri": "https://localhost:8080/",
          "height": 68
        }
      },
      "source": [
        "m_smult = 4 * m1\n",
        "print('4 × m1\\n{}'.format(m_smult))"
      ],
      "execution_count": 0,
      "outputs": [
        {
          "output_type": "stream",
          "text": [
            "4 × m1\n",
            "tensor([[ 4.,  8., 12.],\n",
            "        [16., 20., 24.]])\n"
          ],
          "name": "stdout"
        }
      ]
    },
    {
      "cell_type": "markdown",
      "metadata": {
        "id": "OzTMOYqG1zUC",
        "colab_type": "text"
      },
      "source": [
        "**Matrix Multiplication:** We use the method `matmul` of the first operand. Do *NOT* use the operator `*` as it is for element-wise multiplication.\n",
        "\n",
        "$$\n",
        "\\begin{eqnarray}\n",
        "\\left[ \\begin{array}{ccc}\n",
        "    1 & 2 & 3 \\\\\n",
        "    4 & 5 & 6\n",
        "\\end{array} \\right]_{2 \\times 3} \\times \\left[ \\begin{array}{cc}\n",
        "    7 & 10 \\\\\n",
        "    8 & 11 \\\\\n",
        "    9 & 12\n",
        "\\end{array} \\right]_{3 \\times 2} & = & \\left[ \\begin{array}{cc}\n",
        "    50 & 68 \\\\\n",
        "    122 & 167\n",
        "\\end{array} \\right]_{2 \\times 2}\n",
        "\\end{eqnarray}\n",
        "$$"
      ]
    },
    {
      "cell_type": "code",
      "metadata": {
        "id": "k81oSokF1zUC",
        "colab_type": "code",
        "outputId": "215c2fa1-7240-401c-9b5a-499ccd205c5c",
        "colab": {
          "base_uri": "https://localhost:8080/",
          "height": 68
        }
      },
      "source": [
        "m_mult = m1.matmul(m2.t())\n",
        "print('m1 × transpose(m2)\\n{}'.format(m_mult))"
      ],
      "execution_count": 0,
      "outputs": [
        {
          "output_type": "stream",
          "text": [
            "m1 × transpose(m2)\n",
            "tensor([[ 50.,  68.],\n",
            "        [122., 167.]])\n"
          ],
          "name": "stdout"
        }
      ]
    },
    {
      "cell_type": "markdown",
      "metadata": {
        "id": "QoKlZ8mU1zUE",
        "colab_type": "text"
      },
      "source": [
        "Notice that multiplication of `m1` and `m2` would not work due to dimension mismatch.\n",
        "\n",
        "$$\n",
        "\\left[ \\begin{array}{ccc}\n",
        "    1 & 2 & 3 \\\\\n",
        "    4 & 5 & 6\n",
        "\\end{array} \\right]_{2 \\times 3} \\times \\left[ \\begin{array}{ccc}\n",
        "    7 & 8 & 9 \\\\\n",
        "    10 & 11 & 12\n",
        "\\end{array} \\right]_{2 \\times 3}\n",
        "$$"
      ]
    },
    {
      "cell_type": "code",
      "metadata": {
        "id": "h3KoJ6td1zUE",
        "colab_type": "code",
        "outputId": "4d3b0dc6-eb97-4202-98d1-37cbacf40521",
        "colab": {
          "base_uri": "https://localhost:8080/",
          "height": 164
        }
      },
      "source": [
        " print(m1.matmul(m2))       # This will cause an error message."
      ],
      "execution_count": 0,
      "outputs": [
        {
          "output_type": "error",
          "ename": "RuntimeError",
          "evalue": "ignored",
          "traceback": [
            "\u001b[0;31m---------------------------------------------------------------------------\u001b[0m",
            "\u001b[0;31mRuntimeError\u001b[0m                              Traceback (most recent call last)",
            "\u001b[0;32m<ipython-input-35-3e0fc21fc5c3>\u001b[0m in \u001b[0;36m<module>\u001b[0;34m()\u001b[0m\n\u001b[0;32m----> 1\u001b[0;31m \u001b[0mprint\u001b[0m\u001b[0;34m(\u001b[0m\u001b[0mm1\u001b[0m\u001b[0;34m.\u001b[0m\u001b[0mmatmul\u001b[0m\u001b[0;34m(\u001b[0m\u001b[0mm2\u001b[0m\u001b[0;34m)\u001b[0m\u001b[0;34m)\u001b[0m       \u001b[0;31m# This will cause an error message.\u001b[0m\u001b[0;34m\u001b[0m\u001b[0;34m\u001b[0m\u001b[0m\n\u001b[0m",
            "\u001b[0;31mRuntimeError\u001b[0m: size mismatch, m1: [2 x 3], m2: [2 x 3] at /pytorch/aten/src/TH/generic/THTensorMath.cpp:2070"
          ]
        }
      ]
    },
    {
      "cell_type": "markdown",
      "metadata": {
        "id": "s3yC2MOZ1zUF",
        "colab_type": "text"
      },
      "source": [
        "**Element-wise Multiplication:** We use the operator `*` for element-wise multiplication.\n",
        "\n",
        "$$\n",
        "\\begin{eqnarray}\n",
        "\\left[ \\begin{array}{ccc}\n",
        "    1 & 2 & 3 \\\\\n",
        "    4 & 5 & 6\n",
        "\\end{array} \\right]_{2 \\times 3} \\otimes \\left[ \\begin{array}{ccc}\n",
        "    7 & 8 & 9 \\\\\n",
        "    10 & 11 & 12\n",
        "\\end{array} \\right]_{2 \\times 3} & = & \\left[ \\begin{array}{ccc}\n",
        "    7 & 16 & 27 \\\\\n",
        "    40 & 55 & 72\n",
        "\\end{array} \\right]_{2 \\times 3}\n",
        "\\end{eqnarray}\n",
        "$$"
      ]
    },
    {
      "cell_type": "code",
      "metadata": {
        "id": "KaJtvi781zUG",
        "colab_type": "code",
        "outputId": "8a1448df-914c-45f4-e4d5-af3dd55d3868",
        "colab": {
          "base_uri": "https://localhost:8080/",
          "height": 68
        }
      },
      "source": [
        "m_emult = m1 * m2\n",
        "print('m1 * m2\\n{}'.format(m_emult))"
      ],
      "execution_count": 0,
      "outputs": [
        {
          "output_type": "stream",
          "text": [
            "m1 * m2\n",
            "tensor([[ 7., 16., 27.],\n",
            "        [40., 55., 72.]])\n"
          ],
          "name": "stdout"
        }
      ]
    },
    {
      "cell_type": "markdown",
      "metadata": {
        "id": "7qHtzf0q1zUJ",
        "colab_type": "text"
      },
      "source": [
        "-----"
      ]
    },
    {
      "cell_type": "markdown",
      "metadata": {
        "id": "PYshfh5X1zUK",
        "colab_type": "text"
      },
      "source": [
        "## Exercises"
      ]
    },
    {
      "cell_type": "markdown",
      "metadata": {
        "id": "PXSpvbwT1zUK",
        "colab_type": "text"
      },
      "source": [
        "1. Define the following matrices and compute $\\mathbf{A} + \\mathbf{B} + 4 \\mathbf{C}$, where\n",
        "\n",
        "$$\n",
        "\\begin{eqnarray}\n",
        "    \\mathbf{A} & = & \\left[ \\begin{array}{ccc}\n",
        "        0 & 0 & 0 \\\\\n",
        "        0 & 0 & 0\n",
        "    \\end{array} \\right] \\\\\n",
        "    \\mathbf{B} & = & \\left[ \\begin{array}{ccc}\n",
        "        1 & 1 & 1 \\\\\n",
        "        1 & 1 & 1\n",
        "    \\end{array} \\right] \\\\\n",
        "    \\mathbf{C} & = & \\left[ \\begin{array}{ccc}\n",
        "        1 & 0 & 0 \\\\\n",
        "        0 & 1 & 0\n",
        "    \\end{array} \\right] \\\\\n",
        "\\end{eqnarray}\n",
        "$$"
      ]
    },
    {
      "cell_type": "code",
      "metadata": {
        "id": "qFhU4CuA1zUL",
        "colab_type": "code",
        "outputId": "2b1e2cd5-d75f-40f1-adc8-88cd39e8e68a",
        "colab": {
          "base_uri": "https://localhost:8080/",
          "height": 51
        }
      },
      "source": [
        "mat_a = T.zeros( 2 , 3 )        # Fill in these blanks\n",
        "mat_b = T.ones( 2 , 3 )         # Fill in these blanks\n",
        "mat_c = T.eye( 2 , 3 )          # Fill in these blanks\n",
        "result = mat_a + mat_b + (4*mat_c)       # Fill in this blank\n",
        "print(result)"
      ],
      "execution_count": 0,
      "outputs": [
        {
          "output_type": "stream",
          "text": [
            "tensor([[5., 1., 1.],\n",
            "        [1., 5., 1.]])\n"
          ],
          "name": "stdout"
        }
      ]
    },
    {
      "cell_type": "markdown",
      "metadata": {
        "id": "1u5_qDKn1zUM",
        "colab_type": "text"
      },
      "source": [
        "2. Compute $\\mathbf{A}^\\top \\times \\mathbf{A}$, where $\\mathbf{A}$ is a randomized vector of dimensions $(3, 4)$."
      ]
    },
    {
      "cell_type": "code",
      "metadata": {
        "id": "ZYRxKzAU1zUN",
        "colab_type": "code",
        "outputId": "5b2f0242-186f-4540-e618-9c55451611a7",
        "colab": {
          "base_uri": "https://localhost:8080/",
          "height": 85
        }
      },
      "source": [
        "mat_a = T.randn( 3 , 4 )        # Fill in these blanks\n",
        "result = (mat_a.t()).matmul(mat_a)     # Fill in this blank\n",
        "print(result)"
      ],
      "execution_count": 0,
      "outputs": [
        {
          "output_type": "stream",
          "text": [
            "tensor([[ 0.5978, -0.8644,  0.5673, -1.4598],\n",
            "        [-0.8644,  3.0778, -1.2078,  1.3694],\n",
            "        [ 0.5673, -1.2078,  4.0639, -1.4725],\n",
            "        [-1.4598,  1.3694, -1.4725,  3.8826]])\n"
          ],
          "name": "stdout"
        }
      ]
    },
    {
      "cell_type": "markdown",
      "metadata": {
        "id": "ghLzw4ef1zUO",
        "colab_type": "text"
      },
      "source": [
        "3. Compute $ \\left( \\mathbf{A} \\otimes \\mathbf{B} \\right)^\\top \\times \\mathbf{C}^\\top $, where $\\mathbf{A}$, $\\mathbf{B}$, and $\\mathbf{C}$ are randomized matrices of sizes (2, 3), (2, 3), and (3, 2), respectively."
      ]
    },
    {
      "cell_type": "code",
      "metadata": {
        "id": "0pWOZK4B1zUO",
        "colab_type": "code",
        "outputId": "2728af0d-1d42-4e45-cba9-52d8dcc146ab",
        "colab": {
          "base_uri": "https://localhost:8080/",
          "height": 68
        }
      },
      "source": [
        "mat_a = T.randn( 2 , 3 )        # Fill in these blanks\n",
        "mat_b = T.randn( 2 , 3 )        # Fill in these blanks\n",
        "mat_c = T.randn( 3 , 2 )        # Fill in these blanks\n",
        "result = (mat_a * mat_b).t().matmul(mat_c.t())      # Fill in this blank\n",
        "print(result)"
      ],
      "execution_count": 0,
      "outputs": [
        {
          "output_type": "stream",
          "text": [
            "tensor([[-0.4277, -3.0969,  2.3834],\n",
            "        [-2.2840, -0.7170,  0.9164],\n",
            "        [ 0.1014,  0.0951, -0.0879]])\n"
          ],
          "name": "stdout"
        }
      ]
    },
    {
      "cell_type": "markdown",
      "metadata": {
        "id": "39aj11IU1zUQ",
        "colab_type": "text"
      },
      "source": [
        "4. Compute $ \\mathbf{R} = \\mathbf{A}^\\top \\times \\mathbf{A} $, where $\\mathbf{A}$ is a randomized matrix of sizes (3, 4). Then replace the first column with a random vector."
      ]
    },
    {
      "cell_type": "code",
      "metadata": {
        "id": "Bqqs-2wQ1zUQ",
        "colab_type": "code",
        "outputId": "605c9763-a553-4aed-bead-daa86b685bf5",
        "colab": {
          "base_uri": "https://localhost:8080/",
          "height": 153
        }
      },
      "source": [
        "mat_a = T.randn( 3 , 4 )\n",
        "mat_r = mat_a.t().matmul(mat_a)\n",
        "print(mat_r)\n",
        "\n",
        "mat_r[ :  , 0 ] = T.randn(4)\n",
        "print(mat_r)"
      ],
      "execution_count": 0,
      "outputs": [
        {
          "output_type": "stream",
          "text": [
            "tensor([[ 5.3976, -3.4332,  2.0515, -6.1877],\n",
            "        [-3.4332,  2.3661, -1.1188,  3.5807],\n",
            "        [ 2.0515, -1.1188,  0.9762, -2.6529],\n",
            "        [-6.1877,  3.5807, -2.6529,  8.3373]])\n",
            "tensor([[ 0.7236, -3.4332,  2.0515, -6.1877],\n",
            "        [ 0.3354,  2.3661, -1.1188,  3.5807],\n",
            "        [-1.3991, -1.1188,  0.9762, -2.6529],\n",
            "        [ 0.6056,  3.5807, -2.6529,  8.3373]])\n"
          ],
          "name": "stdout"
        }
      ]
    },
    {
      "cell_type": "code",
      "metadata": {
        "id": "DUG1WRhi5roE",
        "colab_type": "code",
        "colab": {}
      },
      "source": [
        ""
      ],
      "execution_count": 0,
      "outputs": []
    }
  ]
}