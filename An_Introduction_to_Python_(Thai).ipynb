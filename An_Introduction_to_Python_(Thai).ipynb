{
  "nbformat": 4,
  "nbformat_minor": 0,
  "metadata": {
    "colab": {
      "name": "Copy of An Introduction to Python (Thai).ipynb",
      "version": "0.3.2",
      "provenance": [],
      "collapsed_sections": [],
      "include_colab_link": true
    },
    "kernelspec": {
      "display_name": "Python 3",
      "language": "python",
      "name": "python3"
    }
  },
  "cells": [
    {
      "cell_type": "markdown",
      "metadata": {
        "id": "view-in-github",
        "colab_type": "text"
      },
      "source": [
        "<a href=\"https://colab.research.google.com/github/sabaiprimo/NECTEC-machine-learning/blob/master/An_Introduction_to_Python_(Thai).ipynb\" target=\"_parent\"><img src=\"https://colab.research.google.com/assets/colab-badge.svg\" alt=\"Open In Colab\"/></a>"
      ]
    },
    {
      "cell_type": "markdown",
      "metadata": {
        "colab_type": "text",
        "id": "VBCKlrw7AWuU"
      },
      "source": [
        "# การโปรแกรมภาษา Python (ไพธอน) เบื้องต้น — http://tinyurl.com/y9wmkgj5"
      ]
    },
    {
      "cell_type": "markdown",
      "metadata": {
        "id": "TFs0ZirfQ9Ik",
        "colab_type": "text"
      },
      "source": [
        "ปรัชญา บุญขวัญ\n",
        "\n",
        "Email: `prachya.boonkwan@nectec.or.th`\n",
        "\n",
        "(C) December 2018"
      ]
    },
    {
      "cell_type": "markdown",
      "metadata": {
        "colab_type": "text",
        "id": "xsYxzbNfAmW_"
      },
      "source": [
        "## บทนำ\n",
        "\n",
        "- สำหรับวันนี้ เราจะมาหัดเขียนโปรแกรมภาษา Python กันครับ\n",
        "- ภาษา Python\n",
        "  - ภาษาโปรแกรมยอดนิยมสำหรับงานด้านวิทยาการข้อมูล (data science) และปัญญาประดิษฐ์ (artificial intelligence)\n",
        "  - เหมาะสำหรับผู้ที่เริ่มต้นเขียนโปรแกรม เพราะมีกฎเกณฑ์ของภาษาที่ไม่ซับซ้อน\n",
        "  - ตามปกติแล้ว นิสิตปี 4 ของภาควิชาวิทยาการคอมพิวเตอร์ สามารถเรียนรู้ได้ด้วยตัวเอง และเขียนโปรแกรมด้วยภาษา Python ได้ภายใน 3 ชั่วโมง\n",
        "\n",
        "- เนื้อหา\n",
        "  1. print\n",
        "  2. mathematical operations\n",
        "  3. variables\n",
        "  4. list\n",
        "  5. string\n",
        "  6. for loop\n",
        "  7. branching\n",
        "\n",
        "- ในคอร์สนี้ เราจะใช้ *การเรียนรู้แบบสะท้อนกลับ* (reflective learning)\n",
        "  - ท่านสามารถเลือกวิธีการเรียนรู้ได้หลากหลาย ทั้งจากคำบรรยายในแบบเรียนนี้ จากหนังสือแบบเรียน จากการเรียนรู้ด้วยตัวเองผ่านแบบฝึกหัดตามแบบเรียนนี้ โดยเราได้เตรียมผู้ช่วยสอนไว้คอยตอบคำถามของท่านไว้แล้วครับ\n",
        "  - ในแต่ละกิจกรรม จะมีแบบทดสอบให้ท่านลองทำเป็นระยะๆ ด้วย เพื่อตรวจสอบความเข้าใจของท่าน\n",
        "  - หากท่านยังไม่เข้าใจ อย่าเพิ่งไปเครียดครับ ท่านสามารถเปลี่ยนวิธีการเรียนรู้ให้ตรงกับจริตของท่านได้ตลอดเวลาครับ\n",
        "  - และสำหรับท่านที่เคยมีประสบการณ์กับภาษา Python มาก่อน ท่านสามารถทดลองทำแบบฝึกหัดเสริมทักษะที่ท้าย workshop ได้เลยนะครับ ;) \n",
        "\n",
        "- วิธีการใช้ Google Colab อย่างง่าย\n",
        "  - กล่องคำสั่งจะเป็นสีเทา เราสามารถเขียนโปรแกรมภาษา Python ลงในกล่องคำสั่งนี้ได้\n",
        "  - **วิธีรัน (run):** เมื่อเขียนโปรแกรมลงไปแล้ว เราสามารถสั่งรันได้โดยการกดปุ่มเพลย์ ▶️ ที่อยู่หน้ากล่องคำสั่ง หรือกดปุ่ม Shift+Enter ก็ได้ครับ\n",
        "  - หากยังไม่เห็นปุ่มเพลย์ ให้เอาเม้าส์ไปคลิกที่กล่องคำสั่งก่อน ปุ่มเพลย์ก็จะปรากฏขึ้นมาครับ\n",
        "\n",
        "-  เราจะทำให้ทุกท่านเขียนโปรแกรมภาษา Python ได้ภายใน 3 ชั่วโมงกัน ถ้าพร้อมแล้ว เรามาเริ่มกันเลยครับ"
      ]
    },
    {
      "cell_type": "markdown",
      "metadata": {
        "colab_type": "text",
        "id": "Wz7yrsiMEpWJ"
      },
      "source": [
        "\n",
        "\n",
        "---\n",
        "\n"
      ]
    },
    {
      "cell_type": "markdown",
      "metadata": {
        "colab_type": "text",
        "id": "QqwrmGOdD2g-"
      },
      "source": [
        "## กิจกรรม 1: พิมพ์ข้อความออกหน้าจอ"
      ]
    },
    {
      "cell_type": "markdown",
      "metadata": {
        "colab_type": "text",
        "id": "gcC4FCgHJvlK"
      },
      "source": [
        "### คำสั่ง `print`\n",
        "\n",
        "- คำสั่งพิมพ์ข้อความในภาษา Python คือ `print`\n",
        "- เช่น `print('Hello')` ก็จะแสดงข้อความว่า `Hello` ออกที่หน้าจอ\n",
        "- ลองคลิกที่กล่องคำสั่งสีเทาที่อยู่ด้านล่าง แล้วกดปุ่มเพลย์ในเครื่องหมายก้ามปู `[ ]` หรือกดปุ่ม Shift+Enter ดูสิครับ เห็นข้อความ `Hello` ที่อยู่ในบรรทัดต่อมาไหมครับ"
      ]
    },
    {
      "cell_type": "code",
      "metadata": {
        "colab_type": "code",
        "id": "p-_KH5ZOAVXC",
        "outputId": "30639642-4255-4b1e-cebf-325cfb55a955",
        "colab": {
          "base_uri": "https://localhost:8080/",
          "height": 34
        }
      },
      "source": [
        "print('Hello')"
      ],
      "execution_count": 0,
      "outputs": [
        {
          "output_type": "stream",
          "text": [
            "Hello\n"
          ],
          "name": "stdout"
        }
      ]
    },
    {
      "cell_type": "markdown",
      "metadata": {
        "colab_type": "text",
        "id": "AiI2gIqVMYw1"
      },
      "source": [
        "  - จะสังเกตได้ว่า ข้อความ `Hello` ที่เราต้องการจะให้พิมพ์ออกหน้าจอ จะอยู่ในเครื่องหมายคำพูดเดี่ยว (single quote) ในตัวโค้ดเสมอ\n",
        "  - สิ่งที่อยู่ในเครื่องหมายคำพูดเดี่ยวนี้ เราเรียกว่า *สตริง* (string) ซึ่งแปลเป็นไทยว่า \"ข้อความ\" นั่นเองครับ"
      ]
    },
    {
      "cell_type": "markdown",
      "metadata": {
        "colab_type": "text",
        "id": "PR_x3YS4IfHh"
      },
      "source": [
        "### แบบฝึกหัด 1.1\n",
        "\n",
        "คราวนี้เรามาลองพิมพ์สตริง `'สวัสดีจ้ะ'` ออกที่หน้าจอกันบ้าง ลองเติมข้อความดังกล่าวลงในเครื่องหมายคำพูดเดี่ยวดูนะครับ"
      ]
    },
    {
      "cell_type": "code",
      "metadata": {
        "colab_type": "code",
        "id": "4vIgljNYIZtp",
        "outputId": "d4b424f4-36cb-47d2-9975-768b42472869",
        "colab": {
          "base_uri": "https://localhost:8080/",
          "height": 34
        }
      },
      "source": [
        "print('สวัสดีจ๊ะ')"
      ],
      "execution_count": 0,
      "outputs": [
        {
          "output_type": "stream",
          "text": [
            "สวัสดีจ๊ะ\n"
          ],
          "name": "stdout"
        }
      ]
    },
    {
      "cell_type": "markdown",
      "metadata": {
        "colab_type": "text",
        "id": "wvKZk4mHMsO5"
      },
      "source": [
        "ลองเปลี่ยนสตริงดูตามใจชอบ แล้วลองรันดูนะครับ"
      ]
    },
    {
      "cell_type": "markdown",
      "metadata": {
        "colab_type": "text",
        "id": "vQ1UefODUONV"
      },
      "source": [
        "### หมายเหตุ (comment)"
      ]
    },
    {
      "cell_type": "markdown",
      "metadata": {
        "colab_type": "text",
        "id": "y6LhZB1oUQ8A"
      },
      "source": [
        "- บางครั้งเราอยากใส่หมายเหตุลงไปในโค้ดเพื่อเป็นบันทึกช่วยจำ เราจะใช้สัญลักษณ์ `#` (แฮช หรือ hash) นำหน้าหมายเหตุ โดยเมื่อไรก็ตามที่ใช้เครื่องหมาย `#` สิ่งที่ตามหลังเครื่องหมายนี้จะเป็นหมายเหตุทั้งหมด เช่น"
      ]
    },
    {
      "cell_type": "code",
      "metadata": {
        "colab_type": "code",
        "id": "DCKkNqvmUg40",
        "colab": {}
      },
      "source": [
        "print('Hello')      # แสดงข้อความ Hello ออกที่หน้าจอ"
      ],
      "execution_count": 0,
      "outputs": []
    },
    {
      "cell_type": "markdown",
      "metadata": {
        "colab_type": "text",
        "id": "IZzQ52RTUpF7"
      },
      "source": [
        "- หากเราต้องการหมายเหตุทั้งบรรทัด ให้เราใส่เครื่องหมาย `#` ที่ด้านหน้าสุด เช่น"
      ]
    },
    {
      "cell_type": "code",
      "metadata": {
        "colab_type": "code",
        "id": "ngPkggLBU9-y",
        "colab": {}
      },
      "source": [
        "# แสดงข้อความ Hello ออกที่หน้าจอ\n",
        "print('Hello')"
      ],
      "execution_count": 0,
      "outputs": []
    },
    {
      "cell_type": "markdown",
      "metadata": {
        "colab_type": "text",
        "id": "U5PMqooKWBGW"
      },
      "source": [
        "- เวลาคอมพิวเตอร์ทำงาน มันจะกระโดดข้ามส่วนที่เป็นหมายเหตุไป\n",
        "- เช่น ในโค้ดด้านล่างนี้ คอมพิวเตอร์จะกระโดดข้ามบรรทัดที่ 3 ไป เพราะถูกมองเป็นหมายเหตุ"
      ]
    },
    {
      "cell_type": "code",
      "metadata": {
        "colab_type": "code",
        "id": "8uzxsKteWJge",
        "colab": {}
      },
      "source": [
        "print('Please')\n",
        "print('Mr.')\n",
        "# print('and Ms.')\n",
        "print('Postman')\n",
        "print('Look and See')"
      ],
      "execution_count": 0,
      "outputs": []
    },
    {
      "cell_type": "markdown",
      "metadata": {
        "colab_type": "text",
        "id": "aJpoRN7VVMsV"
      },
      "source": [
        "### แบบฝึกหัด 1.2"
      ]
    },
    {
      "cell_type": "markdown",
      "metadata": {
        "colab_type": "text",
        "id": "nWpO2MwNVRaJ"
      },
      "source": [
        "ลองใส่เครื่องหมาย `#` หน้าบรรทัดต่างๆ ในโค้ด แล้วสังเกตความเปลี่ยนแปลงของผลลัพธ์"
      ]
    },
    {
      "cell_type": "code",
      "metadata": {
        "colab_type": "code",
        "id": "Gqx3Fm_fVlVG",
        "outputId": "dbe0b181-9799-4425-d480-fc4f1a28609c",
        "colab": {
          "base_uri": "https://localhost:8080/",
          "height": 105
        }
      },
      "source": [
        "print('Hello')\n",
        "#print('World')\n",
        "print('My')\n",
        "print('name')\n",
        "print('is')\n",
        "print('Peter')"
      ],
      "execution_count": 0,
      "outputs": [
        {
          "output_type": "stream",
          "text": [
            "Hello\n",
            "My\n",
            "name\n",
            "is\n",
            "Peter\n"
          ],
          "name": "stdout"
        }
      ]
    },
    {
      "cell_type": "markdown",
      "metadata": {
        "colab_type": "text",
        "id": "LIFQVwKOODyM"
      },
      "source": [
        "\n",
        "\n",
        "---\n",
        "\n"
      ]
    },
    {
      "cell_type": "markdown",
      "metadata": {
        "colab_type": "text",
        "id": "1FZJHUYeOErP"
      },
      "source": [
        "## กิจกรรม 2: การคำนวณทางคณิตศาสตร์"
      ]
    },
    {
      "cell_type": "markdown",
      "metadata": {
        "colab_type": "text",
        "id": "PtKzA2UuPB65"
      },
      "source": [
        "### คำสั่งเลขคณิต (arithmetic operations) และนิพจน์ทางคณิตศาสตร์ (mathematical expression)\n",
        "\n",
        "- เราสามารถทำการคำนวณทางคณิตศาสตร์ได้ โดยใช้เครื่องหมายบวก `+`, ลบ `-`, คูณ `*`, และหาร `/` กับตัวเลขได้\n",
        "  - **ข้อสังเกต:** เราจะใช้เครื่องหมายดอกจัน `*` แทนการคูณนะครับ\n",
        "- เช่น ถ้าเราสั่งให้คอมพิวเตอร์คำนวณค่าของนิพจน์ทางคณิตศาสตร์ $ 5 \\times 2 + 10 $ คอมพิวเตอร์ก็จะคำนวณผลลัพธ์ให้ทันที"
      ]
    },
    {
      "cell_type": "code",
      "metadata": {
        "colab_type": "code",
        "id": "E68FlmlxQATn",
        "outputId": "07d9ee80-eb9f-444c-ae4c-23d5446693f3",
        "colab": {
          "base_uri": "https://localhost:8080/",
          "height": 34
        }
      },
      "source": [
        "5 * 2 + 10"
      ],
      "execution_count": 0,
      "outputs": [
        {
          "output_type": "execute_result",
          "data": {
            "text/plain": [
              "20"
            ]
          },
          "metadata": {
            "tags": []
          },
          "execution_count": 6
        }
      ]
    },
    {
      "cell_type": "markdown",
      "metadata": {
        "colab_type": "text",
        "id": "dXQHNqoXQE3u"
      },
      "source": [
        "- ถ้าเราสั่งให้คอมพิวเตอร์คำนวณค่าของนิพจน์ $ 10 + \\frac{5}{2} $ เราจะได้ผลลัพธ์ดังนี้ครับ"
      ]
    },
    {
      "cell_type": "code",
      "metadata": {
        "colab_type": "code",
        "id": "q50RlTKxQDjL",
        "outputId": "bb9f4aa4-0020-41ce-d411-49362aafb94d",
        "colab": {
          "base_uri": "https://localhost:8080/",
          "height": 34
        }
      },
      "source": [
        "10 + 5 / 2"
      ],
      "execution_count": 0,
      "outputs": [
        {
          "output_type": "execute_result",
          "data": {
            "text/plain": [
              "12.5"
            ]
          },
          "metadata": {
            "tags": []
          },
          "execution_count": 7
        }
      ]
    },
    {
      "cell_type": "markdown",
      "metadata": {
        "colab_type": "text",
        "id": "aYB4oAFGQhlw"
      },
      "source": [
        "- จะสังเกตได้ว่า คอมพิวเตอร์คำนวณการหาร 5 / 2 และใส่ค่าทศนิยมให้โดยอัตโนมัติครับ"
      ]
    },
    {
      "cell_type": "markdown",
      "metadata": {
        "colab_type": "text",
        "id": "Ov-8WQYpQ7wm"
      },
      "source": [
        "### แบบฝึกหัด 2.1\n",
        "\n",
        "เรามาลองคำนวณค่าของนิพจน์ทางคณิตศาสตร์ต่อไปนี้กันดูบ้างครับ\n",
        "\n",
        "1. $ \\frac{3}{4} + \\frac{1}{4} $"
      ]
    },
    {
      "cell_type": "code",
      "metadata": {
        "colab_type": "code",
        "id": "HSnJfmZKWNx3",
        "outputId": "a7afd80d-86c9-41f3-afad-07e5507fd447",
        "colab": {
          "base_uri": "https://localhost:8080/",
          "height": 34
        }
      },
      "source": [
        "3/4 + 1/4"
      ],
      "execution_count": 0,
      "outputs": [
        {
          "output_type": "execute_result",
          "data": {
            "text/plain": [
              "1.0"
            ]
          },
          "metadata": {
            "tags": []
          },
          "execution_count": 8
        }
      ]
    },
    {
      "cell_type": "markdown",
      "metadata": {
        "colab_type": "text",
        "id": "5sHOZcqHWOwk"
      },
      "source": [
        "2. $ 1 + 6 \\times 8 - 7 $"
      ]
    },
    {
      "cell_type": "code",
      "metadata": {
        "colab_type": "code",
        "id": "gRXHZqBYWY23",
        "outputId": "38b5b315-bf3c-41a6-a466-196d94894394",
        "colab": {
          "base_uri": "https://localhost:8080/",
          "height": 34
        }
      },
      "source": [
        "1 + 6*8 -7"
      ],
      "execution_count": 0,
      "outputs": [
        {
          "output_type": "execute_result",
          "data": {
            "text/plain": [
              "42"
            ]
          },
          "metadata": {
            "tags": []
          },
          "execution_count": 9
        }
      ]
    },
    {
      "cell_type": "markdown",
      "metadata": {
        "colab_type": "text",
        "id": "gT_oRnRZWbNg"
      },
      "source": [
        "3. $ 5 \\times 6 + 7 \\times 8 - \\frac{2}{5} $"
      ]
    },
    {
      "cell_type": "code",
      "metadata": {
        "colab_type": "code",
        "id": "eRCr2rvsY90z",
        "outputId": "7024627e-cd2b-46c2-f103-191187ec4e0d",
        "colab": {
          "base_uri": "https://localhost:8080/",
          "height": 34
        }
      },
      "source": [
        "5*6 + 7*8 - 2/5"
      ],
      "execution_count": 0,
      "outputs": [
        {
          "output_type": "execute_result",
          "data": {
            "text/plain": [
              "85.6"
            ]
          },
          "metadata": {
            "tags": []
          },
          "execution_count": 10
        }
      ]
    },
    {
      "cell_type": "markdown",
      "metadata": {
        "colab_type": "text",
        "id": "-zjqKUHUT91v"
      },
      "source": [
        "### วงเล็บในนิพจน์ทางคณิตศาสตร์\n",
        "\n",
        "- ทั้งนี้ เราสามารถใช้เครื่องหมายวงเล็บ `( )` ได้เหมือนกับนิพจน์ทางคณิตศาสตร์ปกติเลยครับ\n",
        "- เช่น เราสามารถคำนวณค่าของนิพจน์ $ 4 \\times 3 + (1 + 2) / 4 $ ได้ด้วยคำสั่งนี้"
      ]
    },
    {
      "cell_type": "code",
      "metadata": {
        "colab_type": "code",
        "id": "1UkTDB_FTOpI",
        "outputId": "d91a000e-ebe3-42d2-d310-620bbd4a3b07",
        "colab": {
          "base_uri": "https://localhost:8080/",
          "height": 34
        }
      },
      "source": [
        "4 * 3 + (1 + 2) / 4"
      ],
      "execution_count": 0,
      "outputs": [
        {
          "output_type": "execute_result",
          "data": {
            "text/plain": [
              "12.75"
            ]
          },
          "metadata": {
            "tags": []
          },
          "execution_count": 1
        }
      ]
    },
    {
      "cell_type": "markdown",
      "metadata": {
        "colab_type": "text",
        "id": "9ZSGfebtUD4K"
      },
      "source": [
        "- ข้อแตกต่างคือ ในกรณีที่มีวงเล็บซ้อนวงเล็บ เราจะใช้เครื่องหมายวงเล็บ `( )` เสมอ <u>**ห้ามใช้**</u>เครื่องหมายก้ามปู `[ ]` และเครื่องหมายปีกกา `{ }` โดยเด็ดขาด\n",
        "- เช่น ถ้าเราจะคำนวณค่าของนิพจน์ $ \\left( \\left[ 1 / \\left\\{ 2 + 3 \\right\\} \\right] \\times 4 + 5 \\right) / 6 $ เราจะต้องเปลี่ยนก้ามปูและปีกกากลับมาเป็นวงเล็บก่อนเสมอ"
      ]
    },
    {
      "cell_type": "code",
      "metadata": {
        "colab_type": "code",
        "id": "oC4EZPTyVsP2",
        "outputId": "0b4285aa-4fb1-4868-9527-80d49a3a8c12",
        "colab": {
          "base_uri": "https://localhost:8080/",
          "height": 34
        }
      },
      "source": [
        "((1 / (2 + 3)) * 4 + 5) / 6"
      ],
      "execution_count": 0,
      "outputs": [
        {
          "output_type": "execute_result",
          "data": {
            "text/plain": [
              "0.9666666666666667"
            ]
          },
          "metadata": {
            "tags": []
          },
          "execution_count": 2
        }
      ]
    },
    {
      "cell_type": "markdown",
      "metadata": {
        "colab_type": "text",
        "id": "KYKGVrDuUurd"
      },
      "source": [
        "- **หัวใจ:** เครื่องหมายวงเล็บมีหน้าที่เปลี่ยนลำดับการทำงาน โดยจะเริ่มทำในวงเล็บก่อนเสมอ โดยลำดับการทำงานจะเริ่มจาก (1) ทำในวงเล็บ (2) คูณและหาร (3) บวกและลบ\n",
        "- เช่น ลองสังเกตผลลัพธ์ของนิพจน์ทั้งสองนี้ครับ: $ (1 + 2) \\times 3 $ กับ $ 1 + (2 \\times 3) $"
      ]
    },
    {
      "cell_type": "code",
      "metadata": {
        "colab_type": "code",
        "id": "T35RIFwJnGHC",
        "outputId": "ad4fbb46-9d47-4061-fa4f-7ad8b3553e33",
        "colab": {
          "base_uri": "https://localhost:8080/",
          "height": 34
        }
      },
      "source": [
        "(1 + 2) * 3"
      ],
      "execution_count": 0,
      "outputs": [
        {
          "output_type": "execute_result",
          "data": {
            "text/plain": [
              "9"
            ]
          },
          "metadata": {
            "tags": []
          },
          "execution_count": 3
        }
      ]
    },
    {
      "cell_type": "code",
      "metadata": {
        "colab_type": "code",
        "id": "RdL86Thpowg9",
        "outputId": "f3cad9bb-e883-4783-d7e5-5cf8002476fb",
        "colab": {
          "base_uri": "https://localhost:8080/",
          "height": 34
        }
      },
      "source": [
        "1 + (2 * 3)"
      ],
      "execution_count": 0,
      "outputs": [
        {
          "output_type": "execute_result",
          "data": {
            "text/plain": [
              "7"
            ]
          },
          "metadata": {
            "tags": []
          },
          "execution_count": 4
        }
      ]
    },
    {
      "cell_type": "markdown",
      "metadata": {
        "colab_type": "text",
        "id": "C4Tp21Ffo0JE"
      },
      "source": [
        "- ทั้งนี้ขอให้ท่านระมัดระวังการใช้เครื่องหมายคูณ `*` และหาร `/` ด้วยนะครับ เพราะถ้าหากไม่ระบุวงเล็บให้ชัดเจน ลำดับการคำนวณก็อาจจะไม่เป็นไปตามที่ท่านต้องการได้ "
      ]
    },
    {
      "cell_type": "markdown",
      "metadata": {
        "colab_type": "text",
        "id": "0NjKBhCQpXWT"
      },
      "source": [
        "### แบบฝึกหัด 2.2"
      ]
    },
    {
      "cell_type": "markdown",
      "metadata": {
        "colab_type": "text",
        "id": "fhryp_sKphqR"
      },
      "source": [
        "เรามาลองคำนวณค่าของนิพจน์ทางคณิตศาสตร์ต่อไปนี้กันครับ\n",
        "\n",
        "1. $ 3 \\times (4 + 1 - 2 \\times 5) $"
      ]
    },
    {
      "cell_type": "code",
      "metadata": {
        "colab_type": "code",
        "id": "_9qKZsZYqUAp",
        "outputId": "11e5786d-7e9a-42f2-8573-708832aa95e0",
        "colab": {
          "base_uri": "https://localhost:8080/",
          "height": 34
        }
      },
      "source": [
        "3 * (4+1 - 2*5)"
      ],
      "execution_count": 0,
      "outputs": [
        {
          "output_type": "execute_result",
          "data": {
            "text/plain": [
              "-15"
            ]
          },
          "metadata": {
            "tags": []
          },
          "execution_count": 5
        }
      ]
    },
    {
      "cell_type": "markdown",
      "metadata": {
        "colab_type": "text",
        "id": "ruqQb5J7pttZ"
      },
      "source": [
        "2. $ \\frac{1 + 2 + 3}{4 + 5 + 6} $   [**หมายเหตุ:** โปรดเลือกการใช้เครื่องหมายวงเล็บด้วยความระมัดระวัง]"
      ]
    },
    {
      "cell_type": "code",
      "metadata": {
        "colab_type": "code",
        "id": "kJlpspwCqUkG",
        "outputId": "0b654cb0-a312-4323-c24a-43c674bfbbe1",
        "colab": {
          "base_uri": "https://localhost:8080/",
          "height": 34
        }
      },
      "source": [
        "(1 + 2 + 3)/(4 + 5 + 6)"
      ],
      "execution_count": 0,
      "outputs": [
        {
          "output_type": "execute_result",
          "data": {
            "text/plain": [
              "0.4"
            ]
          },
          "metadata": {
            "tags": []
          },
          "execution_count": 6
        }
      ]
    },
    {
      "cell_type": "markdown",
      "metadata": {
        "colab_type": "text",
        "id": "fwT9mp6gp7kt"
      },
      "source": [
        "3. $ 7 \\times \\frac{5 + 6}{7 + \\frac{7}{8}} $"
      ]
    },
    {
      "cell_type": "code",
      "metadata": {
        "colab_type": "code",
        "id": "82-wYN_LqVME",
        "outputId": "8bc3f70b-4cf4-4a58-b1aa-7db5e0eb0361",
        "colab": {
          "base_uri": "https://localhost:8080/",
          "height": 34
        }
      },
      "source": [
        "7 * ((5 + 6) / (7 + 7 / 8))"
      ],
      "execution_count": 0,
      "outputs": [
        {
          "output_type": "execute_result",
          "data": {
            "text/plain": [
              "9.777777777777777"
            ]
          },
          "metadata": {
            "tags": []
          },
          "execution_count": 7
        }
      ]
    },
    {
      "cell_type": "markdown",
      "metadata": {
        "colab_type": "text",
        "id": "T9oJjXEdrEGX"
      },
      "source": [
        "### เครื่องหมายยกกำลัง (power) และการถอดราก (root)\n",
        "\n",
        "- เครื่องหมายยกกำลังในภาษา Python จะใช้เครื่องหมาย `**` (ดอกจันเขียนติดกัน 2 ดวง) ครับ\n",
        "- เช่น ถ้าเราจะคำนวณค่าของนิพจน์ $ 2^5 $ เราจะใช้คำสั่งว่า"
      ]
    },
    {
      "cell_type": "code",
      "metadata": {
        "colab_type": "code",
        "id": "0vzA567gq-Xm",
        "outputId": "a7b4d607-d888-41ed-9250-0c396360e80d",
        "colab": {
          "base_uri": "https://localhost:8080/",
          "height": 34
        }
      },
      "source": [
        "2 ** 5"
      ],
      "execution_count": 0,
      "outputs": [
        {
          "output_type": "execute_result",
          "data": {
            "text/plain": [
              "32"
            ]
          },
          "metadata": {
            "tags": []
          },
          "execution_count": 8
        }
      ]
    },
    {
      "cell_type": "markdown",
      "metadata": {
        "colab_type": "text",
        "id": "gpSaLvJlrijb"
      },
      "source": [
        "- เมื่อเรานำเครื่องหมายยกกำลังมาใส่ในนิพจน์ทางคณิตศาสตร์ ลำดับการทำงานจะเปลี่ยนไปตามนี้ครับ\n",
        "  1. ทำในวงเล็บก่อน\n",
        "  2. ทำเครื่องหมายยกกำลัง\n",
        "  3. ทำเครื่องหมายคูณและหาร\n",
        "  4. ทำเครื่องหมายบวกและลบ\n",
        "- เช่น ลองสังเกตการคำนวณค่าของนิพจน์ 3 ตัวนี้กันครับ: `(2 * 5) ** 3`, `2 * (5 ** 3)`, และ `2 * 5 ** 3`"
      ]
    },
    {
      "cell_type": "code",
      "metadata": {
        "colab_type": "code",
        "id": "fw2XEdXpsMji",
        "outputId": "69e12d23-601a-4258-d5df-aca447335a0f",
        "colab": {
          "base_uri": "https://localhost:8080/",
          "height": 34
        }
      },
      "source": [
        "(2 * 5) ** 3"
      ],
      "execution_count": 0,
      "outputs": [
        {
          "output_type": "execute_result",
          "data": {
            "text/plain": [
              "1000"
            ]
          },
          "metadata": {
            "tags": []
          },
          "execution_count": 9
        }
      ]
    },
    {
      "cell_type": "code",
      "metadata": {
        "colab_type": "code",
        "id": "1NPd9WbHsMoI",
        "outputId": "513a23c6-4f45-4763-ca1b-de75f0f4c225",
        "colab": {
          "base_uri": "https://localhost:8080/",
          "height": 34
        }
      },
      "source": [
        "2 * (5 ** 3)"
      ],
      "execution_count": 0,
      "outputs": [
        {
          "output_type": "execute_result",
          "data": {
            "text/plain": [
              "250"
            ]
          },
          "metadata": {
            "tags": []
          },
          "execution_count": 10
        }
      ]
    },
    {
      "cell_type": "code",
      "metadata": {
        "colab_type": "code",
        "id": "V8MkaOkDsMr_",
        "outputId": "2ac16ad5-915b-491c-cb91-beee77cb63fc",
        "colab": {
          "base_uri": "https://localhost:8080/",
          "height": 34
        }
      },
      "source": [
        "2 * 5 ** 3"
      ],
      "execution_count": 0,
      "outputs": [
        {
          "output_type": "execute_result",
          "data": {
            "text/plain": [
              "250"
            ]
          },
          "metadata": {
            "tags": []
          },
          "execution_count": 11
        }
      ]
    },
    {
      "cell_type": "markdown",
      "metadata": {
        "colab_type": "text",
        "id": "9mWzIPbzsabt"
      },
      "source": [
        "- ดังนั้นเพื่อความปลอดภัย เราจึงนิยมเขียนเครื่องหมายยกกำลัง `**` ติดกับตัวเลข เพื่อให้เป็นที่รู้กันว่า ถ้าหากไม่มีวงเล็บ เราจะเริ่มทำจากเครื่องหมายยกกำลังก่อนเสมอ เช่น เราจะเขียนนิพจน์ $ 2 \\times 5^3 $ ด้วยคำสั่ง `2 * 5**3` เป็นต้น"
      ]
    },
    {
      "cell_type": "markdown",
      "metadata": {
        "colab_type": "text",
        "id": "WeFRROotuXf7"
      },
      "source": [
        "- นอกจากนี้เรายังสามารถคำนวณค่าราก (root) ได้โดยการใช้สูตร:\n",
        "\n",
        "$$ \\sqrt[r]{a} = a^{1/r} $$\n",
        "\n",
        "- เช่น เราสามารถคำนวณค่า $ \\sqrt[3]{8} $ (รากที่ 3 ของ 8) ได้โดยคำสั่ง `8**(1/3)`"
      ]
    },
    {
      "cell_type": "code",
      "metadata": {
        "colab_type": "code",
        "id": "J7dLeElisSJA",
        "outputId": "38f5efa1-f7ba-432f-a63e-33241e2497be",
        "colab": {
          "base_uri": "https://localhost:8080/",
          "height": 34
        }
      },
      "source": [
        "8**(1/3)"
      ],
      "execution_count": 0,
      "outputs": [
        {
          "output_type": "execute_result",
          "data": {
            "text/plain": [
              "2.0"
            ]
          },
          "metadata": {
            "tags": []
          },
          "execution_count": 12
        }
      ]
    },
    {
      "cell_type": "markdown",
      "metadata": {
        "colab_type": "text",
        "id": "6dCZgDrRu2tQ"
      },
      "source": [
        "### แบบฝึกหัด 2.3"
      ]
    },
    {
      "cell_type": "markdown",
      "metadata": {
        "colab_type": "text",
        "id": "bYqXzulivD1u"
      },
      "source": [
        "เรามาคำนวณค่าของนิพจน์ดังต่อไปนี้กันครับ\n",
        "\n",
        "1. $ 3^{5 + 3/4} $"
      ]
    },
    {
      "cell_type": "code",
      "metadata": {
        "colab_type": "code",
        "id": "_glTD-i5vKGB",
        "outputId": "fcd819a0-4b89-4d49-bdd9-66d0b0099032",
        "colab": {
          "base_uri": "https://localhost:8080/",
          "height": 34
        }
      },
      "source": [
        "3 ** (5 + 3/4)"
      ],
      "execution_count": 0,
      "outputs": [
        {
          "output_type": "execute_result",
          "data": {
            "text/plain": [
              "553.920214840011"
            ]
          },
          "metadata": {
            "tags": []
          },
          "execution_count": 13
        }
      ]
    },
    {
      "cell_type": "markdown",
      "metadata": {
        "colab_type": "text",
        "id": "91ZyBqUQvKaS"
      },
      "source": [
        "2. $ \\sqrt[2]{\\left( 7 + 3 \\times 4 \\right)} $"
      ]
    },
    {
      "cell_type": "code",
      "metadata": {
        "colab_type": "code",
        "id": "gzCgYY57vgtd",
        "outputId": "ef11a5a0-cf0a-4b34-9776-425301610e84",
        "colab": {
          "base_uri": "https://localhost:8080/",
          "height": 34
        }
      },
      "source": [
        "(7 + 3 * 4) ** (1/2)"
      ],
      "execution_count": 0,
      "outputs": [
        {
          "output_type": "execute_result",
          "data": {
            "text/plain": [
              "4.358898943540674"
            ]
          },
          "metadata": {
            "tags": []
          },
          "execution_count": 14
        }
      ]
    },
    {
      "cell_type": "markdown",
      "metadata": {
        "colab_type": "text",
        "id": "GDDPl844vhI1"
      },
      "source": [
        "3. $ \\frac{5 + 6^{2.5}}{\\sqrt[2]{3.5}} + 3^2 $"
      ]
    },
    {
      "cell_type": "code",
      "metadata": {
        "colab_type": "code",
        "id": "PBNVx0QNuv35",
        "outputId": "c4c5fec0-8648-47f6-c65e-e13384dbb4ad",
        "colab": {
          "base_uri": "https://localhost:8080/",
          "height": 34
        }
      },
      "source": [
        "((5+ 6**2.5) / (3.5 ** (1/2))) + 3 ** 2"
      ],
      "execution_count": 0,
      "outputs": [
        {
          "output_type": "execute_result",
          "data": {
            "text/plain": [
              "58.8076767100986"
            ]
          },
          "metadata": {
            "tags": []
          },
          "execution_count": 16
        }
      ]
    },
    {
      "cell_type": "markdown",
      "metadata": {
        "colab_type": "text",
        "id": "ooPvIVBGwZ2n"
      },
      "source": [
        "\n",
        "\n",
        "---\n",
        "\n"
      ]
    },
    {
      "cell_type": "markdown",
      "metadata": {
        "colab_type": "text",
        "id": "pgbWhdW2wbAt"
      },
      "source": [
        "## กิจกรรม 3: ตัวแปร"
      ]
    },
    {
      "cell_type": "markdown",
      "metadata": {
        "colab_type": "text",
        "id": "l0AuTrpJw-Zj"
      },
      "source": [
        "### ตัวแปร (variable)\n",
        "\n",
        "- ตัวแปรเปรียบเสมือนที่ทดเลข เพื่อที่จะได้นำผลลัพธ์จากการคำนวณค่าของนิพจน์ที่ทดไว้ ไปใช้ต่อได้ในอนาคต\n",
        "- เนื่องจากกระดาษในคอมพิวเตอร์มีขนาดใหญ่มาก เราจึงต้องจองพื้นที่สำหรับทดเลขและตั้งชื่อเอาไว้ เวลาจะหยิบสิ่งที่ทดไว้กลับมาใช้ใหม่จะได้ไม่หลงที่นั่นเองครับ\n",
        "- เช่น เราสามารถทดค่าของ $ 2^5 $ เก็บไว้ในตัวแปร `a` และทดค่าของ $\\sqrt[2]{5}$ เก็บไว้ในตัวแปร `b` เพื่อใช้ต่อในการคำนวณต่อๆ ไปได้ ซึ่งในตัวอย่างนี้เราจะคำนวณค่าของ $ a^3 + b^3 $ กัน"
      ]
    },
    {
      "cell_type": "code",
      "metadata": {
        "colab_type": "code",
        "id": "ThnIsY2BwN-W",
        "outputId": "f9f7ebcf-a5e5-498b-c381-97baecd6618e",
        "colab": {
          "base_uri": "https://localhost:8080/",
          "height": 34
        }
      },
      "source": [
        "a = 2**5               # ทดค่าไว้ในตัวแปร a\n",
        "b = 5**(1/2)           # ทดค่าไว้ในตัวแปร b\n",
        "a**3 + b**3"
      ],
      "execution_count": 0,
      "outputs": [
        {
          "output_type": "execute_result",
          "data": {
            "text/plain": [
              "32779.1803398875"
            ]
          },
          "metadata": {
            "tags": []
          },
          "execution_count": 17
        }
      ]
    },
    {
      "cell_type": "markdown",
      "metadata": {
        "colab_type": "text",
        "id": "Kndx5Vp4NvIS"
      },
      "source": [
        "- เราสามารถพิมพ์ค่าตัวแปรออกหน้าจอได้ด้วยคำสั่ง `print` เช่นเดียวกับการแสดงข้อความ เช่น"
      ]
    },
    {
      "cell_type": "code",
      "metadata": {
        "colab_type": "code",
        "id": "vSt21fjLN21x",
        "outputId": "9b4e7e5b-fa18-46fb-d4cd-f7d75d2ab72e",
        "colab": {
          "base_uri": "https://localhost:8080/",
          "height": 52
        }
      },
      "source": [
        "print(a)\n",
        "print(b)"
      ],
      "execution_count": 0,
      "outputs": [
        {
          "output_type": "stream",
          "text": [
            "32\n",
            "2.23606797749979\n"
          ],
          "name": "stdout"
        }
      ]
    },
    {
      "cell_type": "markdown",
      "metadata": {
        "colab_type": "text",
        "id": "9j--LmL3NK6R"
      },
      "source": [
        "- แต่บางครั้งการตั้งชื่อตัวแปรด้วยตัวอักษรเดี่ยวๆ ก็จำยาก เดี๋ยวมาอ่านทีหลังก็อาจจะลืมอีก เราเลยนิยมตั้งชื่อตัวแปรให้เป็นคำที่อ่านแล้วจำได้ง่ายแทนครับ เช่น `width` (ความกว้าง), `height` (ความสูง), และ `area` (พื้นที่) ดังตัวอย่างด้านล่างนี้"
      ]
    },
    {
      "cell_type": "code",
      "metadata": {
        "colab_type": "code",
        "id": "meSEOCkcyhLh",
        "outputId": "a1b10057-c764-4ffc-8b31-af394d3b0ab4",
        "colab": {
          "base_uri": "https://localhost:8080/",
          "height": 34
        }
      },
      "source": [
        "width = 40\n",
        "height = 30\n",
        "area = width * height\n",
        "print(area)"
      ],
      "execution_count": 0,
      "outputs": [
        {
          "output_type": "stream",
          "text": [
            "1200\n"
          ],
          "name": "stdout"
        }
      ]
    },
    {
      "cell_type": "markdown",
      "metadata": {
        "colab_type": "text",
        "id": "vkgRu82eTgjP"
      },
      "source": [
        "- หากชื่อตัวแปรประกอบด้วยหลายคำ ให้ใช้เครื่องหมาย _ (ขีดเส้นใต้ หรือ underscore) คั่นระหว่างคำ เพื่อให้อ่านง่ายขึ้น เช่น `area_of_triangle` พื้นที่สามเหลี่ยม เป็นต้น"
      ]
    },
    {
      "cell_type": "code",
      "metadata": {
        "colab_type": "code",
        "id": "RaQM-05XTx5c",
        "outputId": "832d6753-deb8-4311-ac2c-59b13f8ac977",
        "colab": {
          "base_uri": "https://localhost:8080/",
          "height": 34
        }
      },
      "source": [
        "width = 40\n",
        "height = 30\n",
        "area_of_triangle = 1/2 * width * height\n",
        "print(area_of_triangle)"
      ],
      "execution_count": 0,
      "outputs": [
        {
          "output_type": "stream",
          "text": [
            "600.0\n"
          ],
          "name": "stdout"
        }
      ]
    },
    {
      "cell_type": "markdown",
      "metadata": {
        "id": "BiK0DdrVQ9MU",
        "colab_type": "text"
      },
      "source": [
        "- นอกจากนี้คำสั่ง `print` ยังสามารถพิมพ์ค่าออกหน้าจอได้หลายๆ อันพร้อมกัน เช่น"
      ]
    },
    {
      "cell_type": "code",
      "metadata": {
        "id": "RHR2gYTdQ9MV",
        "colab_type": "code",
        "outputId": "11649a96-dcbd-40d3-f722-452077861098",
        "colab": {
          "base_uri": "https://localhost:8080/",
          "height": 52
        }
      },
      "source": [
        "width = 40\n",
        "height = 30\n",
        "area_of_triangle = 1/2 * width * height\n",
        "print('width =', width, 'and height =', height)\n",
        "print('area = width * height =',area_of_triangle)"
      ],
      "execution_count": 0,
      "outputs": [
        {
          "output_type": "stream",
          "text": [
            "width = 40 and height = 30\n",
            "area = width * height = 600.0\n"
          ],
          "name": "stdout"
        }
      ]
    },
    {
      "cell_type": "markdown",
      "metadata": {
        "colab_type": "text",
        "id": "Tb5gK29HOr2l"
      },
      "source": [
        "### แบบฝึกหัด 3.1"
      ]
    },
    {
      "cell_type": "markdown",
      "metadata": {
        "colab_type": "text",
        "id": "DJqgYt_fOuC7"
      },
      "source": [
        "1. ทดลองกำหนดค่าในตัวแปร `a`, `b`, และ `c` ในโค้ดด้านล่าง แล้วสังเกตความเปลี่ยนแปลงของผลลัพธ์"
      ]
    },
    {
      "cell_type": "code",
      "metadata": {
        "colab_type": "code",
        "id": "A_G1EELUO8A3",
        "outputId": "7333dfa9-4727-4444-f204-af12843c0040",
        "colab": {
          "base_uri": "https://localhost:8080/",
          "height": 34
        }
      },
      "source": [
        "a = 10\n",
        "b = 40\n",
        "c = 40\n",
        "mean = (a + b + c) / 3\n",
        "print(mean)"
      ],
      "execution_count": 0,
      "outputs": [
        {
          "output_type": "stream",
          "text": [
            "30.0\n"
          ],
          "name": "stdout"
        }
      ]
    },
    {
      "cell_type": "markdown",
      "metadata": {
        "colab_type": "text",
        "id": "ls5Uhzv2PJ3S"
      },
      "source": [
        "2. ตัวแปร `mean` ในโค้ดด้านบนคือค่าอะไร? ทำไมจึงต้องตั้งชื่อตัวแปรแบบนี้? ค่าเฉลี่ย"
      ]
    },
    {
      "cell_type": "markdown",
      "metadata": {
        "colab_type": "text",
        "id": "nE1IZ7HmPVFe"
      },
      "source": [
        "3. จงเขียนโค้ดลงในช่องว่างให้สมบูรณ์ เพื่อคำนวณค่าเฉลี่ยฮาร์โมนิก (harmonic mean) ของตัวแปร `a`, `b`, และ `c` โดยค่าเฉลี่ยฮาร์โมนิกมีสูตรดังนี้\n",
        "\n",
        "$$ \\mathrm{hmean}(a, b, c) = \\frac{3}{\\frac{1}{a} + \\frac{1}{b} + \\frac{1}{c}} $$"
      ]
    },
    {
      "cell_type": "code",
      "metadata": {
        "colab_type": "code",
        "id": "wESm-_7UQgto",
        "outputId": "ad04d606-90be-4378-cf8d-eb34a028f306",
        "colab": {
          "base_uri": "https://localhost:8080/",
          "height": 34
        }
      },
      "source": [
        "a = 30\n",
        "b = 30\n",
        "c = 30\n",
        "hmean = 3/( 1/a + 1/b + 1/c)   # เติมโค้ดที่นี่\n",
        "print(hmean)"
      ],
      "execution_count": 0,
      "outputs": [
        {
          "output_type": "stream",
          "text": [
            "30.0\n"
          ],
          "name": "stdout"
        }
      ]
    },
    {
      "cell_type": "markdown",
      "metadata": {
        "colab_type": "text",
        "id": "_kSIyZjOQrC5"
      },
      "source": [
        "4. ทดลองเปลี่ยนค่าตัวแปร `a`, `b`, และ `c` และสังเกตความเปลี่ยนแปลงของผลลัพธ์"
      ]
    },
    {
      "cell_type": "markdown",
      "metadata": {
        "colab_type": "text",
        "id": "3jdzSIenRLHh"
      },
      "source": [
        "5. เขียนโค้ดเพื่อคำนวณปริมาตรของทรงรี (ellipsoid) จากตัวแปรต่อไปนี้\n",
        "  - ความกว้างเก็บอยู่ในตัวแปร `width`\n",
        "  - ความยาวเก็บอยู่ในตัวแปร `length`\n",
        "  - ความลึกเก็บอยู่ในตัวแปร `depth`\n",
        "\n",
        "  สูตรของปริมาตรทรงรีมีดังนี้\n",
        "\n",
        "$$ \\mathtt{volume} = \\frac{4}{3} \\times \\pi \\times \\mathtt{width} \\times \\mathtt{length} \\times \\mathtt{depth} $$"
      ]
    },
    {
      "cell_type": "code",
      "metadata": {
        "colab_type": "code",
        "id": "qaNjNBLiShDO",
        "outputId": "f944fb43-b02f-4ca6-e66d-daa757c28992",
        "colab": {
          "base_uri": "https://localhost:8080/",
          "height": 34
        }
      },
      "source": [
        "pi = 3.1415926   # ค่า 𝜋 (ไพ)\n",
        "\n",
        "# กำหนดความกว้างในตัวแปร width ให้เท่ากับ 20\n",
        "width = 20\n",
        "\n",
        "# กำหนดความยาวในตัวแปร length ให้เท่ากับ 30\n",
        "length = 30\n",
        "\n",
        "# กำหนดความลึกในตัวแปร depth ให้เท่ากับ 40\n",
        "depth = 40\n",
        "\n",
        "# คำนวณปริมาตรของทรงรีแล้วเก็บในตัวแปร volume\n",
        "volume = 4/3 * pi * width * length *depth\n",
        "\n",
        "# พิมพ์ค่าในตัวแปร volume\n",
        "print(volume)"
      ],
      "execution_count": 0,
      "outputs": [
        {
          "output_type": "stream",
          "text": [
            "100530.9632\n"
          ],
          "name": "stdout"
        }
      ]
    },
    {
      "cell_type": "markdown",
      "metadata": {
        "colab_type": "text",
        "id": "mJEc0b6eX2J7"
      },
      "source": [
        "\n",
        "\n",
        "---\n",
        "\n"
      ]
    },
    {
      "cell_type": "markdown",
      "metadata": {
        "colab_type": "text",
        "id": "8K7bjR4gX40b"
      },
      "source": [
        "## กิจกรรม 4: การเก็บรายการข้อมูล"
      ]
    },
    {
      "cell_type": "markdown",
      "metadata": {
        "id": "Bluf-lrzQ9Mn",
        "colab_type": "text"
      },
      "source": [
        "### ลิสต์ (list)"
      ]
    },
    {
      "cell_type": "markdown",
      "metadata": {
        "colab_type": "text",
        "id": "0US1X4bCYZui"
      },
      "source": [
        "- ลิสต์ (list) คือรายการสิ่งของที่เราสามารถปรับเปลี่ยนรายการได้ตลอดเวลาครับ\n",
        "- ลิสต์ใช้สัญลักษณ์ `[ ]` คั่นด้วยเครื่องหมายคอมมา `,`\n",
        "- เช่น ลิสต์ของความสูงนักเรียนในกลุ่ม 5 คน มีดังนี้"
      ]
    },
    {
      "cell_type": "code",
      "metadata": {
        "colab_type": "code",
        "id": "udz9Nb3aY9ay",
        "outputId": "0c219f46-7078-4cd1-dc82-84ff890bdba9",
        "colab": {
          "base_uri": "https://localhost:8080/",
          "height": 34
        }
      },
      "source": [
        "[163.5, 150.0, 167.0, 161.25, 170.0]"
      ],
      "execution_count": 0,
      "outputs": [
        {
          "output_type": "execute_result",
          "data": {
            "text/plain": [
              "[163.5, 150.0, 167.0, 161.25, 170.0]"
            ]
          },
          "metadata": {
            "tags": []
          },
          "execution_count": 31
        }
      ]
    },
    {
      "cell_type": "markdown",
      "metadata": {
        "colab_type": "text",
        "id": "pnppmrRDZIoW"
      },
      "source": [
        "- เราสามารถนำลิสต์มาเก็บในตัวแปรได้ ทำให้ตัวแปรเดียวสามารถเก็บค่าไว้ได้หลายค่าครับ เช่น"
      ]
    },
    {
      "cell_type": "code",
      "metadata": {
        "colab_type": "code",
        "id": "ofA5ppq6ZFRb",
        "outputId": "ce87bcf1-ac83-4d06-e0c0-a842ea900807",
        "colab": {
          "base_uri": "https://localhost:8080/",
          "height": 34
        }
      },
      "source": [
        "# ลิสต์ความสูงของนักเรียนในกลุ่ม\n",
        "student_heights = [163.5, 150.0, 167.0, 161.25, 170.0]\n",
        "print('student heights =', student_heights)"
      ],
      "execution_count": 0,
      "outputs": [
        {
          "output_type": "stream",
          "text": [
            "student heights = [163.5, 150.0, 167.0, 161.25, 170.0]\n"
          ],
          "name": "stdout"
        }
      ]
    },
    {
      "cell_type": "markdown",
      "metadata": {
        "id": "niyzhLfrQ9Ms",
        "colab_type": "text"
      },
      "source": [
        "### แบบฝึกหัด 4.1"
      ]
    },
    {
      "cell_type": "markdown",
      "metadata": {
        "id": "zRpSX830Q9Mt",
        "colab_type": "text"
      },
      "source": [
        "ลองสร้างลิสต์จากรายการสมาชิกดังต่อไปนี้ `[10, 20, 30, 40, 50]` แล้วเก็บลงในตัวแปร `my_list`"
      ]
    },
    {
      "cell_type": "code",
      "metadata": {
        "id": "LsYqCYdAQ9Mu",
        "colab_type": "code",
        "outputId": "78278122-30e9-4b42-a226-c0cac3efaec4",
        "colab": {
          "base_uri": "https://localhost:8080/",
          "height": 34
        }
      },
      "source": [
        "my_list = [10, 20, 30, 40, 50]   # เติมโค้ดที่นี่\n",
        "print(my_list)"
      ],
      "execution_count": 0,
      "outputs": [
        {
          "output_type": "stream",
          "text": [
            "[10, 20, 30, 40, 50]\n"
          ],
          "name": "stdout"
        }
      ]
    },
    {
      "cell_type": "markdown",
      "metadata": {
        "id": "ZtODrxMfQ9Mv",
        "colab_type": "text"
      },
      "source": [
        "### ขนาดของลิสต์"
      ]
    },
    {
      "cell_type": "markdown",
      "metadata": {
        "id": "jaw8Nx9SQ9Mw",
        "colab_type": "text"
      },
      "source": [
        "- เราสามารถหาขนาดของลิสต์ได้ด้วยคำสั่ง `len` ซึ่งย่อมาจากคำว่า length เช่น"
      ]
    },
    {
      "cell_type": "code",
      "metadata": {
        "id": "yL0pem8QQ9Mx",
        "colab_type": "code",
        "outputId": "06ab0376-c529-4971-a653-2b19626fdb45",
        "colab": {
          "base_uri": "https://localhost:8080/",
          "height": 34
        }
      },
      "source": [
        "len(student_heights)"
      ],
      "execution_count": 0,
      "outputs": [
        {
          "output_type": "execute_result",
          "data": {
            "text/plain": [
              "5"
            ]
          },
          "metadata": {
            "tags": []
          },
          "execution_count": 34
        }
      ]
    },
    {
      "cell_type": "markdown",
      "metadata": {
        "id": "bs5U4y_YQ9M0",
        "colab_type": "text"
      },
      "source": [
        "### แบบฝึกหัด 4.2"
      ]
    },
    {
      "cell_type": "markdown",
      "metadata": {
        "id": "LYugAzfwQ9M0",
        "colab_type": "text"
      },
      "source": [
        "จงหาขนาดของลิสต์ในตัวแปร `my_list` ใส่ตัวแปร `my_length` แล้วพิมพ์ค่าของตัวแปรดังกล่าวออกหน้าจอ"
      ]
    },
    {
      "cell_type": "code",
      "metadata": {
        "id": "Z2pMSTcUQ9M1",
        "colab_type": "code",
        "outputId": "29236005-dd08-424d-ed05-ad2aae7f8281",
        "colab": {
          "base_uri": "https://localhost:8080/",
          "height": 34
        }
      },
      "source": [
        "my_length = len(my_list)  # เติมโค้ดที่นี่\n",
        "print(my_length)"
      ],
      "execution_count": 0,
      "outputs": [
        {
          "output_type": "stream",
          "text": [
            "5\n"
          ],
          "name": "stdout"
        }
      ]
    },
    {
      "cell_type": "markdown",
      "metadata": {
        "id": "b3gF6UmGQ9M5",
        "colab_type": "text"
      },
      "source": [
        "### การเข้าถึงสมาชิกภายในลิสต์"
      ]
    },
    {
      "cell_type": "markdown",
      "metadata": {
        "id": "c8aJEuctQ9M6",
        "colab_type": "text"
      },
      "source": [
        "- เราสามารถเข้าถึงสมาชิกแต่ละตัวในลิสต์ด้วยการระบุตำแหน่งของสมาชิกที่เราต้องการ\n",
        "- การนับตำแหน่ง (index) ของสมาชิก จะเริ่มต้นจาก 0 เสมอ เช่น `student_heights[0]` จะแทนสมาชิกตัวแรกของลิสต์ความสูงของนักเรียน ในขณะที่ `student_heights[1]` จะแทนสมาชิกตัวที่ 2 ของลิสต์ ฯลฯ"
      ]
    },
    {
      "cell_type": "code",
      "metadata": {
        "colab_type": "code",
        "id": "Q-34J0FQZpc-",
        "outputId": "7c87b968-eeda-4c3d-f6dc-e64771e1e013",
        "colab": {
          "base_uri": "https://localhost:8080/",
          "height": 105
        }
      },
      "source": [
        "print(student_heights[0])\n",
        "print(student_heights[1])\n",
        "print(student_heights[2])\n",
        "print(student_heights[3])\n",
        "print(student_heights[4])"
      ],
      "execution_count": 0,
      "outputs": [
        {
          "output_type": "stream",
          "text": [
            "163.5\n",
            "150.0\n",
            "167.0\n",
            "161.25\n",
            "170.0\n"
          ],
          "name": "stdout"
        }
      ]
    },
    {
      "cell_type": "markdown",
      "metadata": {
        "id": "4BhAloSPQ9M-",
        "colab_type": "text"
      },
      "source": [
        "- และนี่คือความแปลกอย่างหนึ่งของการเขียนโปรแกรมคอมพิวเตอร์ครับ\n",
        "  - ภาษาโปรแกรมส่วนใหญ่จะเริ่มนับตำแหน่งของสมาชิกจาก 0 เสมอ\n",
        "  - มันมองว่าตำแหน่ง 0 แทนจุดเริ่มต้นของพื้นที่กระดาษทด\n",
        "  - การระบุตำแหน่ง (index) ก็คือการเอาตำแหน่งจุดเริ่มต้นของกระดาษทด บวกกับตำแหน่ง index นั้นนั่นเองครับ"
      ]
    },
    {
      "cell_type": "markdown",
      "metadata": {
        "id": "OLEiVfrVQ9M-",
        "colab_type": "text"
      },
      "source": [
        "- หากเราระบุตำแหน่งเกินจากขนาดของลิสต์ คอมพิวเตอร์จะฟ้องออกมาด้วยคำว่า `IndexError` ซึ่งแปลว่าระบุค่าตำแหน่งเกินขนาดของลิสต์ เช่น"
      ]
    },
    {
      "cell_type": "code",
      "metadata": {
        "id": "1A6RLOimQ9M_",
        "colab_type": "code",
        "outputId": "f7972eaf-5abc-484c-e2d5-9d7bddfffcde",
        "colab": {
          "base_uri": "https://localhost:8080/",
          "height": 167
        }
      },
      "source": [
        "print(student_heights[10])     # ทั้งๆ ที่ลิสต์ student_heights มีขนาดแค่ 5 ตัว"
      ],
      "execution_count": 0,
      "outputs": [
        {
          "output_type": "error",
          "ename": "IndexError",
          "evalue": "ignored",
          "traceback": [
            "\u001b[0;31m---------------------------------------------------------------------------\u001b[0m",
            "\u001b[0;31mIndexError\u001b[0m                                Traceback (most recent call last)",
            "\u001b[0;32m<ipython-input-37-ce80d1c9072f>\u001b[0m in \u001b[0;36m<module>\u001b[0;34m()\u001b[0m\n\u001b[0;32m----> 1\u001b[0;31m \u001b[0mprint\u001b[0m\u001b[0;34m(\u001b[0m\u001b[0mstudent_heights\u001b[0m\u001b[0;34m[\u001b[0m\u001b[0;36m10\u001b[0m\u001b[0;34m]\u001b[0m\u001b[0;34m)\u001b[0m     \u001b[0;31m# ทั้งๆ ที่ลิสต์ student_heights มีขนาดแค่ 5 ตัว\u001b[0m\u001b[0;34m\u001b[0m\u001b[0;34m\u001b[0m\u001b[0m\n\u001b[0m",
            "\u001b[0;31mIndexError\u001b[0m: list index out of range"
          ]
        }
      ]
    },
    {
      "cell_type": "markdown",
      "metadata": {
        "id": "1Cmh3M87Q9NB",
        "colab_type": "text"
      },
      "source": [
        "### แบบฝึกหัด 4.3"
      ]
    },
    {
      "cell_type": "markdown",
      "metadata": {
        "id": "q90WgmjZQ9NC",
        "colab_type": "text"
      },
      "source": [
        "จงคำนวณผลรวมของสมาชิกทุกตัวของลิสต์ในตัวแปร `my_list` เพื่อหาค่าเฉลี่ยโดยใช้สูตร\n",
        "\n",
        "$$ \\mathrm{avg}(\\mathbf{a}) = \\frac{\\sum_{i = 1}^N a_i}{N} $$\n",
        "\n",
        "เมื่อค่า $ N $ คือจำนวนสมาชิกที่มีในลิสต์ $ \\mathbf{a} $"
      ]
    },
    {
      "cell_type": "code",
      "metadata": {
        "id": "h4WiN35xQ9ND",
        "colab_type": "code",
        "outputId": "0709dce0-16c0-48c9-ef8e-3e74fe6debcc",
        "colab": {
          "base_uri": "https://localhost:8080/",
          "height": 34
        }
      },
      "source": [
        "# คำนวณผลรวมของสมาชิกทุกตัวใน my_list\n",
        "my_summation = my_list[0] + my_list[1] + my_list[2] + my_list[3] + my_list[4]    # เติมโค้ดที่นี่\n",
        "my_average = my_summation / my_length\n",
        "print(my_average)"
      ],
      "execution_count": 0,
      "outputs": [
        {
          "output_type": "stream",
          "text": [
            "30.0\n"
          ],
          "name": "stdout"
        }
      ]
    },
    {
      "cell_type": "markdown",
      "metadata": {
        "id": "RsM4QdfeQ9NF",
        "colab_type": "text"
      },
      "source": [
        "### การเปลี่ยนแปลงสมาชิกภายในลิสต์"
      ]
    },
    {
      "cell_type": "markdown",
      "metadata": {
        "id": "B3_hl4rwQ9NG",
        "colab_type": "text"
      },
      "source": [
        "- เราสามารถเปลี่ยนแปลงสมาชิกภายในลิสต์ โดยการใช้เครื่องหมาย `=` เหมือนกับการกำหนดค่าในตัวแปร\n",
        "- เช่น เราสามารถเปลี่ยนสมาชิกตัวที่ 2 ของลิสต์ `student_heights` จากค่า 150.0 ให้เป็นค่า 180.0 ได้"
      ]
    },
    {
      "cell_type": "code",
      "metadata": {
        "id": "XwvobIS6Q9NH",
        "colab_type": "code",
        "outputId": "df04efb6-e8ca-426c-860a-5bc445b283c9",
        "colab": {
          "base_uri": "https://localhost:8080/",
          "height": 34
        }
      },
      "source": [
        "student_heights[1] = 180.0\n",
        "print(student_heights)"
      ],
      "execution_count": 0,
      "outputs": [
        {
          "output_type": "stream",
          "text": [
            "[163.5, 180.0, 167.0, 161.25, 170.0]\n"
          ],
          "name": "stdout"
        }
      ]
    },
    {
      "cell_type": "markdown",
      "metadata": {
        "id": "zkcPOP0jQ9NK",
        "colab_type": "text"
      },
      "source": [
        "### แบบฝึกหัด 4.4"
      ]
    },
    {
      "cell_type": "markdown",
      "metadata": {
        "id": "N5gbbNL-Q9NL",
        "colab_type": "text"
      },
      "source": [
        "จงเพิ่มค่าให้สมาชิกทุกตัวของลิสต์ในตัวแปร `my_list` อย่างละ 5 ด้วยเครื่องหมาย `+` และพิมพ์ตัวแปร `my_list` ออกหน้าจอ"
      ]
    },
    {
      "cell_type": "code",
      "metadata": {
        "id": "xg7N-tfmQ9NM",
        "colab_type": "code",
        "outputId": "be22b26d-b62c-4ae4-caee-ab07db501589",
        "colab": {
          "base_uri": "https://localhost:8080/",
          "height": 34
        }
      },
      "source": [
        "my_list[0] += 5\n",
        "my_list[1] += 5\n",
        "my_list[2] += 5\n",
        "my_list[3] += 5\n",
        "my_list[4] += 5\n",
        "print(my_list)"
      ],
      "execution_count": 0,
      "outputs": [
        {
          "output_type": "stream",
          "text": [
            "[15, 25, 35, 45, 55]\n"
          ],
          "name": "stdout"
        }
      ]
    },
    {
      "cell_type": "markdown",
      "metadata": {
        "id": "tTlfaQDFQ9NQ",
        "colab_type": "text"
      },
      "source": [
        "ได้ผลลัพธ์เป็น `[15, 25, 35, 45, 55]` หรือเปล่าครับ?"
      ]
    },
    {
      "cell_type": "markdown",
      "metadata": {
        "id": "h7dtQOn9Q9NR",
        "colab_type": "text"
      },
      "source": [
        "### การเลือกบางส่วนของลิสต์ (slicing)"
      ]
    },
    {
      "cell_type": "markdown",
      "metadata": {
        "id": "_2A_bfipQ9NR",
        "colab_type": "text"
      },
      "source": [
        "- นอกจากเราจะสามารถเลือกสมาชิกบางตัวในลิสต์ได้แล้ว เรายังสามารถเลือกบางส่วนของลิสต์ได้ด้วย\n",
        "- **คำสั่งเลือกบางส่วน (slicing):** `ลิสต์[` $a$ `:` $b$ `]` จะเลือกสมาชิกตั้งแต่ index ที่ $a$ จนถึง index ที่ $b - 1$\n",
        "- เช่น ถ้าเราต้องการเลือกสมาชิกตั้งแต่ตัวที่ 2 จนถึงตัวที่ 4 ของลิสต์ในตัวแปร `student_heights` เราจะใช้คำสั่ง `student_heights[1:4]`"
      ]
    },
    {
      "cell_type": "code",
      "metadata": {
        "id": "-1LUWF4AQ9NS",
        "colab_type": "code",
        "outputId": "ac795424-3699-423d-e8b4-59254b002e04",
        "colab": {
          "base_uri": "https://localhost:8080/",
          "height": 34
        }
      },
      "source": [
        "student_heights"
      ],
      "execution_count": 0,
      "outputs": [
        {
          "output_type": "execute_result",
          "data": {
            "text/plain": [
              "[163.5, 180.0, 167.0, 161.25, 170.0]"
            ]
          },
          "metadata": {
            "tags": []
          },
          "execution_count": 47
        }
      ]
    },
    {
      "cell_type": "code",
      "metadata": {
        "id": "qXt8y6VdQ9NU",
        "colab_type": "code",
        "outputId": "2397df2e-b7ad-4c22-8f56-a7a03e461fa0",
        "colab": {
          "base_uri": "https://localhost:8080/",
          "height": 34
        }
      },
      "source": [
        "student_heights[1:4]"
      ],
      "execution_count": 0,
      "outputs": [
        {
          "output_type": "execute_result",
          "data": {
            "text/plain": [
              "[180.0, 167.0, 161.25]"
            ]
          },
          "metadata": {
            "tags": []
          },
          "execution_count": 48
        }
      ]
    },
    {
      "cell_type": "markdown",
      "metadata": {
        "id": "thB4BqBLQ9NW",
        "colab_type": "text"
      },
      "source": [
        "- คำสั่งเลือกบางส่วนสามารถละจุดจบได้ด้วย `ลิสต์[` $a$ `:]`\n",
        "- เช่น เราจะเลือกสมาชิกตั้งแต่ตัวที่ 2 เป็นต้นไปในลิสต์ `student_heights` ด้วยคำสั่ง `student_heights[1:]`"
      ]
    },
    {
      "cell_type": "code",
      "metadata": {
        "id": "BLbAnkHMQ9NW",
        "colab_type": "code",
        "outputId": "b3e1a10e-37e8-4750-b6cb-0921a622eb3e",
        "colab": {
          "base_uri": "https://localhost:8080/",
          "height": 34
        }
      },
      "source": [
        "student_heights[1:]"
      ],
      "execution_count": 0,
      "outputs": [
        {
          "output_type": "execute_result",
          "data": {
            "text/plain": [
              "[180.0, 167.0, 161.25, 170.0]"
            ]
          },
          "metadata": {
            "tags": []
          },
          "execution_count": 49
        }
      ]
    },
    {
      "cell_type": "markdown",
      "metadata": {
        "id": "9r5C1IDpQ9NY",
        "colab_type": "text"
      },
      "source": [
        "- คำสั่งเลือกบางส่วนสามารถละจุดตั้งต้นได้ด้วย `ลิสต์[:` $b$ `]`\n",
        "- เช่น เราจะเลือกสมาชิกตั้งแต่ตัวแรกจนถึงตัวที่ 4 ด้วยคำสั่ง `student_heights[:4]`"
      ]
    },
    {
      "cell_type": "code",
      "metadata": {
        "id": "7_KH8QQ7Q9NY",
        "colab_type": "code",
        "outputId": "ce431433-ab8c-4503-9346-781b58acf346",
        "colab": {
          "base_uri": "https://localhost:8080/",
          "height": 34
        }
      },
      "source": [
        "student_heights[:4]"
      ],
      "execution_count": 0,
      "outputs": [
        {
          "output_type": "execute_result",
          "data": {
            "text/plain": [
              "[163.5, 180.0, 167.0, 161.25]"
            ]
          },
          "metadata": {
            "tags": []
          },
          "execution_count": 50
        }
      ]
    },
    {
      "cell_type": "markdown",
      "metadata": {
        "id": "yv1pWL8rQ9Na",
        "colab_type": "text"
      },
      "source": [
        "### แบบฝึกหัด 4.5"
      ]
    },
    {
      "cell_type": "markdown",
      "metadata": {
        "id": "RnBZw8g4Q9Nb",
        "colab_type": "text"
      },
      "source": [
        "ในแบบฝึกหัดนี้ เรามีลิสต์ `my_list` ที่มีสมาชิก 10 ตัวดังนี้"
      ]
    },
    {
      "cell_type": "code",
      "metadata": {
        "id": "KwGBhFs2Q9Nb",
        "colab_type": "code",
        "colab": {}
      },
      "source": [
        "my_list = [10, 20, 30, 40, 50, 60, 70, 80, 90, 100]"
      ],
      "execution_count": 0,
      "outputs": []
    },
    {
      "cell_type": "markdown",
      "metadata": {
        "id": "-P3QW6MmQ9Ne",
        "colab_type": "text"
      },
      "source": [
        "1. จงเลือกสมาชิกตัวที่ 3 จนถึงตัวที่ 7"
      ]
    },
    {
      "cell_type": "code",
      "metadata": {
        "id": "wEpImr9GQ9Nf",
        "colab_type": "code",
        "outputId": "befb08b7-3c26-4705-d28c-fae3eca029ab",
        "colab": {
          "base_uri": "https://localhost:8080/",
          "height": 34
        }
      },
      "source": [
        "my_list[2:7]"
      ],
      "execution_count": 0,
      "outputs": [
        {
          "output_type": "execute_result",
          "data": {
            "text/plain": [
              "[30, 40, 50, 60, 70]"
            ]
          },
          "metadata": {
            "tags": []
          },
          "execution_count": 53
        }
      ]
    },
    {
      "cell_type": "markdown",
      "metadata": {
        "id": "Rqaz9C2MQ9Ni",
        "colab_type": "text"
      },
      "source": [
        "2. จงเลือกสมาชิกตัวที่ 2 จนถึงตัวที่ 5"
      ]
    },
    {
      "cell_type": "code",
      "metadata": {
        "id": "9B9p_rqqQ9Nj",
        "colab_type": "code",
        "outputId": "ae7e7dbf-6140-4553-a6ad-8952ebc0b1f4",
        "colab": {
          "base_uri": "https://localhost:8080/",
          "height": 34
        }
      },
      "source": [
        "my_list[2:5]"
      ],
      "execution_count": 0,
      "outputs": [
        {
          "output_type": "execute_result",
          "data": {
            "text/plain": [
              "[30, 40, 50]"
            ]
          },
          "metadata": {
            "tags": []
          },
          "execution_count": 54
        }
      ]
    },
    {
      "cell_type": "markdown",
      "metadata": {
        "id": "2tvWQHuVQ9Nm",
        "colab_type": "text"
      },
      "source": [
        "3. จงเลือกสมาชิกตั้งแต่ตัวแรกจนถึงตัวที่ 8"
      ]
    },
    {
      "cell_type": "code",
      "metadata": {
        "id": "pE24XIMTQ9Nn",
        "colab_type": "code",
        "outputId": "0a8082e7-c9b7-41f7-e1ee-8804feebc2d6",
        "colab": {
          "base_uri": "https://localhost:8080/",
          "height": 34
        }
      },
      "source": [
        "my_list[:8]"
      ],
      "execution_count": 0,
      "outputs": [
        {
          "output_type": "execute_result",
          "data": {
            "text/plain": [
              "[10, 20, 30, 40, 50, 60, 70, 80]"
            ]
          },
          "metadata": {
            "tags": []
          },
          "execution_count": 55
        }
      ]
    },
    {
      "cell_type": "markdown",
      "metadata": {
        "id": "0X63dtBoQ9Nq",
        "colab_type": "text"
      },
      "source": [
        "4. จงเลือกสมาชิกตั้งแต่ตัวที่ 4 เป็นต้นไป"
      ]
    },
    {
      "cell_type": "code",
      "metadata": {
        "id": "VaqG-V4eQ9Nr",
        "colab_type": "code",
        "outputId": "a22ce418-321b-4aa1-8a95-da0ee3484db3",
        "colab": {
          "base_uri": "https://localhost:8080/",
          "height": 34
        }
      },
      "source": [
        "my_list[3:]"
      ],
      "execution_count": 0,
      "outputs": [
        {
          "output_type": "execute_result",
          "data": {
            "text/plain": [
              "[40, 50, 60, 70, 80, 90, 100]"
            ]
          },
          "metadata": {
            "tags": []
          },
          "execution_count": 57
        }
      ]
    },
    {
      "cell_type": "markdown",
      "metadata": {
        "id": "hnnbK7UMQ9Nu",
        "colab_type": "text"
      },
      "source": [
        "----"
      ]
    },
    {
      "cell_type": "markdown",
      "metadata": {
        "id": "Tdj2PFqvQ9Nv",
        "colab_type": "text"
      },
      "source": [
        "## กิจกรรม 5: ข้อความ"
      ]
    },
    {
      "cell_type": "markdown",
      "metadata": {
        "id": "hsuBIN-7Q9Nw",
        "colab_type": "text"
      },
      "source": [
        "- ในกิจกรรม 1 เราได้ทดลองพิมพ์ข้อความออกหน้าจอกันไปแล้ว\n",
        "- จริงๆ แล้ว ข้อความ (string) ก็เป็นข้อมูลรูปแบบหนึ่งที่เราสามารถประมวลผลได้และทดไว้ในตัวแปรได้เช่นเดียวกันครับ\n",
        "- เช่น เราสามารถเก็บข้อความ `'Hello'` ไว้ในตัวแปร `message` ได้"
      ]
    },
    {
      "cell_type": "code",
      "metadata": {
        "id": "yeS07L9QQ9Nx",
        "colab_type": "code",
        "outputId": "0227c0ad-5f2f-4c0d-ecd3-4094399ec38c",
        "colab": {
          "base_uri": "https://localhost:8080/",
          "height": 34
        }
      },
      "source": [
        "message = 'Hello'\n",
        "print(message)"
      ],
      "execution_count": 0,
      "outputs": [
        {
          "output_type": "stream",
          "text": [
            "Hello\n"
          ],
          "name": "stdout"
        }
      ]
    },
    {
      "cell_type": "markdown",
      "metadata": {
        "id": "Kkk0ST0wQ9Nz",
        "colab_type": "text"
      },
      "source": [
        "### การต่อข้อความ"
      ]
    },
    {
      "cell_type": "markdown",
      "metadata": {
        "id": "ReC4JC5zQ9N0",
        "colab_type": "text"
      },
      "source": [
        "- เราสามารถนำข้อความ 2 อันมาต่อกันได้ด้วยเครื่องหมาย `+` ครับ\n",
        "- เช่น เราจะต่อข้อความในตัวแปร `message1` และ `message2` เข้าด้วยกันได้ดังนี้"
      ]
    },
    {
      "cell_type": "code",
      "metadata": {
        "id": "hKTAUn8kQ9N1",
        "colab_type": "code",
        "outputId": "45d31db5-4576-4d87-eb63-edfbd8ada198",
        "colab": {
          "base_uri": "https://localhost:8080/",
          "height": 34
        }
      },
      "source": [
        "message1 = 'Hello '\n",
        "message2 = 'World!'\n",
        "message = message1 + message2\n",
        "print(message)"
      ],
      "execution_count": 0,
      "outputs": [
        {
          "output_type": "stream",
          "text": [
            "Hello World!\n"
          ],
          "name": "stdout"
        }
      ]
    },
    {
      "cell_type": "markdown",
      "metadata": {
        "id": "gc7gdlZ3Q9N3",
        "colab_type": "text"
      },
      "source": [
        "### การทำซ้ำข้อความ"
      ]
    },
    {
      "cell_type": "markdown",
      "metadata": {
        "id": "NbVelsnyQ9N4",
        "colab_type": "text"
      },
      "source": [
        "- นอกจากนี้เรายังสามารถทำซ้ำข้อความได้ด้วยเครื่องหมาย `*`\n",
        "- เช่น ถ้าเราต้องการทำซ้ำข้อความ `hello` 3 รอบ เราจะทำอย่างนี้ครับ"
      ]
    },
    {
      "cell_type": "code",
      "metadata": {
        "id": "nf4MTSCKQ9N4",
        "colab_type": "code",
        "outputId": "f1157d7c-40d4-4242-ce07-ac3c8821f683",
        "colab": {
          "base_uri": "https://localhost:8080/",
          "height": 34
        }
      },
      "source": [
        "3 * 'hello'"
      ],
      "execution_count": 0,
      "outputs": [
        {
          "output_type": "execute_result",
          "data": {
            "text/plain": [
              "'hellohellohello'"
            ]
          },
          "metadata": {
            "tags": []
          },
          "execution_count": 60
        }
      ]
    },
    {
      "cell_type": "markdown",
      "metadata": {
        "id": "Y5UJ1C45Q9N7",
        "colab_type": "text"
      },
      "source": [
        "### แบบฝึกหัด 5.1"
      ]
    },
    {
      "cell_type": "markdown",
      "metadata": {
        "id": "JhA37nMEQ9N8",
        "colab_type": "text"
      },
      "source": [
        "จงสร้างตัวแปร 2 ตัว\n",
        "\n",
        "- `message1` เก็บข้อความ `'Hello '`\n",
        "- `message2` เก็บข้อความ `'World '`\n",
        "\n",
        "หลังจากนั้นให้ทำซ้ำ `message1` 3 ครั้ง และ `message2` 5 ครั้ง นำผลลัพธ์ทั้งสองอันมาต่อกัน แล้วนำมาเก็บในตัวแปร `message3`"
      ]
    },
    {
      "cell_type": "code",
      "metadata": {
        "id": "I-FlO_irQ9N9",
        "colab_type": "code",
        "outputId": "55331062-6450-4830-9056-1e2ec075415b",
        "colab": {
          "base_uri": "https://localhost:8080/",
          "height": 34
        }
      },
      "source": [
        "message1 = 'Hello '\n",
        "message2 = 'World '\n",
        "message3 = (message1 * 3) + (message2 * 5)\n",
        "print(message3)"
      ],
      "execution_count": 0,
      "outputs": [
        {
          "output_type": "stream",
          "text": [
            "Hello Hello Hello World World World World World \n"
          ],
          "name": "stdout"
        }
      ]
    },
    {
      "cell_type": "markdown",
      "metadata": {
        "id": "YMP5K__0Q9OA",
        "colab_type": "text"
      },
      "source": [
        "### ข้อความในฐานะของลิสต์"
      ]
    },
    {
      "cell_type": "markdown",
      "metadata": {
        "id": "e95H1SQmQ9OB",
        "colab_type": "text"
      },
      "source": [
        "- ในภาษา Python ข้อความคือลิสต์ของตัวอักษรครับ\n",
        "- เราสามารถเข้าถึงตัวอักษรสมาชิกแต่ละตัวในข้อความได้"
      ]
    },
    {
      "cell_type": "code",
      "metadata": {
        "id": "-JDFV1KCQ9OC",
        "colab_type": "code",
        "outputId": "5b6895da-6107-4ae7-e566-bc03669a41f3",
        "colab": {
          "base_uri": "https://localhost:8080/",
          "height": 105
        }
      },
      "source": [
        "message = 'hello'\n",
        "print(message[0])\n",
        "print(message[1])\n",
        "print(message[2])\n",
        "print(message[3])\n",
        "print(message[4])"
      ],
      "execution_count": 0,
      "outputs": [
        {
          "output_type": "stream",
          "text": [
            "h\n",
            "e\n",
            "l\n",
            "l\n",
            "o\n"
          ],
          "name": "stdout"
        }
      ]
    },
    {
      "cell_type": "markdown",
      "metadata": {
        "id": "82AX_rfsQ9OI",
        "colab_type": "text"
      },
      "source": [
        "- นอกจากนี้ เรายังสามารถเลือกบางส่วนของข้อความมาได้ด้วย เหมือนอย่างที่เราเลือกบางส่วนของลิสต์ครับ\n",
        "- เช่น เราสามารถเลือกตั้งแต่ตัวอักษร index ที่ 1 จนถึง index ที่ 3 ได้ด้วยคำสั่งนี้"
      ]
    },
    {
      "cell_type": "code",
      "metadata": {
        "id": "Cfytag-iQ9OK",
        "colab_type": "code",
        "outputId": "7f1d281c-e2ed-4f88-e056-0f11aec47b48",
        "colab": {
          "base_uri": "https://localhost:8080/",
          "height": 34
        }
      },
      "source": [
        "message[1:4]"
      ],
      "execution_count": 0,
      "outputs": [
        {
          "output_type": "execute_result",
          "data": {
            "text/plain": [
              "'ell'"
            ]
          },
          "metadata": {
            "tags": []
          },
          "execution_count": 63
        }
      ]
    },
    {
      "cell_type": "markdown",
      "metadata": {
        "id": "Y7LRz_CAQ9OM",
        "colab_type": "text"
      },
      "source": [
        "- แต่ทั้งนี้เราไม่สามารถแก้ไขสมาชิกในข้อความได้นะครับ"
      ]
    },
    {
      "cell_type": "code",
      "metadata": {
        "id": "3LrS0QkWQ9ON",
        "colab_type": "code",
        "outputId": "b1c8133f-23d9-4727-878b-23f26e063170",
        "colab": {
          "base_uri": "https://localhost:8080/",
          "height": 167
        }
      },
      "source": [
        "message[1] = 'E'"
      ],
      "execution_count": 0,
      "outputs": [
        {
          "output_type": "error",
          "ename": "TypeError",
          "evalue": "ignored",
          "traceback": [
            "\u001b[0;31m---------------------------------------------------------------------------\u001b[0m",
            "\u001b[0;31mTypeError\u001b[0m                                 Traceback (most recent call last)",
            "\u001b[0;32m<ipython-input-64-46d905fec706>\u001b[0m in \u001b[0;36m<module>\u001b[0;34m()\u001b[0m\n\u001b[0;32m----> 1\u001b[0;31m \u001b[0mmessage\u001b[0m\u001b[0;34m[\u001b[0m\u001b[0;36m1\u001b[0m\u001b[0;34m]\u001b[0m \u001b[0;34m=\u001b[0m \u001b[0;34m'E'\u001b[0m\u001b[0;34m\u001b[0m\u001b[0;34m\u001b[0m\u001b[0m\n\u001b[0m",
            "\u001b[0;31mTypeError\u001b[0m: 'str' object does not support item assignment"
          ]
        }
      ]
    },
    {
      "cell_type": "markdown",
      "metadata": {
        "id": "CJq-M1oRQ9OQ",
        "colab_type": "text"
      },
      "source": [
        "### แบบฝึกหัด 5.2"
      ]
    },
    {
      "cell_type": "markdown",
      "metadata": {
        "id": "Aj8-jaV-Q9OR",
        "colab_type": "text"
      },
      "source": [
        "1. จงทำซ้ำข้อความ `'prachya'` จำนวน 10 ครั้งแล้วเก็บไว้ในตัวแปร `my_string`"
      ]
    },
    {
      "cell_type": "code",
      "metadata": {
        "id": "DfYuZgtGQ9OS",
        "colab_type": "code",
        "outputId": "e7db0122-c12f-44a3-fd2e-c03cca9a7625",
        "colab": {
          "base_uri": "https://localhost:8080/",
          "height": 34
        }
      },
      "source": [
        "my_string = 'prachya' * 10\n",
        "print(my_string)"
      ],
      "execution_count": 0,
      "outputs": [
        {
          "output_type": "stream",
          "text": [
            "prachyaprachyaprachyaprachyaprachyaprachyaprachyaprachyaprachyaprachya\n"
          ],
          "name": "stdout"
        }
      ]
    },
    {
      "cell_type": "markdown",
      "metadata": {
        "id": "AgVggi9mQ9OU",
        "colab_type": "text"
      },
      "source": [
        "2. จงเลือกบางส่วนของข้อความ `my_string` เริ่มจากตัวที่ 10 จนถึงตัวที่ 30 แล้วเก็บลงในตัวแปร `my_string1`"
      ]
    },
    {
      "cell_type": "code",
      "metadata": {
        "id": "3W3Cgs1VQ9OV",
        "colab_type": "code",
        "outputId": "251e8174-af4e-43a4-d976-1e81f0293d67",
        "colab": {
          "base_uri": "https://localhost:8080/",
          "height": 34
        }
      },
      "source": [
        "my_string1 = my_string[9:30]\n",
        "print(my_string1)"
      ],
      "execution_count": 0,
      "outputs": [
        {
          "output_type": "stream",
          "text": [
            "achyaprachyaprachyapr\n"
          ],
          "name": "stdout"
        }
      ]
    },
    {
      "cell_type": "markdown",
      "metadata": {
        "id": "FHr034NQQ9OW",
        "colab_type": "text"
      },
      "source": [
        "3. จงเลือกบางส่วนของข้อความ `my_string` ตั้งแต่ตัวที่ 20 เป็นต้นไป แล้วเก็บลงในตัวแปร `my_string2`"
      ]
    },
    {
      "cell_type": "code",
      "metadata": {
        "id": "vGmFYDutQ9OX",
        "colab_type": "code",
        "outputId": "091acd91-5f0c-4e72-e8a5-276f0f875a5b",
        "colab": {
          "base_uri": "https://localhost:8080/",
          "height": 34
        }
      },
      "source": [
        "my_string2 = my_string[19:]\n",
        "print(my_string2)"
      ],
      "execution_count": 0,
      "outputs": [
        {
          "output_type": "stream",
          "text": [
            "yaprachyaprachyaprachyaprachyaprachyaprachyaprachya\n"
          ],
          "name": "stdout"
        }
      ]
    },
    {
      "cell_type": "markdown",
      "metadata": {
        "id": "ociVpinDQ9OZ",
        "colab_type": "text"
      },
      "source": [
        "4. จงเลือกบางส่วนของข้อความ `my_string` ตั้งแต่ตัวแรกจนถึงตัวที่ 40  แล้วเก็บลงในตัวแปร `my_string3`"
      ]
    },
    {
      "cell_type": "code",
      "metadata": {
        "id": "2lWd4K2PQ9Oa",
        "colab_type": "code",
        "outputId": "50daab62-46b0-4d3b-db60-3fcae1a7c778",
        "colab": {
          "base_uri": "https://localhost:8080/",
          "height": 34
        }
      },
      "source": [
        "my_string3 = my_string[:40]\n",
        "print(my_string3)"
      ],
      "execution_count": 0,
      "outputs": [
        {
          "output_type": "stream",
          "text": [
            "prachyaprachyaprachyaprachyaprachyaprach\n"
          ],
          "name": "stdout"
        }
      ]
    },
    {
      "cell_type": "markdown",
      "metadata": {
        "id": "Q_EFqny5Q9Oc",
        "colab_type": "text"
      },
      "source": [
        "-----"
      ]
    },
    {
      "cell_type": "markdown",
      "metadata": {
        "id": "EJYhHvW5Q9Od",
        "colab_type": "text"
      },
      "source": [
        "## กิจกรรม 6: การวนซ้ำ"
      ]
    },
    {
      "cell_type": "markdown",
      "metadata": {
        "id": "_t_rtEayQ9Oe",
        "colab_type": "text"
      },
      "source": [
        "- สังเกตไหมครับว่า แบบฝึกหัดต่างๆ ในกิจกรรม 4 และ 5 ต้องใช้วิธี copy-paste แล้วแก้หมายเลขตำแหน่งของสมาชิกเอาทีละตำแหน่ง ถ้าเกิดลิสต์มีสมาชิกจำนวนมากขึ้นมา เราก็คงจะ copy-paste กันมือหงิกแน่นอน\n",
        "- เราสามารถใช้วิธีการวนลูป (loop) เพื่อทำกระบวนการเดิมซ้ำๆ ได้ครับ"
      ]
    },
    {
      "cell_type": "markdown",
      "metadata": {
        "id": "uGd5wg_SQ9Of",
        "colab_type": "text"
      },
      "source": [
        "### ลูปฟอร์ (for-loop)"
      ]
    },
    {
      "cell_type": "markdown",
      "metadata": {
        "id": "8T7rfMhKQ9Og",
        "colab_type": "text"
      },
      "source": [
        "- ลูปฟอร์ (for-loop) ใช้สำหรับทำกระบวนการเดิมซ้ำๆ กับสมาชิกแต่ละตัวในลิสต์ <u>**ตามลำดับ**</u>\n",
        "  - รูปแบบคำสั่งของลูปฟอร์คือ\n",
        "```python\n",
        "    for <ตัวแปร> in <ลิสต์> :\n",
        "        <กระบวนการ>\n",
        "```\n",
        "  - คำสั่งนี้จะแทนสมาชิกแต่ละตัวในลิสต์ด้วยตัวแปรที่กำหนด แล้วจึงทำซ้ำกระบวนการนี้จนกว่าจะใช้สมาชิกครบทุกตัวตามลำดับครับ\n",
        "  \n",
        "- เช่น ถ้าเราต้องการพิมพ์สมาชิกแต่ละตัวในลิสต์ `student_heights` ออกมา เราจะสั่งคำสั่งดังนี้"
      ]
    },
    {
      "cell_type": "code",
      "metadata": {
        "id": "6U8AO3pdQ9Oh",
        "colab_type": "code",
        "outputId": "46d508c1-9456-4713-cddb-96d48eeeb513",
        "colab": {
          "base_uri": "https://localhost:8080/",
          "height": 122
        }
      },
      "source": [
        "# ลิสต์ความสูงของนักเรียนในกลุ่ม\n",
        "student_heights = [163.5, 150.0, 167.0, 161.25, 170.0]\n",
        "\n",
        "# สมาชิกแต่ละตัวของลิสต์ student_heights จะแทนด้วยตัวแปร height\n",
        "for height in student_heights:\n",
        "    # พิมพ์ค่าของตัวแปร height ออกหน้าจอ\n",
        "    print(height)\n",
        "    \n",
        "print('That is all.')"
      ],
      "execution_count": 0,
      "outputs": [
        {
          "output_type": "stream",
          "text": [
            "163.5\n",
            "150.0\n",
            "167.0\n",
            "161.25\n",
            "170.0\n",
            "That is all.\n"
          ],
          "name": "stdout"
        }
      ]
    },
    {
      "cell_type": "markdown",
      "metadata": {
        "id": "qT9c9XDLQ9Ok",
        "colab_type": "text"
      },
      "source": [
        "- สิ่งที่อยากให้สังเกตตรงนี้คือ กระบวนการที่เราต้องการทำซ้ำคือ `print(height)` จะต้องมีย่อหน้าถัดเข้าไป"
      ]
    },
    {
      "cell_type": "markdown",
      "metadata": {
        "id": "FxUc1RAtQ9Oo",
        "colab_type": "text"
      },
      "source": [
        "### กฎการย่อหน้าของภาษาไพธอน\n",
        "\n",
        "- กระบวนการที่เราต้องการทำซ้ำในลูปทุกชนิด จะต้องย่อหน้าถัดเข้าไปทางขวาเสมอ\n",
        "- ขนาดของย่อหน้าที่นิยมกันคือ เคาะ spacebar 4 ครั้ง\n",
        "- เมื่อไรก็ตามที่ย่อหน้ากลับออกมาทางซ้าย จะถือว่าจบลูปแล้ว"
      ]
    },
    {
      "cell_type": "markdown",
      "metadata": {
        "id": "uHVb8rQtQ9Op",
        "colab_type": "text"
      },
      "source": [
        "### แบบฝึกหัด 6.1"
      ]
    },
    {
      "cell_type": "markdown",
      "metadata": {
        "id": "45nNbF2oQ9Oq",
        "colab_type": "text"
      },
      "source": [
        "1. พิมพ์สมาชิกแต่ละตัวในลิสต์ `my_list` ออกหน้าจอโดยใช้ลูปฟอร์และคำสั่ง `print`"
      ]
    },
    {
      "cell_type": "code",
      "metadata": {
        "id": "Jk4Bh5lzQ9Or",
        "colab_type": "code",
        "outputId": "d0239f73-b33d-4f47-f12b-e7b655acfc37",
        "colab": {
          "base_uri": "https://localhost:8080/",
          "height": 105
        }
      },
      "source": [
        "my_list = ['hello', 'my', 'name', 'is', 'prachya']\n",
        "\n",
        "# ลูปฟอร์\n",
        "for word in my_list:\n",
        "  print(word)"
      ],
      "execution_count": 0,
      "outputs": [
        {
          "output_type": "stream",
          "text": [
            "hello\n",
            "my\n",
            "name\n",
            "is\n",
            "prachya\n"
          ],
          "name": "stdout"
        }
      ]
    },
    {
      "cell_type": "markdown",
      "metadata": {
        "id": "76faC4kKQ9Ot",
        "colab_type": "text"
      },
      "source": [
        "2. เพิ่มค่าสมาชิกแต่ละตัวในลิสต์ `my_numbers` ตัวละ 10 และพิมพ์ออกหน้าจอ"
      ]
    },
    {
      "cell_type": "code",
      "metadata": {
        "id": "ytAELWg4Q9Ot",
        "colab_type": "code",
        "outputId": "700ebc59-4eb6-441d-b5a4-25a0b5786ffc",
        "colab": {
          "base_uri": "https://localhost:8080/",
          "height": 193
        }
      },
      "source": [
        "my_numbers = [100, 90, 80, 70, 60, 50, 40, 30, 20, 10]\n",
        "\n",
        "# ลูปฟอร์\n",
        "for number in my_numbers:\n",
        "    print(number+10)"
      ],
      "execution_count": 0,
      "outputs": [
        {
          "output_type": "stream",
          "text": [
            "110\n",
            "100\n",
            "90\n",
            "80\n",
            "70\n",
            "60\n",
            "50\n",
            "40\n",
            "30\n",
            "20\n"
          ],
          "name": "stdout"
        }
      ]
    },
    {
      "cell_type": "markdown",
      "metadata": {
        "id": "NHlJbHNbQ9Ow",
        "colab_type": "text"
      },
      "source": [
        "### ช่วงจำนวน (range)"
      ]
    },
    {
      "cell_type": "markdown",
      "metadata": {
        "id": "LRiOPKvAQ9Ox",
        "colab_type": "text"
      },
      "source": [
        "- บางครั้งเราจำเป็นต้องวนลูปฟอร์บนเลขตำแหน่ง index ด้วย\n",
        "- เราสามารถใช้คำสั่ง `range(` $a$ `,` $b$ `)` เพื่อสร้างช่วงจำนวนในลูปฟอร์ได้ โดย $a$ จะเป็นค่า index เริ่มต้นและ $b - 1$ จะเป็นค่าสุดท้ายครับ เช่น"
      ]
    },
    {
      "cell_type": "code",
      "metadata": {
        "id": "nCcbj6o1Q9Oy",
        "colab_type": "code",
        "outputId": "b8369bf3-172e-495f-f2e3-b0f70cf9e858",
        "colab": {
          "base_uri": "https://localhost:8080/",
          "height": 193
        }
      },
      "source": [
        "for i in range(1, 11):\n",
        "    print('i =', i)"
      ],
      "execution_count": 0,
      "outputs": [
        {
          "output_type": "stream",
          "text": [
            "i = 1\n",
            "i = 2\n",
            "i = 3\n",
            "i = 4\n",
            "i = 5\n",
            "i = 6\n",
            "i = 7\n",
            "i = 8\n",
            "i = 9\n",
            "i = 10\n"
          ],
          "name": "stdout"
        }
      ]
    },
    {
      "cell_type": "markdown",
      "metadata": {
        "id": "w46QzdRgQ9O0",
        "colab_type": "text"
      },
      "source": [
        "- หากเราละค่า $a$ ไป เหลือเพียง `range(` $b$ `)` ช่วงจำนวนจะเริ่มต้นจาก 0 และสิ้นสุดที่ $b - 1$ ครับ"
      ]
    },
    {
      "cell_type": "code",
      "metadata": {
        "id": "uLuhP06dQ9O1",
        "colab_type": "code",
        "outputId": "e1f88f8b-73b6-4768-d0d3-d2c6557d2529",
        "colab": {
          "base_uri": "https://localhost:8080/",
          "height": 369
        }
      },
      "source": [
        "for i in range(20):\n",
        "    print('i =', i)"
      ],
      "execution_count": 0,
      "outputs": [
        {
          "output_type": "stream",
          "text": [
            "i = 0\n",
            "i = 1\n",
            "i = 2\n",
            "i = 3\n",
            "i = 4\n",
            "i = 5\n",
            "i = 6\n",
            "i = 7\n",
            "i = 8\n",
            "i = 9\n",
            "i = 10\n",
            "i = 11\n",
            "i = 12\n",
            "i = 13\n",
            "i = 14\n",
            "i = 15\n",
            "i = 16\n",
            "i = 17\n",
            "i = 18\n",
            "i = 19\n"
          ],
          "name": "stdout"
        }
      ]
    },
    {
      "cell_type": "markdown",
      "metadata": {
        "id": "tmKJ4ekaQ9O4",
        "colab_type": "text"
      },
      "source": [
        "- นอกจากนี้เรายังสามารถกำหนดขนาดของก้าวในการสร้างช่วงจำนวนได้ โดยใช้คำสั่ง `range(` $a$ `,` $b$ `,` $c$ `)` เมื่อค่า $c$ คือขนาดของก้าว"
      ]
    },
    {
      "cell_type": "code",
      "metadata": {
        "id": "GJp7DBCUQ9O5",
        "colab_type": "code",
        "outputId": "b52aa37e-7600-4512-b695-f77c87e706c8",
        "colab": {
          "base_uri": "https://localhost:8080/",
          "height": 193
        }
      },
      "source": [
        "# ก้าวมีขนาดเท่ากับ 2\n",
        "for i in range(0, 20, 2):\n",
        "    print('i =', i)"
      ],
      "execution_count": 0,
      "outputs": [
        {
          "output_type": "stream",
          "text": [
            "i = 0\n",
            "i = 2\n",
            "i = 4\n",
            "i = 6\n",
            "i = 8\n",
            "i = 10\n",
            "i = 12\n",
            "i = 14\n",
            "i = 16\n",
            "i = 18\n"
          ],
          "name": "stdout"
        }
      ]
    },
    {
      "cell_type": "markdown",
      "metadata": {
        "id": "x6qkLMplQ9O8",
        "colab_type": "text"
      },
      "source": [
        "- ข้อดีของการใช้คำสั่ง `range` ที่กำหนดขนาดของก้าวได้ ก็คือ เราสามารถไล่ index ย้อนหลังได้ด้วย เช่น"
      ]
    },
    {
      "cell_type": "code",
      "metadata": {
        "id": "8czmylxTQ9O9",
        "colab_type": "code",
        "outputId": "249d31e2-3907-4a93-f5f0-d4da54327c1f",
        "colab": {
          "base_uri": "https://localhost:8080/",
          "height": 193
        }
      },
      "source": [
        "# ก้าวมีขนาดติดลบ แปลว่าเดินถอยหลัง\n",
        "for i in range(10, 0, -1):\n",
        "    print(i)\n",
        "    \n",
        "# สังเกตว่าลูปฟอร์จะหยุดทำงานเมื่อค่า index i = 0 ทำให้ไม่พิมพ์ค่า 0 ออกมาทางหน้าจอ"
      ],
      "execution_count": 0,
      "outputs": [
        {
          "output_type": "stream",
          "text": [
            "10\n",
            "9\n",
            "8\n",
            "7\n",
            "6\n",
            "5\n",
            "4\n",
            "3\n",
            "2\n",
            "1\n"
          ],
          "name": "stdout"
        }
      ]
    },
    {
      "cell_type": "markdown",
      "metadata": {
        "id": "RYeObuj2Q9PA",
        "colab_type": "text"
      },
      "source": [
        "### แบบฝึกหัด 6.2"
      ]
    },
    {
      "cell_type": "markdown",
      "metadata": {
        "id": "VtrY7sSjQ9PB",
        "colab_type": "text"
      },
      "source": [
        "1. จงวนลูปค่า index `i` จากค่า 1 ถึง 20 แล้วพิมพ์ค่าของ `2 * i` ออกมาทางหน้าจอ"
      ]
    },
    {
      "cell_type": "code",
      "metadata": {
        "id": "aoy2BnGCQ9PC",
        "colab_type": "code",
        "outputId": "18c06182-34ba-4796-9e5e-e4cfd4c3a00c",
        "colab": {
          "base_uri": "https://localhost:8080/",
          "height": 369
        }
      },
      "source": [
        "# วนลูปค่า index i จาก 1 ถึง 20\n",
        "for i in range(1,21):\n",
        "    # พิมพ์ค่า 2 * i ออกทางหน้าจอ\n",
        "    print(2 * i)"
      ],
      "execution_count": 0,
      "outputs": [
        {
          "output_type": "stream",
          "text": [
            "2\n",
            "4\n",
            "6\n",
            "8\n",
            "10\n",
            "12\n",
            "14\n",
            "16\n",
            "18\n",
            "20\n",
            "22\n",
            "24\n",
            "26\n",
            "28\n",
            "30\n",
            "32\n",
            "34\n",
            "36\n",
            "38\n",
            "40\n"
          ],
          "name": "stdout"
        }
      ]
    },
    {
      "cell_type": "markdown",
      "metadata": {
        "id": "rJazBtrwQ9PF",
        "colab_type": "text"
      },
      "source": [
        "2. จงวนลูปค่า index `i` จากค่า 100 จนถึง 10 แล้วพิมพ์ค่า `i / 10` ออกมาทางหน้าจอ"
      ]
    },
    {
      "cell_type": "code",
      "metadata": {
        "id": "fOSDff2yQ9PG",
        "colab_type": "code",
        "outputId": "467af9be-1826-48e2-b738-ed8ff23b6046",
        "colab": {
          "base_uri": "https://localhost:8080/",
          "height": 1601
        }
      },
      "source": [
        "# วนลูปค่า index i จาก 100 จนถึง 10\n",
        "for i in range(100, 10, -1):\n",
        "    # พิมพ์ค่า i / 10 ออกมาทางหน้าจอ\n",
        "    print(i / 10)"
      ],
      "execution_count": 0,
      "outputs": [
        {
          "output_type": "stream",
          "text": [
            "10.0\n",
            "9.9\n",
            "9.8\n",
            "9.7\n",
            "9.6\n",
            "9.5\n",
            "9.4\n",
            "9.3\n",
            "9.2\n",
            "9.1\n",
            "9.0\n",
            "8.9\n",
            "8.8\n",
            "8.7\n",
            "8.6\n",
            "8.5\n",
            "8.4\n",
            "8.3\n",
            "8.2\n",
            "8.1\n",
            "8.0\n",
            "7.9\n",
            "7.8\n",
            "7.7\n",
            "7.6\n",
            "7.5\n",
            "7.4\n",
            "7.3\n",
            "7.2\n",
            "7.1\n",
            "7.0\n",
            "6.9\n",
            "6.8\n",
            "6.7\n",
            "6.6\n",
            "6.5\n",
            "6.4\n",
            "6.3\n",
            "6.2\n",
            "6.1\n",
            "6.0\n",
            "5.9\n",
            "5.8\n",
            "5.7\n",
            "5.6\n",
            "5.5\n",
            "5.4\n",
            "5.3\n",
            "5.2\n",
            "5.1\n",
            "5.0\n",
            "4.9\n",
            "4.8\n",
            "4.7\n",
            "4.6\n",
            "4.5\n",
            "4.4\n",
            "4.3\n",
            "4.2\n",
            "4.1\n",
            "4.0\n",
            "3.9\n",
            "3.8\n",
            "3.7\n",
            "3.6\n",
            "3.5\n",
            "3.4\n",
            "3.3\n",
            "3.2\n",
            "3.1\n",
            "3.0\n",
            "2.9\n",
            "2.8\n",
            "2.7\n",
            "2.6\n",
            "2.5\n",
            "2.4\n",
            "2.3\n",
            "2.2\n",
            "2.1\n",
            "2.0\n",
            "1.9\n",
            "1.8\n",
            "1.7\n",
            "1.6\n",
            "1.5\n",
            "1.4\n",
            "1.3\n",
            "1.2\n",
            "1.1\n"
          ],
          "name": "stdout"
        }
      ]
    },
    {
      "cell_type": "markdown",
      "metadata": {
        "id": "LNa_qbUPQ9PI",
        "colab_type": "text"
      },
      "source": [
        "3. จงวนลูปค่า index `i` จากค่า 0 ถึง `len(student_heights) - 1` และแปลงหน่วยความสูงของนักเรียนแต่ละคนจากหน่วยเซนติเมตรเป็นหน่วยเมตร [คำใบ้: 100 เซนติเมตร = 1 เมตร]"
      ]
    },
    {
      "cell_type": "code",
      "metadata": {
        "id": "iPywvzwDQ9PJ",
        "colab_type": "code",
        "outputId": "fee85eae-07cf-4de0-e436-0e7e92c7e074",
        "colab": {
          "base_uri": "https://localhost:8080/",
          "height": 105
        }
      },
      "source": [
        "student_heights = [163.5, 150.0, 167.0, 161.25, 170.0]\n",
        "\n",
        "for i in range(len(student_heights)):\n",
        "    print(student_heights[i]/100)"
      ],
      "execution_count": 0,
      "outputs": [
        {
          "output_type": "stream",
          "text": [
            "1.635\n",
            "1.5\n",
            "1.67\n",
            "1.6125\n",
            "1.7\n"
          ],
          "name": "stdout"
        }
      ]
    },
    {
      "cell_type": "markdown",
      "metadata": {
        "id": "-Jf6ADDIQ9PM",
        "colab_type": "text"
      },
      "source": [
        "4. จงวนลูปเพื่อแสดงสูตรคูณแม่ 3 ไล่ตั้งแต่ $3 \\times 1$ จนถึง $3 \\times 12$ โดยจะได้ผลลัพธ์ดังนี้\n",
        "\n",
        "```\n",
        "3 * 1 = 3\n",
        "3 * 2 = 6\n",
        "3 * 3 = 9\n",
        ":\n",
        ":\n",
        ":\n",
        "3 * 12 = 36\n",
        "```"
      ]
    },
    {
      "cell_type": "code",
      "metadata": {
        "id": "8kfYlaf-Q9PM",
        "colab_type": "code",
        "outputId": "ff08cb97-d1c1-460d-f63c-ab3072c96d3c",
        "colab": {
          "base_uri": "https://localhost:8080/",
          "height": 228
        }
      },
      "source": [
        "# วนลูปค่า index i จาก 1 ถึง 12\n",
        "for i in range(1,13):\n",
        "    print('3 *',i,'=',3*i)"
      ],
      "execution_count": 0,
      "outputs": [
        {
          "output_type": "stream",
          "text": [
            "3 * 1 = 3\n",
            "3 * 2 = 6\n",
            "3 * 3 = 9\n",
            "3 * 4 = 12\n",
            "3 * 5 = 15\n",
            "3 * 6 = 18\n",
            "3 * 7 = 21\n",
            "3 * 8 = 24\n",
            "3 * 9 = 27\n",
            "3 * 10 = 30\n",
            "3 * 11 = 33\n",
            "3 * 12 = 36\n"
          ],
          "name": "stdout"
        }
      ]
    },
    {
      "cell_type": "markdown",
      "metadata": {
        "id": "fEhulI74Q9PO",
        "colab_type": "text"
      },
      "source": [
        "### ลูปซ้อนลูป (loop embedding)"
      ]
    },
    {
      "cell_type": "markdown",
      "metadata": {
        "id": "dVvGMKYBQ9PP",
        "colab_type": "text"
      },
      "source": [
        "- เราสามารถเขียนลูปซ้อนลูปได้ด้วย หากว่าโปรแกรมของเรามีความซับซ้อนกว่าลูปเดียว\n",
        "- เช่น เราสามารถวนลูปเพื่อไล่สูตรคูณแม่ 3 ถึงแม่ 5 ได้ดังนี้ครับ"
      ]
    },
    {
      "cell_type": "code",
      "metadata": {
        "id": "jL3U1XV9Q9PQ",
        "colab_type": "code",
        "outputId": "3f85bcb3-0ebf-4089-e24e-aaf3d9add319",
        "colab": {
          "base_uri": "https://localhost:8080/",
          "height": 756
        }
      },
      "source": [
        "# วนลูป index m เพื่อไล่แม่สูตรคูณจากแม่ 3 ถึงแม่ 5\n",
        "for m in range(3, 6):\n",
        "    print('Multiplication of', m)\n",
        "    # วนลูป index i เพื่อไล่ตัวคูณจาก 1 ถึง 12\n",
        "    for i in range(1, 13):\n",
        "        print(m, '*', i, '=', m * i)\n",
        "    # พิมพ์บรรทัดใหม่คั่นระหว่างแม่\n",
        "    print()"
      ],
      "execution_count": 0,
      "outputs": [
        {
          "output_type": "stream",
          "text": [
            "Multiplication of 3\n",
            "3 * 1 = 3\n",
            "3 * 2 = 6\n",
            "3 * 3 = 9\n",
            "3 * 4 = 12\n",
            "3 * 5 = 15\n",
            "3 * 6 = 18\n",
            "3 * 7 = 21\n",
            "3 * 8 = 24\n",
            "3 * 9 = 27\n",
            "3 * 10 = 30\n",
            "3 * 11 = 33\n",
            "3 * 12 = 36\n",
            "\n",
            "Multiplication of 4\n",
            "4 * 1 = 4\n",
            "4 * 2 = 8\n",
            "4 * 3 = 12\n",
            "4 * 4 = 16\n",
            "4 * 5 = 20\n",
            "4 * 6 = 24\n",
            "4 * 7 = 28\n",
            "4 * 8 = 32\n",
            "4 * 9 = 36\n",
            "4 * 10 = 40\n",
            "4 * 11 = 44\n",
            "4 * 12 = 48\n",
            "\n",
            "Multiplication of 5\n",
            "5 * 1 = 5\n",
            "5 * 2 = 10\n",
            "5 * 3 = 15\n",
            "5 * 4 = 20\n",
            "5 * 5 = 25\n",
            "5 * 6 = 30\n",
            "5 * 7 = 35\n",
            "5 * 8 = 40\n",
            "5 * 9 = 45\n",
            "5 * 10 = 50\n",
            "5 * 11 = 55\n",
            "5 * 12 = 60\n",
            "\n"
          ],
          "name": "stdout"
        }
      ]
    },
    {
      "cell_type": "markdown",
      "metadata": {
        "id": "F9roSM7sQ9PR",
        "colab_type": "text"
      },
      "source": [
        "- ข้อสังเกตจากการวนลูปฟอร์ในการไล่แม่สูตรคูณก็คือ\n",
        "  1. ในลูปนอก เราจะวนลูป index ของแม่สูตรคูณก่อน เช่น แม่ 3 ถึงแม่ 5 เป็นต้น\n",
        "  2. ส่วนลูปข้างใน เราจะวนลูป index ของตัวคูณในแต่ละแม่ คือตั้งแต่ 1 ถึง 12\n",
        "- นั่นแสดงว่า ถ้าเราจะเขียนโปรแกรมที่สลับซับซ้อนได้ เราจะต้องแยกแยะและถอดลูปออกเป็นชั้นนอกและชั้นในให้ออกครับ"
      ]
    },
    {
      "cell_type": "markdown",
      "metadata": {
        "id": "qZOiegQdQ9PS",
        "colab_type": "text"
      },
      "source": [
        "### แบบฝึกหัด 6.3"
      ]
    },
    {
      "cell_type": "markdown",
      "metadata": {
        "id": "Q-eFBSFJQ9PT",
        "colab_type": "text"
      },
      "source": [
        "1. จงเขียนโปรแกรมเพื่อไล่แม่สูตรคูณจากแม่ 11 ถึงแม่ 15 โดยแต่ละแม่จะคูณกับตัวเลขตั้งแต่ 1 จนถึง 12"
      ]
    },
    {
      "cell_type": "code",
      "metadata": {
        "id": "aXdRxuIdQ9PT",
        "colab_type": "code",
        "outputId": "4ad9e4a4-015f-4c95-9041-84082891d521",
        "colab": {
          "base_uri": "https://localhost:8080/",
          "height": 1249
        }
      },
      "source": [
        "for m in range(11,16):\n",
        "    print('Multiplication of',m)\n",
        "    for i in range(1,13):\n",
        "        print(m,'*',i,'=',m*i)\n",
        "    print()    "
      ],
      "execution_count": 0,
      "outputs": [
        {
          "output_type": "stream",
          "text": [
            "Multiplication of 11\n",
            "11 * 1 = 11\n",
            "11 * 2 = 22\n",
            "11 * 3 = 33\n",
            "11 * 4 = 44\n",
            "11 * 5 = 55\n",
            "11 * 6 = 66\n",
            "11 * 7 = 77\n",
            "11 * 8 = 88\n",
            "11 * 9 = 99\n",
            "11 * 10 = 110\n",
            "11 * 11 = 121\n",
            "11 * 12 = 132\n",
            "\n",
            "Multiplication of 12\n",
            "12 * 1 = 12\n",
            "12 * 2 = 24\n",
            "12 * 3 = 36\n",
            "12 * 4 = 48\n",
            "12 * 5 = 60\n",
            "12 * 6 = 72\n",
            "12 * 7 = 84\n",
            "12 * 8 = 96\n",
            "12 * 9 = 108\n",
            "12 * 10 = 120\n",
            "12 * 11 = 132\n",
            "12 * 12 = 144\n",
            "\n",
            "Multiplication of 13\n",
            "13 * 1 = 13\n",
            "13 * 2 = 26\n",
            "13 * 3 = 39\n",
            "13 * 4 = 52\n",
            "13 * 5 = 65\n",
            "13 * 6 = 78\n",
            "13 * 7 = 91\n",
            "13 * 8 = 104\n",
            "13 * 9 = 117\n",
            "13 * 10 = 130\n",
            "13 * 11 = 143\n",
            "13 * 12 = 156\n",
            "\n",
            "Multiplication of 14\n",
            "14 * 1 = 14\n",
            "14 * 2 = 28\n",
            "14 * 3 = 42\n",
            "14 * 4 = 56\n",
            "14 * 5 = 70\n",
            "14 * 6 = 84\n",
            "14 * 7 = 98\n",
            "14 * 8 = 112\n",
            "14 * 9 = 126\n",
            "14 * 10 = 140\n",
            "14 * 11 = 154\n",
            "14 * 12 = 168\n",
            "\n",
            "Multiplication of 15\n",
            "15 * 1 = 15\n",
            "15 * 2 = 30\n",
            "15 * 3 = 45\n",
            "15 * 4 = 60\n",
            "15 * 5 = 75\n",
            "15 * 6 = 90\n",
            "15 * 7 = 105\n",
            "15 * 8 = 120\n",
            "15 * 9 = 135\n",
            "15 * 10 = 150\n",
            "15 * 11 = 165\n",
            "15 * 12 = 180\n",
            "\n"
          ],
          "name": "stdout"
        }
      ]
    },
    {
      "cell_type": "markdown",
      "metadata": {
        "id": "73_-bNvhQ9PV",
        "colab_type": "text"
      },
      "source": [
        "2. จงเขียนโปรแกรมเพื่อแสดงจัตุรัสตัวเลข 1 ถึง 9 โดยใช้ลูปซ้อนกัน 2 ลูป ซึ่งผลลัพธ์จะเป็นดังต่อไปนี้\n",
        "\n",
        "```\n",
        "1 2 3\n",
        "4 5 6\n",
        "7 8 9\n",
        "```"
      ]
    },
    {
      "cell_type": "code",
      "metadata": {
        "id": "f8LeF9ssQ9PV",
        "colab_type": "code",
        "outputId": "716d4ade-c0d9-447c-eae5-1a2dcdc56aa3",
        "colab": {
          "base_uri": "https://localhost:8080/",
          "height": 70
        }
      },
      "source": [
        "for i in range (3):\n",
        "  for j in range (3):\n",
        "    print(j+1+(3*i), end = \" \")\n",
        "  print()\n",
        "  \n",
        " \n",
        "  "
      ],
      "execution_count": 0,
      "outputs": [
        {
          "output_type": "stream",
          "text": [
            "1 2 3 \n",
            "4 5 6 \n",
            "7 8 9 \n"
          ],
          "name": "stdout"
        }
      ]
    },
    {
      "cell_type": "markdown",
      "metadata": {
        "id": "3lUPeiO2Q9PX",
        "colab_type": "text"
      },
      "source": [
        "3. จงเขียนโปรแกรมเพื่อแสดงจัตุรัสตัวเลข 1 ถึง 27 โดยใช้ลูปซ้อนกัน 3 ลูป ซึ่งผลลัพธ์จะเป็นดังนี้\n",
        "\n",
        "```\n",
        "1 2 3\n",
        "4 5 6\n",
        "7 8 9\n",
        "\n",
        "10 11 12\n",
        "13 14 15\n",
        "16 17 18\n",
        "\n",
        "19 20 21\n",
        "22 23 24\n",
        "25 26 27\n",
        "```\n",
        "\n",
        "   **หมายเหตุ:** เราสามารถระบุให้คำสั่ง `print` ไม่ต้องขึ้นบรรทัดใหม่หลังจากพิมพ์ค่าออกหน้าจอได้ด้วยการระบุ `end=''` ไว้ในวงเล็บของ `print` ครับ"
      ]
    },
    {
      "cell_type": "code",
      "metadata": {
        "id": "vraTQG9gQ9PY",
        "colab_type": "code",
        "outputId": "2d0ccadb-a6a4-444d-809a-f087c774f40e",
        "colab": {
          "base_uri": "https://localhost:8080/",
          "height": 228
        }
      },
      "source": [
        "for i in range(3):\n",
        "    for j in range(3):\n",
        "        for k in range(3):\n",
        "            print((i*3**2)+(j*3)+(k+1), '', end='')\n",
        "        print()\n",
        "    print()"
      ],
      "execution_count": 0,
      "outputs": [
        {
          "output_type": "stream",
          "text": [
            "1 2 3 \n",
            "4 5 6 \n",
            "7 8 9 \n",
            "\n",
            "10 11 12 \n",
            "13 14 15 \n",
            "16 17 18 \n",
            "\n",
            "19 20 21 \n",
            "22 23 24 \n",
            "25 26 27 \n",
            "\n"
          ],
          "name": "stdout"
        }
      ]
    },
    {
      "cell_type": "markdown",
      "metadata": {
        "id": "d4XrWBJLQ9Pa",
        "colab_type": "text"
      },
      "source": [
        "-----"
      ]
    },
    {
      "cell_type": "markdown",
      "metadata": {
        "id": "TMyTusEGQ9Pb",
        "colab_type": "text"
      },
      "source": [
        "## กิจกรรม 7: การกำหนดเงื่อนไข"
      ]
    },
    {
      "cell_type": "markdown",
      "metadata": {
        "id": "QpWfuLjhQ9Pc",
        "colab_type": "text"
      },
      "source": [
        "- กิจกรรมสุดท้ายสำหรับวันนี้คือการกำหนดเงื่อนไขครับ\n",
        "- การกำหนดเงื่อนไข (branching) ในภาษาไพธอนจะใช้คำสั่ง `if` (แปลว่า 'ถ้า') ครับ โดยจะมีรูปแบบดังนี้\n",
        "\n",
        "```python\n",
        "if <เงื่อนไข>:\n",
        "    <กระบวนการ>\n",
        "```\n",
        "\n",
        "- คอมพิวเตอร์จะทำกระบวนการที่อยู่ในด้านใน ถ้าหากว่าเงื่อนไขที่กำหนดนี้เป็นจริง\n",
        "- จะสังเกตว่ากระบวนการนี้จะต้องย่อหน้าเหมือนกับคำสั่งลูป `for` เลย\n",
        "  - นั่นเป็นเพราะว่าการเว้นวรรคย่อหน้าจะเป็นการบอกสโคป (scope) ของคำสั่ง ว่าเป็นกระบวนการที่อยู่ภายใต้คำสั่งที่อยู่ด้านนอก\n",
        "  - การวนลูปก็จะวนภายใน scope ของตัวเอง\n",
        "  - การกำหนดเงื่อนไขก็จะทำงานเฉพาะภายใน scope ของตัวเองเท่านั้นครับ\n",
        "- เช่น โปรแกรมด้านล่างนี้จะพิมพ์ข้อความ `'Hurray!'` ถ้าหากว่าเงินเดือนในตัวแปร `salary` มีค่ามากกว่า 10,000 บาท"
      ]
    },
    {
      "cell_type": "code",
      "metadata": {
        "id": "rma2bUcLQ9Pd",
        "colab_type": "code",
        "outputId": "100bcbcc-f22b-4961-be52-d5a9b0b0ff33",
        "colab": {
          "base_uri": "https://localhost:8080/",
          "height": 34
        }
      },
      "source": [
        "salary = 15000\n",
        "\n",
        "if salary > 10000:\n",
        "    print('Hurray!')"
      ],
      "execution_count": 0,
      "outputs": [
        {
          "output_type": "stream",
          "text": [
            "Hurray!\n"
          ],
          "name": "stdout"
        }
      ]
    },
    {
      "cell_type": "markdown",
      "metadata": {
        "id": "DZhLkAHXQ9Pf",
        "colab_type": "text"
      },
      "source": [
        "- ทดลองเปลี่ยนค่าตัวเลขของตัวแปร `salary` แล้วรันใหม่ดูนะครับ"
      ]
    },
    {
      "cell_type": "markdown",
      "metadata": {
        "id": "te0OeuBSQ9Pf",
        "colab_type": "text"
      },
      "source": [
        "### รูปแบบของเงื่อนไข"
      ]
    },
    {
      "cell_type": "markdown",
      "metadata": {
        "id": "TVXVV7HMQ9Pg",
        "colab_type": "text"
      },
      "source": [
        "- เราสามารถใช้เครื่องหมายเปรียบเทียบทางคณิตศาสตร์ได้เหมือนในวิชาคณิตศาสตร์ครับ\n",
        "\n",
        "| เครื่องหมาย | ความหมาย |           ตัวอย่าง           |\n",
        "|:---------:|:--------:|:--------------------------:|\n",
        "|    `<`    |  น้อยกว่า  |           `3 < 5`          |\n",
        "|    `>`    |  มากกว่า  |           `5 > 3`          |\n",
        "|    `==`   |  เท่ากับ   | `my_salary == your_salary` |\n",
        "|    `!=`   |  ไม่เท่ากับ | `my_salary != your_salary` |\n",
        "|    `>=`   |  มากกว่าหรือเท่ากับ   | `my_salary >= your_salary` |\n",
        "|    `<=`   |  น้อยกว่าหรือเท่ากับ   | `my_salary <= your_salary` |\n",
        "\n",
        "- ถ้าเราลองพิมพ์ค่าความจริงของเงื่อนไขออกมา เราจะได้เป็นค่า `True` หรือ `False` ซึ่งค่าความจริงก็เป็นข้อมูลประเภทหนึ่งเหมือนกัน เรียกว่า *ค่าตรรกะ* (boolean) ครับ เช่น"
      ]
    },
    {
      "cell_type": "code",
      "metadata": {
        "id": "zNw1-P5sQ9Ph",
        "colab_type": "code",
        "outputId": "3723c7db-67f7-48e1-dc50-15b8880aa883",
        "colab": {
          "base_uri": "https://localhost:8080/",
          "height": 87
        }
      },
      "source": [
        "print(0.5 > 0.3)        # True\n",
        "print(0.25 < -1.0)      # False\n",
        "print(1.25 == 1.25)     # True\n",
        "print(1.30 != -0.78)    # True"
      ],
      "execution_count": 0,
      "outputs": [
        {
          "output_type": "stream",
          "text": [
            "True\n",
            "False\n",
            "True\n",
            "True\n"
          ],
          "name": "stdout"
        }
      ]
    },
    {
      "cell_type": "markdown",
      "metadata": {
        "id": "-4Wgi11IQ9Po",
        "colab_type": "text"
      },
      "source": [
        "- ทั้งนี้เราสามารถใช้เครื่องหมายเปรียบสามารถใช้ได้กับข้อความได้ด้วยนะครับ เช่น"
      ]
    },
    {
      "cell_type": "code",
      "metadata": {
        "id": "FwxvFkMpQ9Ps",
        "colab_type": "code",
        "outputId": "d579684c-2e22-4b36-aba7-96d88530274b",
        "colab": {
          "base_uri": "https://localhost:8080/",
          "height": 70
        }
      },
      "source": [
        "print('hello' == 'hello')       # True\n",
        "print('hello' != 'world')       # True\n",
        "print('hello' < 'alphabet')     # False -- คอมพิวเตอร์เรียงลำดับข้อความตามตัวอักษร"
      ],
      "execution_count": 0,
      "outputs": [
        {
          "output_type": "stream",
          "text": [
            "True\n",
            "True\n",
            "False\n"
          ],
          "name": "stdout"
        }
      ]
    },
    {
      "cell_type": "markdown",
      "metadata": {
        "id": "qIZkbtmDQ9Px",
        "colab_type": "text"
      },
      "source": [
        "- นอกจากนี้เรายังสามารถใช้ตัวเชื่อมทางตรรกศาสตร์ได้ด้วยครับ\n",
        "\n",
        "| ตัวเชื่อม    | ความหมาย |           ตัวอย่าง           |\n",
        "|:---------:|:--------:|:--------------------------:|\n",
        "|   `and`   |    และ   |     `a == b and x == y`    |\n",
        "|    `or`   |    หรือ   |     `a != b or c != d`     |\n",
        "|   `not`   |    ไม่    |    `not (a > b)`    |\n",
        "|   `( )`   |   วงเล็บ  | `(a == b) and not (c > d)` |"
      ]
    },
    {
      "cell_type": "code",
      "metadata": {
        "id": "VQHU1eViQ9Py",
        "colab_type": "code",
        "outputId": "cb37aeab-12a5-48e9-90cb-08768eee964e",
        "colab": {
          "base_uri": "https://localhost:8080/",
          "height": 70
        }
      },
      "source": [
        "v1 = 100\n",
        "v2 = 200\n",
        "v3 = 300\n",
        "\n",
        "print(v1 == v2 and v2 == v3)                       # False and False = False\n",
        "print(v1 + v2 == v3 or v2 + v3 == v1)              # True or False = True\n",
        "print(not(v1 == v2 and v2 == v3) or v1 == v2)      # not(False and False) or False = True"
      ],
      "execution_count": 0,
      "outputs": [
        {
          "output_type": "stream",
          "text": [
            "False\n",
            "True\n",
            "True\n"
          ],
          "name": "stdout"
        }
      ]
    },
    {
      "cell_type": "markdown",
      "metadata": {
        "id": "Ik6s7hTuQ9P1",
        "colab_type": "text"
      },
      "source": [
        "### แบบฝึกหัด 7.1"
      ]
    },
    {
      "cell_type": "markdown",
      "metadata": {
        "id": "RG1G-faeQ9P2",
        "colab_type": "text"
      },
      "source": [
        "1. จงตั้งเงื่อนไขเพื่อให้คอมพิวเตอร์พิมพ์ข้อความว่า `'You are tall.'` ถ้าหากว่าความสูงในตัวแปร `my_height` มากกว่า 170"
      ]
    },
    {
      "cell_type": "code",
      "metadata": {
        "id": "L6dIqZBIQ9P2",
        "colab_type": "code",
        "outputId": "de73acfe-8646-4fcd-e49e-d6931c4717a0",
        "colab": {
          "base_uri": "https://localhost:8080/",
          "height": 34
        }
      },
      "source": [
        "my_height = 175\n",
        "\n",
        "if my_height > 170 :\n",
        "    print('You are tall.')"
      ],
      "execution_count": 0,
      "outputs": [
        {
          "output_type": "stream",
          "text": [
            "You are tall.\n"
          ],
          "name": "stdout"
        }
      ]
    },
    {
      "cell_type": "markdown",
      "metadata": {
        "id": "VvHtnvykQ9P4",
        "colab_type": "text"
      },
      "source": [
        "2. จงตั้งเงื่อนไขเพื่อให้คอมพิวเตอร์พิมพ์ข้อความว่า `'You are weathy and tall.'` ถ้าหากว่าเงินเดือนในตัวแปร `my_salary` มากกว่า 10000 และความสูงในตัวแปร `my_height` มากกว่า 170"
      ]
    },
    {
      "cell_type": "code",
      "metadata": {
        "id": "GyGlIzPmQ9P4",
        "colab_type": "code",
        "outputId": "d50605d8-1b3a-40d7-eab9-0bb8f958574f",
        "colab": {
          "base_uri": "https://localhost:8080/",
          "height": 34
        }
      },
      "source": [
        "my_salary = 15000\n",
        "my_height = 175\n",
        "\n",
        "if (my_salary > 10000) and (my_height > 170) :\n",
        "    print('You are wealthy and tall.')"
      ],
      "execution_count": 0,
      "outputs": [
        {
          "output_type": "stream",
          "text": [
            "You are wealthy and tall.\n"
          ],
          "name": "stdout"
        }
      ]
    },
    {
      "cell_type": "markdown",
      "metadata": {
        "id": "6fgd-6wiQ9P6",
        "colab_type": "text"
      },
      "source": [
        "3. จงตั้งเงื่อนไขเพื่อควบคุมการพิมพ์ความสูงของนักเรียนแต่ละคน โดยจะพิมพ์ออกมาเฉพาะคนที่มีความสูงมากกว่า 160 เซนติเมตรเท่านั้น [หมายเหตุ: จะสังเกตว่าโจทย์ข้อนี้จะใช้ทั้งลูปฟอร์และการตั้งเงื่อนไขประกอบกันได้ด้วย]"
      ]
    },
    {
      "cell_type": "code",
      "metadata": {
        "id": "ReO9tiYXQ9P7",
        "colab_type": "code",
        "outputId": "871c2903-4f71-4e69-be3c-06b713aa3f0c",
        "colab": {
          "base_uri": "https://localhost:8080/",
          "height": 87
        }
      },
      "source": [
        "student_heights = [163.5, 150.0, 167.0, 161.25, 170.0]\n",
        "\n",
        "for height in student_heights:\n",
        "    if height > 160 :\n",
        "        print(height)"
      ],
      "execution_count": 0,
      "outputs": [
        {
          "output_type": "stream",
          "text": [
            "163.5\n",
            "167.0\n",
            "161.25\n",
            "170.0\n"
          ],
          "name": "stdout"
        }
      ]
    },
    {
      "cell_type": "markdown",
      "metadata": {
        "id": "iHTjKhXyQ9P9",
        "colab_type": "text"
      },
      "source": [
        "4. จงตั้งเงื่อนไขเพื่อควบคุมการพิมพ์ชื่อของนักเรียนแต่ละคนและความสูงออกมา โดยจะพิมพ์ออกมาเฉพาะคนที่ชื่อนำหน้าด้วยตัวอักษรอื่น<u>**ที่ไม่ใช่**</u> `'A'` และ<u>**ไม่ใช่**</u> `'C'` และมีความสูงมากกว่า 160 เซนติเมตรเท่านั้น"
      ]
    },
    {
      "cell_type": "code",
      "metadata": {
        "id": "vJ5XkFefQ9P9",
        "colab_type": "code",
        "outputId": "25634da6-5fa1-4323-c669-60903a0488b4",
        "colab": {
          "base_uri": "https://localhost:8080/",
          "height": 52
        }
      },
      "source": [
        "student_names = ['Arm', 'Bobby', 'Cathy', 'Dorothy', 'Emily']\n",
        "student_heights = [163.5, 150.0, 167.0, 161.25, 170.0]\n",
        "\n",
        "for i in range(len(student_names)):\n",
        "    if (student_names[i][0] != 'A') and (student_names[i][0] != 'C') and student_heights[i] > 160 :\n",
        "        print(student_names[i], ':', student_heights[i])"
      ],
      "execution_count": 0,
      "outputs": [
        {
          "output_type": "stream",
          "text": [
            "Dorothy : 161.25\n",
            "Emily : 170.0\n"
          ],
          "name": "stdout"
        }
      ]
    },
    {
      "cell_type": "markdown",
      "metadata": {
        "id": "q6kIqGw9Q9P_",
        "colab_type": "text"
      },
      "source": [
        "### การรับข้อมูลผ่านคีย์บอร์ด"
      ]
    },
    {
      "cell_type": "markdown",
      "metadata": {
        "id": "11su_cFrQ9QA",
        "colab_type": "text"
      },
      "source": [
        "- เราสามารถรับอินพุตจากคีย์บอร์ดได้ด้วยคำสั่ง `input` ครับ แต่เวลาสั่งคำสั่งนี้แล้ว จะต้องหาตัวแปรมาเก็บค่าอินพุตที่รับมาด้วยเสมอ"
      ]
    },
    {
      "cell_type": "code",
      "metadata": {
        "id": "fwB-QCpEQ9QA",
        "colab_type": "code",
        "outputId": "c0a7688a-6b9f-433b-a41b-fc45e2fa9750",
        "colab": {
          "base_uri": "https://localhost:8080/",
          "height": 52
        }
      },
      "source": [
        "my_name = input('Enter your name: ')      # ใส่ข้อความเตือนผู้ใช้ที่ตรงนี้\n",
        "print('Hello,', my_name)"
      ],
      "execution_count": 0,
      "outputs": [
        {
          "output_type": "stream",
          "text": [
            "Enter your name: sabai\n",
            "Hello, sabai\n"
          ],
          "name": "stdout"
        }
      ]
    },
    {
      "cell_type": "markdown",
      "metadata": {
        "id": "fa1BTJkmQ9QC",
        "colab_type": "text"
      },
      "source": [
        "- ค่าที่รับมาได้จะอยู่ในรูปข้อความ (string) เสมอ\n",
        "- หากเราต้องการรับค่าตัวเลข เราจำเป็นต้องแปลงข้อความกลับมาเป็นตัวเลขด้วยคำสั่ง `int` และ `float` ตามลำดับครับ\n",
        "  - คำสั่ง `int` จะแปลงข้อความเป็นจำนวนเต็ม เช่น 10, 20, 30\n",
        "  - คำสั่ง `float` จะแปลงข้อความเป็นจำนวนจริง เช่น 0.25, 3.5, 10.0"
      ]
    },
    {
      "cell_type": "code",
      "metadata": {
        "id": "hfNF7TvTQ9QD",
        "colab_type": "code",
        "outputId": "fe6c7adc-a54f-4f4f-8511-e0f5a6d0779d",
        "colab": {
          "base_uri": "https://localhost:8080/",
          "height": 52
        }
      },
      "source": [
        "my_salary_str = input('Enter your salary: ')\n",
        "my_salary = int(my_salary_str)           # ต้องแปลงข้อความให้เป็นจำนวนเต็มก่อน ถึงจะเปรียบเทียบได้\n",
        "if my_salary > 10000:\n",
        "    print('Your salary is quite high.')"
      ],
      "execution_count": 0,
      "outputs": [
        {
          "output_type": "stream",
          "text": [
            "Enter your salary: 12313\n",
            "Your salary is quite high.\n"
          ],
          "name": "stdout"
        }
      ]
    },
    {
      "cell_type": "markdown",
      "metadata": {
        "id": "Myz9XRlPQ9QE",
        "colab_type": "text"
      },
      "source": [
        "- ลองรันโปรแกรมด้านบนใหม่อีกรอบ แต่คราวนี้ใส่เป็นข้อความที่ไม่ใช่จำนวนเต็มดูบ้างครับ เช่น `'Prachya'` หรือ `100.5` โปรแกรมจะระเบิดทันที\n",
        "- ที่คอมพิวเตอร์ฟ้องว่า `ValueError` นั้นหมายความว่า คอมพิวเตอร์ไม่สามารถแปลงข้อความให้กลายเป็นตัวเลขได้นั่นเองครับ"
      ]
    },
    {
      "cell_type": "markdown",
      "metadata": {
        "id": "FdK15codQ9QF",
        "colab_type": "text"
      },
      "source": [
        "### การกำหนดเงื่อนไขที่มี 2 ทางเลือก"
      ]
    },
    {
      "cell_type": "markdown",
      "metadata": {
        "id": "mFqAtsOyQ9QG",
        "colab_type": "text"
      },
      "source": [
        "- ในกรณีที่เราต้องการกำหนดเงื่อนไขที่มี 2 ทางเลือก เราสามารถใช้คำสั่ง `if ... else ...` (else แปลว่า 'ไม่เช่นนั้น') ได้ครับ\n",
        "- รูปแบบของเงื่อนไขที่มี 2 ทางเลือก\n",
        "\n",
        "```python\n",
        "if <เงื่อนไข> :\n",
        "    <กระบวนการ 1>\n",
        "else:\n",
        "    <กระบวนการ 2>\n",
        "```\n",
        "\n",
        "- ความหมายของคำสั่งนี้คือ ถ้าเงื่อนไขนี้เป็นจริง ก็ให้ทำกระบวนการที่ 1 ไม่เช่นนั้นก็ให้ทำกระบวนการที่ 2 แทน\n",
        "- เช่น โปรแกรมด้านล่างนี้จะพิมพ์ข้อความ `'Hurray!'` ถ้าหากว่าเงินเดือนในตัวแปร `salary` มีค่ามากกว่า 10,000 บาท หรือไม่เช่นนั้นก็พิมพ์ข้อความว่า `'Poor you.'` แทน"
      ]
    },
    {
      "cell_type": "code",
      "metadata": {
        "id": "Umw3rEmHQ9QG",
        "colab_type": "code",
        "outputId": "d84ddcd0-71f8-42c8-8b56-25d28a9a580a",
        "colab": {
          "base_uri": "https://localhost:8080/",
          "height": 34
        }
      },
      "source": [
        "salary = 5000\n",
        "\n",
        "if salary > 10000:\n",
        "    print('Hurray!')\n",
        "else:\n",
        "    print('Poor you.')"
      ],
      "execution_count": 0,
      "outputs": [
        {
          "output_type": "stream",
          "text": [
            "Poor you.\n"
          ],
          "name": "stdout"
        }
      ]
    },
    {
      "cell_type": "markdown",
      "metadata": {
        "id": "GA2KrH_VQ9QI",
        "colab_type": "text"
      },
      "source": [
        "### แบบฝึกหัด 7.2"
      ]
    },
    {
      "cell_type": "markdown",
      "metadata": {
        "id": "jJnNSC16Q9QJ",
        "colab_type": "text"
      },
      "source": [
        "จงตั้งเงื่อนไขเพื่อควบคุมการพิมพ์ชื่อของนักเรียนแต่ละคนและความสูงออกมา โดยจะพิมพ์ออกมาเฉพาะคนที่ชื่อนำหน้าด้วยตัวอักษรอื่นที่<u>**ไม่ใช่**</u> `'A'` และ<u>**ไม่ใช่**</u> `'C'` และมีความสูงมากกว่า 160 เซนติเมตรเท่านั้น ไม่เช่นนั้นก็ให้พิมพ์เฉพาะชื่อนักเรียนออกมาเท่านั้น"
      ]
    },
    {
      "cell_type": "code",
      "metadata": {
        "id": "BM9xxGUPQ9QJ",
        "colab_type": "code",
        "outputId": "b88e3340-c5c3-4a99-8911-5d8c36056b3e",
        "colab": {
          "base_uri": "https://localhost:8080/",
          "height": 105
        }
      },
      "source": [
        "student_names = ['Arm', 'Bobby', 'Cathy', 'Dorothy', 'Emily']\n",
        "student_heights = [163.5, 150.0, 167.0, 161.25, 170.0]\n",
        "\n",
        "for i in range(len(student_names)):\n",
        "    if (student_names[i][0] != 'A') and (student_names[i][0] != 'C') and student_heights[i] > 160 :\n",
        "        print(student_names[i], ':', student_heights[i])\n",
        "    else:\n",
        "        print(student_names[i])"
      ],
      "execution_count": 0,
      "outputs": [
        {
          "output_type": "stream",
          "text": [
            "Arm\n",
            "Bobby\n",
            "Cathy\n",
            "Dorothy : 161.25\n",
            "Emily : 170.0\n"
          ],
          "name": "stdout"
        }
      ]
    },
    {
      "cell_type": "markdown",
      "metadata": {
        "id": "PMW5xnPrQ9QL",
        "colab_type": "text"
      },
      "source": [
        "### การกำหนดเงื่อนไขแบบซับซ้อน"
      ]
    },
    {
      "cell_type": "markdown",
      "metadata": {
        "id": "W6H0Al53Q9QL",
        "colab_type": "text"
      },
      "source": [
        "- นอกจากนี้ หากเงื่อนไขของโปรแกรมมีความสลับซับซ้อน เช่น การตัดเกรดของนักเรียนที่ต้องทำแบ่งเป็นช่วงชั้น เราสามารถใช้การกำหนดเงื่อนไขแบบซับซ้อน `if ... elif ... else ...` ได้ครับ (`elif` ย่อมาจากคำว่า 'else if' แปลว่า 'ไม่เช่นนั้น ถ้าหาก')\n",
        "- รูปแบบของการกำหนดเงื่อนไขแบบซับซ้อน\n",
        "\n",
        "```python\n",
        "if <เงื่อนไข 1> :\n",
        "    <กระบวนการ 1>\n",
        "elif <เงื่อนไข 2> :\n",
        "    <กระบวนการ 2>\n",
        "elif <เงื่อนไข 3> :\n",
        "    <กระบวนการ 3>\n",
        "    :\n",
        "    :\n",
        "    :\n",
        "else:\n",
        "    <กระบวนการสุดท้าย>\n",
        "```\n",
        "\n",
        "- ความหมายของคำสั่งนี้คือ \n",
        "  1. ถ้าเงื่อนไข 1 นี้เป็นจริง ก็ให้ทำกระบวนการที่ 1\n",
        "  2. ไม่เช่นนั้นก็ให้เช็คเงื่อนไข 2 ถ้าเป็นจริง ก็ให้ทำกระบวนการที่ 2\n",
        "  3. ไม่เช่นนั้นก็ให้เช็คเงื่อนไข 3 ถ้าเป็นจริง ก็ให้ทำกระบวนการที่ 3\n",
        "  4. เราจะเช็คเงื่อนไขแบบนี้ไปเรื่อยๆ จนกระทั่งไม่เข้าเงื่อนไขใดเลย จึงทำกระบวนการสุดท้าย"
      ]
    },
    {
      "cell_type": "markdown",
      "metadata": {
        "id": "mMErc0GIQ9QM",
        "colab_type": "text"
      },
      "source": [
        "- เช่น ถ้าเราจะกำหนดเงื่อนไขเพื่อตัดเกรดของนักเรียน จากคะแนนเต็ม 100 คะแนน\n",
        "  1. ถ้าได้คะแนน 80 ขึ้นไป จะได้เกรด 4\n",
        "  2. ไม่เช่นนั้น ถ้าได้คะแนน 70 ขึ้นไป จะได้เกรด 3\n",
        "  3. ไม่เช่นนั้น ถ้าได้คะแนน 60 ขึ้นไป จะได้เกรด 2\n",
        "  4. ไม่เช่นนั้น ถ้าได้คะแนน 50 ขึ้นไป จะได้เกรด 1\n",
        "  5. ไม่เช่นนั้น จะได้เกรด 0"
      ]
    },
    {
      "cell_type": "code",
      "metadata": {
        "id": "zUajBgMjQ9QM",
        "colab_type": "code",
        "outputId": "e65d687f-0a9f-4209-8f15-075e8c1a15d5",
        "colab": {
          "base_uri": "https://localhost:8080/",
          "height": 52
        }
      },
      "source": [
        "score = int(input('Enter your score: '))\n",
        "\n",
        "if score >= 80:           # score >= 80\n",
        "    grade = 4\n",
        "elif score >= 70:         # 70 <= score <= 79\n",
        "    grade = 3\n",
        "elif score >= 60:         # 60 <= score <= 69\n",
        "    grade = 2\n",
        "elif score >= 50:         # 50 <= score <= 59\n",
        "    grade = 1\n",
        "else:                     # score < 50\n",
        "    grade = 0\n",
        "\n",
        "print('Your grade =', grade)"
      ],
      "execution_count": 0,
      "outputs": [
        {
          "output_type": "stream",
          "text": [
            "Enter your score: 100\n",
            "Your grade = 4\n"
          ],
          "name": "stdout"
        }
      ]
    },
    {
      "cell_type": "markdown",
      "metadata": {
        "id": "ZmQW9VFQQ9QP",
        "colab_type": "text"
      },
      "source": [
        "### คำสั่งออกจากลูป (break) และคำสั่งกระโดดไปสมาชิกตัวถัดไป (continue)"
      ]
    },
    {
      "cell_type": "markdown",
      "metadata": {
        "id": "QN1FYqFiQ9QP",
        "colab_type": "text"
      },
      "source": [
        "- เราสามารถออกจากลูปได้ด้วยคำสั่ง `break` ครับ\n",
        "- เช่น เราสามารถสั่งให้คอมพิวเตอร์พิมพ์ชื่อนักเรียนและความสูงตามลิสต์ด้านล่างออกมา จนกว่าความสูงจะมากกว่า 165 เซนติเมตรจึงจะหยุด ได้ด้วยคำสั่ง `break`"
      ]
    },
    {
      "cell_type": "code",
      "metadata": {
        "id": "ackEvHVYQ9QQ",
        "colab_type": "code",
        "outputId": "fc02694e-96f4-48c2-90fe-aa2b231b67ab",
        "colab": {
          "base_uri": "https://localhost:8080/",
          "height": 87
        }
      },
      "source": [
        "student_names = ['Arm', 'Bobby', 'Cathy', 'Dorothy', 'Emily']\n",
        "student_heights = [163.5, 150.0, 167.0, 161.25, 170.0]\n",
        "\n",
        "for i in range(len(student_heights)):\n",
        "    # พิมพ์ชื่อนักเรียนและความสูง\n",
        "    print(student_names[i], ':', student_heights[i])\n",
        "    # ถ้าความสูงของนักเรียนคนนั้น > 165 เซนติเมตร ให้ออกจากลูป\n",
        "    if student_heights[i] > 165.0:\n",
        "        break\n",
        "        \n",
        "print('That is all.')"
      ],
      "execution_count": 0,
      "outputs": [
        {
          "output_type": "stream",
          "text": [
            "Arm : 163.5\n",
            "Bobby : 150.0\n",
            "Cathy : 167.0\n",
            "That is all.\n"
          ],
          "name": "stdout"
        }
      ]
    },
    {
      "cell_type": "markdown",
      "metadata": {
        "id": "-UC0S7hnQ9QU",
        "colab_type": "text"
      },
      "source": [
        "- ส่วนคำสั่ง `continue` จะสั่งให้คอมพิวเตอร์เลิกทำกระบวนการที่กำลังทำกับสมาชิกตัวปัจจุบัน แล้วกระโดดไปสมาชิกตัวถัดไปทันทีครับ\n",
        "- เช่น เราสามารถสั่งให้คอมพิวเตอร์พิมพ์รายชื่อนักเรียนและความสูง แต่หากนักเรียนคนใดที่มีชื่อขึ้นต้นด้วยตัว `'A'` หรือตัว `'C'` ก็จะไม่ต้องพิมพ์ต่อท้ายว่า `blacklisted` ได้ดังนี้"
      ]
    },
    {
      "cell_type": "code",
      "metadata": {
        "id": "60g3GAdkQ9QU",
        "colab_type": "code",
        "outputId": "ab7db25d-a74b-40e9-8fce-b394a2cddc84",
        "colab": {
          "base_uri": "https://localhost:8080/",
          "height": 105
        }
      },
      "source": [
        "student_names = ['Arm', 'Bobby', 'Cathy', 'Dorothy', 'Emily']\n",
        "student_heights = [163.5, 150.0, 167.0, 161.25, 170.0]\n",
        "\n",
        "for i in range(len(student_heights)):\n",
        "    # พิมพ์ชื่อนักเรียนและความสูง\n",
        "    print(student_names[i], ':', student_heights[i], end='')\n",
        "    # ถ้าชื่อนักเรียนขึ้นต้นด้วยตัว A หรือตัว C ให้ตัดจบ แล้วไปสมาชิกตัวถัดไปทันที\n",
        "    if student_names[i][0] == 'A' or student_names[i][0] == 'C':\n",
        "        print()\n",
        "        continue\n",
        "    print(' --> blacklisted')\n",
        "    "
      ],
      "execution_count": 0,
      "outputs": [
        {
          "output_type": "stream",
          "text": [
            "Arm : 163.5\n",
            "Bobby : 150.0 --> blacklisted\n",
            "Cathy : 167.0\n",
            "Dorothy : 161.25 --> blacklisted\n",
            "Emily : 170.0 --> blacklisted\n"
          ],
          "name": "stdout"
        }
      ]
    },
    {
      "cell_type": "markdown",
      "metadata": {
        "id": "KonFAgDMQ9QX",
        "colab_type": "text"
      },
      "source": [
        "### แบบฝึกหัด 7.3"
      ]
    },
    {
      "cell_type": "markdown",
      "metadata": {
        "id": "8PkytrYCQ9QY",
        "colab_type": "text"
      },
      "source": [
        "จงเขียนโปรแกรมเพื่อแสดงรายการนักเรียนที่ได้เกรดตำกว่า 4 ถ้านักเรียนคนใดได้เกรดต่ำกว่า 3 ให้พิมพ์ข้อความเตือน `'warning'` ที่หลังเกรด และให้โปรแกรมหยุดการทำงานเมื่อพบนักเรียนที่ได้เกรดตำกว่า 2"
      ]
    },
    {
      "cell_type": "code",
      "metadata": {
        "id": "6iWpHCyJQ9QY",
        "colab_type": "code",
        "outputId": "f84c2745-dbf2-4220-811a-dcbbbd83af1f",
        "colab": {
          "base_uri": "https://localhost:8080/",
          "height": 70
        }
      },
      "source": [
        "student_names = ['Arm', 'Bobby', 'Cathy', 'Dorothy', 'Emily']\n",
        "student_scores = [86, 78, 54, 65, 34]\n",
        "\n",
        "for i in range(len(student_names)):\n",
        "    grade = 0\n",
        "    \n",
        "    # คำนวณเกรดของนักเรียน เก็บใส่ตัวแปร grade ไว้\n",
        "    if student_scores[i] >= 80:           # score >= 80\n",
        "      grade = 4\n",
        "    elif student_scores[i] >= 70:         # 70 <= score <= 79\n",
        "      grade = 3\n",
        "    elif student_scores[i] >= 60:         # 60 <= score <= 69\n",
        "      grade = 2\n",
        "    elif student_scores[i] >= 50:         # 50 <= score <= 59\n",
        "      grade = 1\n",
        "    else:                     # score < 50\n",
        "      grade = 0\n",
        "    \n",
        "    # ถ้าพบว่านักเรียนได้เกรด 4 ให้กระโดดข้ามไปนักเรียนคนถัดไป โดยใช้คำสั่ง continue\n",
        "    if grade == 4: \n",
        "      continue\n",
        "    \n",
        "    # พิมพ์ชื่อนักเรียนและเกรด โดยที่ยังไม่ต้องขึ้นบรรทัดใหม่\n",
        "    print(student_names[i], ':', grade, end='')\n",
        "    \n",
        "    # ถ้าพบนักเรียนคนใดได้เกรดตำกว่า 3 ให้พิมพ์ข้อความเตือนว่า 'warning' และขึ้นบรรทัดใหม่\n",
        "    if (grade < 3): \n",
        "      print(' warning')\n",
        "    \n",
        "    # หากพบนักเรียนที่ได้เกรดต่ำกว่า 2 ให้ออกจากลูปทันที โดยใช้คำสั่ง break\n",
        "    elif(grade < 2 ): break\n",
        "    "
      ],
      "execution_count": 0,
      "outputs": [
        {
          "output_type": "stream",
          "text": [
            "Bobby : 3Cathy : 1 warning\n",
            "Dorothy : 2 warning\n",
            "Emily : 0 warning\n"
          ],
          "name": "stdout"
        }
      ]
    },
    {
      "cell_type": "markdown",
      "metadata": {
        "id": "1pGr2WuVQ9Qa",
        "colab_type": "text"
      },
      "source": [
        "---------"
      ]
    },
    {
      "cell_type": "markdown",
      "metadata": {
        "id": "h-3zot7FQ9Qa",
        "colab_type": "text"
      },
      "source": [
        "## กิจกรรม 8: โจทย์เสริมทักษะ"
      ]
    },
    {
      "cell_type": "markdown",
      "metadata": {
        "id": "K3VzPtf5Q9Qb",
        "colab_type": "text"
      },
      "source": [
        "1. จงเขียนโปรแกรมเพื่อรับจำนวน $ n $ และพิมพ์พิระมิดชิดซ้ายที่มีขนาดเท่ากับ $ n $ เช่น\n",
        "\n",
        "```\n",
        "Enter the size of the left-angle pyramid (n): 5\n",
        "*\n",
        "**\n",
        "***\n",
        "****\n",
        "*****\n",
        "```"
      ]
    },
    {
      "cell_type": "code",
      "metadata": {
        "id": "iGQSwjdOQ9Qb",
        "colab_type": "code",
        "outputId": "e97db78b-1be2-4de3-f6e2-bb3d2bb76908",
        "colab": {
          "base_uri": "https://localhost:8080/",
          "height": 122
        }
      },
      "source": [
        "n = input('Enter the size of the left-angle pyrabid (n): ')\n",
        "for i in range (int(n)):\n",
        "  for j in range (i+1):\n",
        "    print('*', end='')\n",
        "  print()"
      ],
      "execution_count": 0,
      "outputs": [
        {
          "output_type": "stream",
          "text": [
            "Enter the size of the left-angle pyrabid (n): 5\n",
            "*\n",
            "**\n",
            "***\n",
            "****\n",
            "*****\n"
          ],
          "name": "stdout"
        }
      ]
    },
    {
      "cell_type": "markdown",
      "metadata": {
        "id": "Qy9XQVD7Q9Qd",
        "colab_type": "text"
      },
      "source": [
        "2. จงเขียนโปรแกรมเพื่อรับจำนวน $ h $ และพิมพ์พิระมิดที่มีความสูงเท่ากับ $ h $ เช่น\n",
        "\n",
        "```\n",
        "Enter the height of the pyramid (h): 5\n",
        "    *\n",
        "   ***\n",
        "  *****\n",
        " *******\n",
        "*********\n",
        "```"
      ]
    },
    {
      "cell_type": "code",
      "metadata": {
        "id": "SfVnJRM2Q9Qe",
        "colab_type": "code",
        "outputId": "9b5330fd-45d9-43d2-c565-06b1fd9b1015",
        "colab": {
          "base_uri": "https://localhost:8080/",
          "height": 140
        }
      },
      "source": [
        "h = input('Enter the size of the left-angle pyrabid (h): ')\n",
        "for i in range (int(h)+1):\n",
        "  for j in range (int(h)-i,0,-1):\n",
        "    print(' ', end='')\n",
        "  for k in range (2*i-1):\n",
        "    print('*', end='')\n",
        "  print()"
      ],
      "execution_count": 0,
      "outputs": [
        {
          "output_type": "stream",
          "text": [
            "Enter the size of the left-angle pyrabid (h): 5\n",
            "     \n",
            "    *\n",
            "   ***\n",
            "  *****\n",
            " *******\n",
            "*********\n"
          ],
          "name": "stdout"
        }
      ]
    },
    {
      "cell_type": "markdown",
      "metadata": {
        "id": "3uWrmnpDQ9Qf",
        "colab_type": "text"
      },
      "source": [
        "3. จงเขียนโปรแกรมเพื่อรับจำนวน $ h $ และพิมพ์รูปข้าวหลามตัดที่มีความสูงเท่ากับ $ 2h - 1 $ เช่น\n",
        "\n",
        "```\n",
        "Enter the height of club (h): 5\n",
        "    *\n",
        "   ***\n",
        "  *****\n",
        " *******\n",
        "*********\n",
        " *******\n",
        "  *****\n",
        "   ***\n",
        "    *\n",
        "```"
      ]
    },
    {
      "cell_type": "code",
      "metadata": {
        "id": "iVCpkr0xQ9Qg",
        "colab_type": "code",
        "outputId": "7aa8e4a7-f94f-4cb9-9f5f-dfe0ee9b69b9",
        "colab": {
          "base_uri": "https://localhost:8080/",
          "height": 210
        }
      },
      "source": [
        "h = input('Enter the size of the diamond (h): ')\n",
        "for i in range (2*int(h)):\n",
        "  if(int(h)-i>=0):\n",
        "    for j in range (int(h)-i,0,-1):\n",
        "      print(' ', end='')\n",
        "    for k in range (2*i-1):\n",
        "      print('*', end='')\n",
        "    print()\n",
        "  else:\n",
        "    for j in range (-(int(h)-i),0,-1):\n",
        "       print(' ', end='')\n",
        "    for k in range (2*(2*int(h)-i)-1):\n",
        "       print('*', end='')\n",
        "    print()\n",
        "for m in range (int(h))"
      ],
      "execution_count": 0,
      "outputs": [
        {
          "output_type": "stream",
          "text": [
            "Enter the size of the diamond (h): 5\n",
            "     \n",
            "    *\n",
            "   ***\n",
            "  *****\n",
            " *******\n",
            "*********\n",
            " *******\n",
            "  *****\n",
            "   ***\n",
            "    *\n"
          ],
          "name": "stdout"
        }
      ]
    },
    {
      "cell_type": "markdown",
      "metadata": {
        "id": "p7lxwPB-Q9Qh",
        "colab_type": "text"
      },
      "source": [
        "4. จงเขียนโปรแกรมเพื่อรับจำนวน $ h $ และพิมพ์รูปข้าวหลามตัดกลวงที่มีความสูงเท่ากับ $ 2h - 1 $ เช่น\n",
        "\n",
        "```\n",
        "Enter the height of hollow club (h): 5\n",
        "    *\n",
        "   * *\n",
        "  *   *\n",
        " *     *\n",
        "*       *\n",
        " *     *\n",
        "  *   *\n",
        "   * *\n",
        "    *\n",
        "```"
      ]
    },
    {
      "cell_type": "code",
      "metadata": {
        "id": "O3rS8Z3gQ9Qi",
        "colab_type": "code",
        "outputId": "5e354d94-f6be-4165-a3ef-0182e58657a6",
        "colab": {
          "base_uri": "https://localhost:8080/",
          "height": 210
        }
      },
      "source": [
        "h = input('Enter the size of the diamond (h): ')\n",
        "for i in range (2*int(h)):\n",
        "  if(int(h)-i>=0):\n",
        "    for j in range (int(h)-i,0,-1):\n",
        "      print(' ', end='')\n",
        "    for k in range (2*i-1):\n",
        "      if(k==0 or k==(2*i-2)):\n",
        "        print('*', end='')\n",
        "      else:\n",
        "        print(' ', end='')\n",
        "    print()\n",
        "  else:\n",
        "    for j in range (-(int(h)-i),0,-1):\n",
        "       print(' ', end='')\n",
        "    for k in range (2*(2*int(h)-i)-1):\n",
        "      if(k==0 or k==(2*(2*int(h)-i)-2)):\n",
        "        print('*', end='')\n",
        "      else:\n",
        "        print(' ', end='')\n",
        "    print()"
      ],
      "execution_count": 0,
      "outputs": [
        {
          "output_type": "stream",
          "text": [
            "Enter the size of the diamond (h): 5\n",
            "     \n",
            "    *\n",
            "   * *\n",
            "  *   *\n",
            " *     *\n",
            "*       *\n",
            " *     *\n",
            "  *   *\n",
            "   * *\n",
            "    *\n"
          ],
          "name": "stdout"
        }
      ]
    },
    {
      "cell_type": "code",
      "metadata": {
        "id": "RYhovUv14Igo",
        "colab_type": "code",
        "colab": {}
      },
      "source": [
        ""
      ],
      "execution_count": 0,
      "outputs": []
    }
  ]
}